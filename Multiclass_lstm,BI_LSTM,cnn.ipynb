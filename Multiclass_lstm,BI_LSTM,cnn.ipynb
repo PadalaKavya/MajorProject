{
  "cells": [
    {
      "cell_type": "markdown",
      "metadata": {
        "id": "view-in-github",
        "colab_type": "text"
      },
      "source": [
        "<a href=\"https://colab.research.google.com/github/PadalaKavya/MajorProject/blob/master/Multiclass_lstm%2CBI_LSTM%2Ccnn.ipynb\" target=\"_parent\"><img src=\"https://colab.research.google.com/assets/colab-badge.svg\" alt=\"Open In Colab\"/></a>"
      ]
    },
    {
      "cell_type": "markdown",
      "metadata": {
        "id": "4FTuTnsT4OHk"
      },
      "source": [
        "## Custom functions definition:"
      ]
    },
    {
      "cell_type": "code",
      "execution_count": null,
      "metadata": {
        "id": "v5ijsQnQ4OHk"
      },
      "outputs": [],
      "source": [
        "def conf_matrix(y, y_pred, title, labels):\n",
        "    fig, ax =plt.subplots(figsize=(7.5,7.5))\n",
        "    ax=sns.heatmap(confusion_matrix(y, y_pred), annot=True, cmap=\"Purples\", fmt='g', cbar=False, annot_kws={\"size\":30})\n",
        "    plt.title(title, fontsize=25)\n",
        "    ax.xaxis.set_ticklabels(labels, fontsize=16) \n",
        "    ax.yaxis.set_ticklabels(labels, fontsize=14.5)\n",
        "    ax.set_ylabel('Test', fontsize=25)\n",
        "    ax.set_xlabel('Predicted', fontsize=25)\n",
        "    plt.show()"
      ]
    },
    {
      "cell_type": "code",
      "execution_count": null,
      "metadata": {
        "id": "SbBVhYJnMf1U"
      },
      "outputs": [],
      "source": [
        "import torch\n",
        "device = torch.device(\"cuda:0\" if torch.cuda.is_available() else \"cpu\")"
      ]
    },
    {
      "cell_type": "markdown",
      "metadata": {
        "id": "OWkg5i9_4OHl"
      },
      "source": [
        "## Import libraries"
      ]
    },
    {
      "cell_type": "code",
      "execution_count": null,
      "metadata": {
        "colab": {
          "base_uri": "https://localhost:8080/",
          "height": 540
        },
        "id": "D0GOzHmK5QsH",
        "outputId": "fcf4b89c-4377-44e2-a6fa-f18815f2e522"
      },
      "outputs": [
        {
          "output_type": "stream",
          "name": "stdout",
          "text": [
            "Looking in indexes: https://pypi.org/simple, https://us-python.pkg.dev/colab-wheels/public/simple/\n",
            "Requirement already satisfied: emoji in /usr/local/lib/python3.9/dist-packages (2.2.0)\n"
          ]
        },
        {
          "output_type": "stream",
          "name": "stderr",
          "text": [
            "[nltk_data] Downloading package stopwords to /root/nltk_data...\n",
            "[nltk_data]   Package stopwords is already up-to-date!\n",
            "[nltk_data] Downloading package punkt to /root/nltk_data...\n",
            "[nltk_data]   Package punkt is already up-to-date!\n"
          ]
        },
        {
          "output_type": "stream",
          "name": "stdout",
          "text": [
            "Looking in indexes: https://pypi.org/simple, https://us-python.pkg.dev/colab-wheels/public/simple/\n",
            "Requirement already satisfied: transformers in /usr/local/lib/python3.9/dist-packages (4.27.4)\n",
            "Requirement already satisfied: pyyaml>=5.1 in /usr/local/lib/python3.9/dist-packages (from transformers) (6.0)\n",
            "Requirement already satisfied: filelock in /usr/local/lib/python3.9/dist-packages (from transformers) (3.10.7)\n",
            "Requirement already satisfied: regex!=2019.12.17 in /usr/local/lib/python3.9/dist-packages (from transformers) (2022.10.31)\n",
            "Requirement already satisfied: tqdm>=4.27 in /usr/local/lib/python3.9/dist-packages (from transformers) (4.65.0)\n",
            "Requirement already satisfied: tokenizers!=0.11.3,<0.14,>=0.11.1 in /usr/local/lib/python3.9/dist-packages (from transformers) (0.13.3)\n",
            "Requirement already satisfied: huggingface-hub<1.0,>=0.11.0 in /usr/local/lib/python3.9/dist-packages (from transformers) (0.13.4)\n",
            "Requirement already satisfied: packaging>=20.0 in /usr/local/lib/python3.9/dist-packages (from transformers) (23.0)\n",
            "Requirement already satisfied: requests in /usr/local/lib/python3.9/dist-packages (from transformers) (2.27.1)\n",
            "Requirement already satisfied: numpy>=1.17 in /usr/local/lib/python3.9/dist-packages (from transformers) (1.22.4)\n",
            "Requirement already satisfied: typing-extensions>=3.7.4.3 in /usr/local/lib/python3.9/dist-packages (from huggingface-hub<1.0,>=0.11.0->transformers) (4.5.0)\n",
            "Requirement already satisfied: certifi>=2017.4.17 in /usr/local/lib/python3.9/dist-packages (from requests->transformers) (2022.12.7)\n",
            "Requirement already satisfied: idna<4,>=2.5 in /usr/local/lib/python3.9/dist-packages (from requests->transformers) (3.4)\n",
            "Requirement already satisfied: charset-normalizer~=2.0.0 in /usr/local/lib/python3.9/dist-packages (from requests->transformers) (2.0.12)\n",
            "Requirement already satisfied: urllib3<1.27,>=1.21.1 in /usr/local/lib/python3.9/dist-packages (from requests->transformers) (1.26.15)\n",
            "Looking in indexes: https://pypi.org/simple, https://us-python.pkg.dev/colab-wheels/public/simple/\n",
            "Requirement already satisfied: gensim in /usr/local/lib/python3.9/dist-packages (3.8.0)\n",
            "Requirement already satisfied: smart-open>=1.7.0 in /usr/local/lib/python3.9/dist-packages (from gensim) (6.3.0)\n",
            "Requirement already satisfied: six>=1.5.0 in /usr/local/lib/python3.9/dist-packages (from gensim) (1.16.0)\n",
            "Requirement already satisfied: numpy>=1.11.3 in /usr/local/lib/python3.9/dist-packages (from gensim) (1.22.4)\n",
            "Requirement already satisfied: scipy>=0.18.1 in /usr/local/lib/python3.9/dist-packages (from gensim) (1.10.1)\n"
          ]
        },
        {
          "output_type": "display_data",
          "data": {
            "text/plain": [
              "<Figure size 640x480 with 0 Axes>"
            ]
          },
          "metadata": {}
        }
      ],
      "source": [
        "#Libraries for general purpose\n",
        "import pandas as pd\n",
        "import numpy as np\n",
        "import matplotlib.pyplot as plt\n",
        "import seaborn as sns\n",
        "\n",
        "#Text cleaning\n",
        "import re, string\n",
        "!pip install emoji\n",
        "import emoji\n",
        "import nltk \n",
        "nltk.download('stopwords')\n",
        "nltk.download('punkt')\n",
        "from nltk.stem import WordNetLemmatizer,PorterStemmer\n",
        "from nltk.corpus import stopwords\n",
        "stop_words = set(stopwords.words('english'))\n",
        "\n",
        "#Data preprocessing\n",
        "from sklearn import preprocessing\n",
        "from sklearn.model_selection import train_test_split\n",
        "from imblearn.over_sampling import RandomOverSampler\n",
        "\n",
        "#Naive Bayes\n",
        "from sklearn.feature_extraction.text import CountVectorizer\n",
        "from sklearn.feature_extraction.text import TfidfTransformer\n",
        "from sklearn.naive_bayes import MultinomialNB\n",
        "\n",
        "\n",
        "#PyTorch LSTM\n",
        "import torch\n",
        "import torch.nn as nn\n",
        "import torch.nn.functional as F\n",
        "from torch.utils.data import TensorDataset, DataLoader, RandomSampler, SequentialSampler\n",
        "\n",
        "#Tokenization for LSTM\n",
        "from collections import Counter\n",
        "from gensim.models import Word2Vec\n",
        "\n",
        "#Transformers library for BERT\n",
        "!pip install transformers\n",
        "import transformers\n",
        "from transformers import BertModel\n",
        "from transformers import BertTokenizer\n",
        "from transformers import AdamW, get_linear_schedule_with_warmup\n",
        "\n",
        "from sklearn.metrics import classification_report, confusion_matrix\n",
        "\n",
        "#Seed for reproducibility\n",
        "import random\n",
        "\n",
        "seed_value=42\n",
        "random.seed(seed_value)\n",
        "np.random.seed(seed_value)\n",
        "torch.manual_seed(seed_value)\n",
        "torch.cuda.manual_seed_all(seed_value)\n",
        "\n",
        "import time\n",
        "\n",
        "#set style for plots\n",
        "sns.set_style(\"whitegrid\")\n",
        "sns.despine()\n",
        "plt.style.use(\"seaborn-whitegrid\")\n",
        "plt.rc(\"figure\", autolayout=True)\n",
        "plt.rc(\"axes\", labelweight=\"bold\", labelsize=\"large\", titleweight=\"bold\", titlepad=10)\n",
        "%matplotlib inline\n",
        "!pip install gensim\n",
        "import warnings\n",
        "warnings.filterwarnings(action = 'ignore')\n",
        "import gensim\n",
        "from gensim.models import Word2Vec\n"
      ]
    },
    {
      "cell_type": "markdown",
      "metadata": {
        "id": "cN8oRxJVuIuK"
      },
      "source": []
    },
    {
      "cell_type": "markdown",
      "metadata": {
        "id": "qGfeyYaH4OHm"
      },
      "source": [
        "## Data Import"
      ]
    },
    {
      "cell_type": "code",
      "execution_count": null,
      "metadata": {
        "id": "aCVJ1XJi5QsI"
      },
      "outputs": [],
      "source": [
        "df = pd.read_csv(\"cyberbullying_tweets.csv\")"
      ]
    },
    {
      "cell_type": "code",
      "execution_count": null,
      "metadata": {
        "colab": {
          "base_uri": "https://localhost:8080/",
          "height": 206
        },
        "id": "NPhe4rM35QsJ",
        "outputId": "78ae199f-5347-4ca5-8508-509f1ca52b79"
      },
      "outputs": [
        {
          "output_type": "execute_result",
          "data": {
            "text/plain": [
              "                                          tweet_text cyberbullying_type\n",
              "0  In other words #katandandre, your food was cra...  not_cyberbullying\n",
              "1  Why is #aussietv so white? #MKR #theblock #ImA...  not_cyberbullying\n",
              "2  @XochitlSuckkks a classy whore? Or more red ve...  not_cyberbullying\n",
              "3  @Jason_Gio meh. :P  thanks for the heads up, b...  not_cyberbullying\n",
              "4  @RudhoeEnglish This is an ISIS account pretend...  not_cyberbullying"
            ],
            "text/html": [
              "\n",
              "  <div id=\"df-7e671447-90f3-4b08-abda-6106547dfe7a\">\n",
              "    <div class=\"colab-df-container\">\n",
              "      <div>\n",
              "<style scoped>\n",
              "    .dataframe tbody tr th:only-of-type {\n",
              "        vertical-align: middle;\n",
              "    }\n",
              "\n",
              "    .dataframe tbody tr th {\n",
              "        vertical-align: top;\n",
              "    }\n",
              "\n",
              "    .dataframe thead th {\n",
              "        text-align: right;\n",
              "    }\n",
              "</style>\n",
              "<table border=\"1\" class=\"dataframe\">\n",
              "  <thead>\n",
              "    <tr style=\"text-align: right;\">\n",
              "      <th></th>\n",
              "      <th>tweet_text</th>\n",
              "      <th>cyberbullying_type</th>\n",
              "    </tr>\n",
              "  </thead>\n",
              "  <tbody>\n",
              "    <tr>\n",
              "      <th>0</th>\n",
              "      <td>In other words #katandandre, your food was cra...</td>\n",
              "      <td>not_cyberbullying</td>\n",
              "    </tr>\n",
              "    <tr>\n",
              "      <th>1</th>\n",
              "      <td>Why is #aussietv so white? #MKR #theblock #ImA...</td>\n",
              "      <td>not_cyberbullying</td>\n",
              "    </tr>\n",
              "    <tr>\n",
              "      <th>2</th>\n",
              "      <td>@XochitlSuckkks a classy whore? Or more red ve...</td>\n",
              "      <td>not_cyberbullying</td>\n",
              "    </tr>\n",
              "    <tr>\n",
              "      <th>3</th>\n",
              "      <td>@Jason_Gio meh. :P  thanks for the heads up, b...</td>\n",
              "      <td>not_cyberbullying</td>\n",
              "    </tr>\n",
              "    <tr>\n",
              "      <th>4</th>\n",
              "      <td>@RudhoeEnglish This is an ISIS account pretend...</td>\n",
              "      <td>not_cyberbullying</td>\n",
              "    </tr>\n",
              "  </tbody>\n",
              "</table>\n",
              "</div>\n",
              "      <button class=\"colab-df-convert\" onclick=\"convertToInteractive('df-7e671447-90f3-4b08-abda-6106547dfe7a')\"\n",
              "              title=\"Convert this dataframe to an interactive table.\"\n",
              "              style=\"display:none;\">\n",
              "        \n",
              "  <svg xmlns=\"http://www.w3.org/2000/svg\" height=\"24px\"viewBox=\"0 0 24 24\"\n",
              "       width=\"24px\">\n",
              "    <path d=\"M0 0h24v24H0V0z\" fill=\"none\"/>\n",
              "    <path d=\"M18.56 5.44l.94 2.06.94-2.06 2.06-.94-2.06-.94-.94-2.06-.94 2.06-2.06.94zm-11 1L8.5 8.5l.94-2.06 2.06-.94-2.06-.94L8.5 2.5l-.94 2.06-2.06.94zm10 10l.94 2.06.94-2.06 2.06-.94-2.06-.94-.94-2.06-.94 2.06-2.06.94z\"/><path d=\"M17.41 7.96l-1.37-1.37c-.4-.4-.92-.59-1.43-.59-.52 0-1.04.2-1.43.59L10.3 9.45l-7.72 7.72c-.78.78-.78 2.05 0 2.83L4 21.41c.39.39.9.59 1.41.59.51 0 1.02-.2 1.41-.59l7.78-7.78 2.81-2.81c.8-.78.8-2.07 0-2.86zM5.41 20L4 18.59l7.72-7.72 1.47 1.35L5.41 20z\"/>\n",
              "  </svg>\n",
              "      </button>\n",
              "      \n",
              "  <style>\n",
              "    .colab-df-container {\n",
              "      display:flex;\n",
              "      flex-wrap:wrap;\n",
              "      gap: 12px;\n",
              "    }\n",
              "\n",
              "    .colab-df-convert {\n",
              "      background-color: #E8F0FE;\n",
              "      border: none;\n",
              "      border-radius: 50%;\n",
              "      cursor: pointer;\n",
              "      display: none;\n",
              "      fill: #1967D2;\n",
              "      height: 32px;\n",
              "      padding: 0 0 0 0;\n",
              "      width: 32px;\n",
              "    }\n",
              "\n",
              "    .colab-df-convert:hover {\n",
              "      background-color: #E2EBFA;\n",
              "      box-shadow: 0px 1px 2px rgba(60, 64, 67, 0.3), 0px 1px 3px 1px rgba(60, 64, 67, 0.15);\n",
              "      fill: #174EA6;\n",
              "    }\n",
              "\n",
              "    [theme=dark] .colab-df-convert {\n",
              "      background-color: #3B4455;\n",
              "      fill: #D2E3FC;\n",
              "    }\n",
              "\n",
              "    [theme=dark] .colab-df-convert:hover {\n",
              "      background-color: #434B5C;\n",
              "      box-shadow: 0px 1px 3px 1px rgba(0, 0, 0, 0.15);\n",
              "      filter: drop-shadow(0px 1px 2px rgba(0, 0, 0, 0.3));\n",
              "      fill: #FFFFFF;\n",
              "    }\n",
              "  </style>\n",
              "\n",
              "      <script>\n",
              "        const buttonEl =\n",
              "          document.querySelector('#df-7e671447-90f3-4b08-abda-6106547dfe7a button.colab-df-convert');\n",
              "        buttonEl.style.display =\n",
              "          google.colab.kernel.accessAllowed ? 'block' : 'none';\n",
              "\n",
              "        async function convertToInteractive(key) {\n",
              "          const element = document.querySelector('#df-7e671447-90f3-4b08-abda-6106547dfe7a');\n",
              "          const dataTable =\n",
              "            await google.colab.kernel.invokeFunction('convertToInteractive',\n",
              "                                                     [key], {});\n",
              "          if (!dataTable) return;\n",
              "\n",
              "          const docLinkHtml = 'Like what you see? Visit the ' +\n",
              "            '<a target=\"_blank\" href=https://colab.research.google.com/notebooks/data_table.ipynb>data table notebook</a>'\n",
              "            + ' to learn more about interactive tables.';\n",
              "          element.innerHTML = '';\n",
              "          dataTable['output_type'] = 'display_data';\n",
              "          await google.colab.output.renderOutput(dataTable, element);\n",
              "          const docLink = document.createElement('div');\n",
              "          docLink.innerHTML = docLinkHtml;\n",
              "          element.appendChild(docLink);\n",
              "        }\n",
              "      </script>\n",
              "    </div>\n",
              "  </div>\n",
              "  "
            ]
          },
          "metadata": {},
          "execution_count": 90
        }
      ],
      "source": [
        "df.head()"
      ]
    },
    {
      "cell_type": "code",
      "execution_count": null,
      "metadata": {
        "colab": {
          "base_uri": "https://localhost:8080/"
        },
        "id": "ji7kd2cd4OHn",
        "outputId": "a2469e7b-2581-4ae1-8a10-b980b4bd2873"
      },
      "outputs": [
        {
          "output_type": "stream",
          "name": "stdout",
          "text": [
            "<class 'pandas.core.frame.DataFrame'>\n",
            "RangeIndex: 47692 entries, 0 to 47691\n",
            "Data columns (total 2 columns):\n",
            " #   Column              Non-Null Count  Dtype \n",
            "---  ------              --------------  ----- \n",
            " 0   tweet_text          47692 non-null  object\n",
            " 1   cyberbullying_type  47692 non-null  object\n",
            "dtypes: object(2)\n",
            "memory usage: 745.3+ KB\n"
          ]
        }
      ],
      "source": [
        "df.info()"
      ]
    },
    {
      "cell_type": "code",
      "execution_count": null,
      "metadata": {
        "colab": {
          "base_uri": "https://localhost:8080/",
          "height": 487
        },
        "id": "1s4qCZtmsyQR",
        "outputId": "857e8035-7431-4045-ec19-611144c5ef77"
      },
      "outputs": [
        {
          "output_type": "display_data",
          "data": {
            "text/plain": [
              "<Figure size 640x480 with 1 Axes>"
            ],
            "image/png": "[encoded data removed]"
          },
          "metadata": {}
        }
      ],
      "source": [
        "import matplotlib.pyplot as plt\n",
        "type_count = df['cyberbullying_type'].value_counts()\n",
        "plt.pie(type_count, labels=type_count.index,\n",
        "        autopct='%1.1f%%', shadow=True, startangle=140)\n",
        "plt.show()"
      ]
    },
    {
      "cell_type": "code",
      "execution_count": null,
      "metadata": {
        "id": "AwUN352x5QsK"
      },
      "outputs": [],
      "source": [
        "df = df.rename(columns={'tweet_text': 'text', 'cyberbullying_type': 'sentiment'})"
      ]
    },
    {
      "cell_type": "code",
      "execution_count": null,
      "metadata": {
        "colab": {
          "base_uri": "https://localhost:8080/"
        },
        "id": "c82luV2N5QsN",
        "outputId": "f8f45ad5-dd0d-4ef7-a8ab-8c7fd137c44b"
      },
      "outputs": [
        {
          "output_type": "execute_result",
          "data": {
            "text/plain": [
              "religion               7998\n",
              "age                    7992\n",
              "gender                 7973\n",
              "ethnicity              7961\n",
              "not_cyberbullying      7945\n",
              "other_cyberbullying    7823\n",
              "Name: sentiment, dtype: int64"
            ]
          },
          "metadata": {},
          "execution_count": 94
        }
      ],
      "source": [
        "df.sentiment.value_counts()"
      ]
    },
    {
      "cell_type": "code",
      "execution_count": null,
      "metadata": {
        "id": "xVLQRczFsvhV"
      },
      "outputs": [],
      "source": []
    },
    {
      "cell_type": "markdown",
      "metadata": {
        "id": "DGmYrF4d5QsP"
      },
      "source": [
        "# Tweets text deep cleaning"
      ]
    },
    {
      "cell_type": "code",
      "execution_count": null,
      "metadata": {
        "id": "E5E1UwMc5QsQ"
      },
      "outputs": [],
      "source": [
        "##CUSTOM DEFINED FUNCTIONS TO CLEAN THE TWEETS\n",
        "\n",
        "#Remove punctuations, links, stopwords, mentions and \\r\\n new line characters\n",
        "def strip_all_entities(text): \n",
        "    text = text.replace('\\r', '').replace('\\n', ' ').lower() #remove \\n and \\r and lowercase\n",
        "    text = re.sub(r\"(?:\\@|https?\\://)\\S+\", \"\", text) #remove links and mentions\n",
        "    text = re.sub(r'[^\\x00-\\x7f]',r'', text) #remove non utf8/ascii characters such as '\\x9a\\x91\\x97\\x9a\\x97'\n",
        "    banned_list= string.punctuation\n",
        "    table = str.maketrans('', '', banned_list)\n",
        "    text = text.translate(table)\n",
        "    text = [word for word in text.split() if word not in stop_words]\n",
        "    text = ' '.join(text)\n",
        "    text =' '.join(word for word in text.split() if len(word) < 14) # remove words longer than 14 characters\n",
        "    return text\n",
        "\n",
        "#remove contractions\n",
        "def decontract(text):\n",
        "    text = re.sub(r\"can\\'t\", \"can not\", text)\n",
        "    text = re.sub(r\"n\\'t\", \" not\", text)\n",
        "    text = re.sub(r\"\\'re\", \" are\", text)\n",
        "    text = re.sub(r\"\\'s\", \" is\", text)\n",
        "    text = re.sub(r\"\\'d\", \" would\", text)\n",
        "    text = re.sub(r\"\\'ll\", \" will\", text)\n",
        "    text = re.sub(r\"\\'t\", \" not\", text)\n",
        "    text = re.sub(r\"\\'ve\", \" have\", text)\n",
        "    text = re.sub(r\"\\'m\", \" am\", text)\n",
        "    return text\n",
        "\n",
        "#clean hashtags at the end of the sentence, and keep those in the middle of the sentence by removing just the \"#\" symbol\n",
        "def clean_hashtags(tweet):\n",
        "    new_tweet = \" \".join(word.strip() for word in re.split('#(?!(?:hashtag)\\b)[\\w-]+(?=(?:\\s+#[\\w-]+)*\\s*$)', tweet)) #remove last hashtags\n",
        "    new_tweet2 = \" \".join(word.strip() for word in re.split('#|_', new_tweet)) #remove hashtags symbol from words in the middle of the sentence\n",
        "    return new_tweet2\n",
        "\n",
        "#Filter special characters such as \"&\" and \"$\" present in some words\n",
        "def filter_chars(a):\n",
        "    sent = []\n",
        "    for word in a.split(' '):\n",
        "        if ('$' in word) | ('&' in word):\n",
        "            sent.append('')\n",
        "        else:\n",
        "            sent.append(word)\n",
        "    return ' '.join(sent)\n",
        "\n",
        "#Remove multiple sequential spaces\n",
        "def remove_mult_spaces(text):\n",
        "    return re.sub(\"\\s\\s+\" , \" \", text)\n",
        "\n",
        "#Stemming\n",
        "def stemmer(text):\n",
        "    tokenized = nltk.word_tokenize(text)\n",
        "    ps = PorterStemmer()\n",
        "    return ' '.join([ps.stem(words) for words in tokenized])\n",
        "\n",
        "#Lemmatization \n",
        "#NOTE:Stemming seems to work better for this dataset\n",
        "def lemmatize(text):\n",
        "    tokenized = nltk.word_tokenize(text)\n",
        "    lm = WordNetLemmatizer()\n",
        "    return ' '.join([lm.lemmatize(words) for words in tokenized])\n",
        "\n",
        "#Then we apply all the defined functions in the following order\n",
        "def deep_clean(text):\n",
        "    \n",
        "    text = decontract(text)\n",
        "    text = strip_all_entities(text)\n",
        "    text = clean_hashtags(text)\n",
        "    text = filter_chars(text)\n",
        "    text = remove_mult_spaces(text)\n",
        "    text = stemmer(text)\n",
        "    return text"
      ]
    },
    {
      "cell_type": "code",
      "execution_count": null,
      "metadata": {
        "id": "Lx-xXilI5QsT"
      },
      "outputs": [],
      "source": [
        "texts_new = []\n",
        "for t in df.text:\n",
        "    texts_new.append(deep_clean(t))"
      ]
    },
    {
      "cell_type": "code",
      "execution_count": null,
      "metadata": {
        "id": "Ah-xjjhv5QsT"
      },
      "outputs": [],
      "source": [
        "df['text_clean'] = texts_new"
      ]
    },
    {
      "cell_type": "code",
      "execution_count": null,
      "metadata": {
        "colab": {
          "base_uri": "https://localhost:8080/",
          "height": 206
        },
        "id": "4qEoAkeO4OHq",
        "outputId": "e7151ebb-a803-4d44-c439-bf999b1c8da0"
      },
      "outputs": [
        {
          "output_type": "execute_result",
          "data": {
            "text/plain": [
              "                                                text          sentiment  \\\n",
              "0  In other words #katandandre, your food was cra...  not_cyberbullying   \n",
              "1  Why is #aussietv so white? #MKR #theblock #ImA...  not_cyberbullying   \n",
              "2  @XochitlSuckkks a classy whore? Or more red ve...  not_cyberbullying   \n",
              "3  @Jason_Gio meh. :P  thanks for the heads up, b...  not_cyberbullying   \n",
              "4  @RudhoeEnglish This is an ISIS account pretend...  not_cyberbullying   \n",
              "\n",
              "                                          text_clean  \n",
              "0                 word katandandr food crapilici mkr  \n",
              "1  aussietv white mkr theblock today sunris studi...  \n",
              "2                     classi whore red velvet cupcak  \n",
              "3  meh p thank head concern anoth angri dude twitter  \n",
              "4  isi account pretend kurdish account like islam...  "
            ],
            "text/html": [
              "\n",
              "  <div id=\"df-476c15db-b7e5-444e-806c-3637ed3ac027\">\n",
              "    <div class=\"colab-df-container\">\n",
              "      <div>\n",
              "<style scoped>\n",
              "    .dataframe tbody tr th:only-of-type {\n",
              "        vertical-align: middle;\n",
              "    }\n",
              "\n",
              "    .dataframe tbody tr th {\n",
              "        vertical-align: top;\n",
              "    }\n",
              "\n",
              "    .dataframe thead th {\n",
              "        text-align: right;\n",
              "    }\n",
              "</style>\n",
              "<table border=\"1\" class=\"dataframe\">\n",
              "  <thead>\n",
              "    <tr style=\"text-align: right;\">\n",
              "      <th></th>\n",
              "      <th>text</th>\n",
              "      <th>sentiment</th>\n",
              "      <th>text_clean</th>\n",
              "    </tr>\n",
              "  </thead>\n",
              "  <tbody>\n",
              "    <tr>\n",
              "      <th>0</th>\n",
              "      <td>In other words #katandandre, your food was cra...</td>\n",
              "      <td>not_cyberbullying</td>\n",
              "      <td>word katandandr food crapilici mkr</td>\n",
              "    </tr>\n",
              "    <tr>\n",
              "      <th>1</th>\n",
              "      <td>Why is #aussietv so white? #MKR #theblock #ImA...</td>\n",
              "      <td>not_cyberbullying</td>\n",
              "      <td>aussietv white mkr theblock today sunris studi...</td>\n",
              "    </tr>\n",
              "    <tr>\n",
              "      <th>2</th>\n",
              "      <td>@XochitlSuckkks a classy whore? Or more red ve...</td>\n",
              "      <td>not_cyberbullying</td>\n",
              "      <td>classi whore red velvet cupcak</td>\n",
              "    </tr>\n",
              "    <tr>\n",
              "      <th>3</th>\n",
              "      <td>@Jason_Gio meh. :P  thanks for the heads up, b...</td>\n",
              "      <td>not_cyberbullying</td>\n",
              "      <td>meh p thank head concern anoth angri dude twitter</td>\n",
              "    </tr>\n",
              "    <tr>\n",
              "      <th>4</th>\n",
              "      <td>@RudhoeEnglish This is an ISIS account pretend...</td>\n",
              "      <td>not_cyberbullying</td>\n",
              "      <td>isi account pretend kurdish account like islam...</td>\n",
              "    </tr>\n",
              "  </tbody>\n",
              "</table>\n",
              "</div>\n",
              "      <button class=\"colab-df-convert\" onclick=\"convertToInteractive('df-476c15db-b7e5-444e-806c-3637ed3ac027')\"\n",
              "              title=\"Convert this dataframe to an interactive table.\"\n",
              "              style=\"display:none;\">\n",
              "        \n",
              "  <svg xmlns=\"http://www.w3.org/2000/svg\" height=\"24px\"viewBox=\"0 0 24 24\"\n",
              "       width=\"24px\">\n",
              "    <path d=\"M0 0h24v24H0V0z\" fill=\"none\"/>\n",
              "    <path d=\"M18.56 5.44l.94 2.06.94-2.06 2.06-.94-2.06-.94-.94-2.06-.94 2.06-2.06.94zm-11 1L8.5 8.5l.94-2.06 2.06-.94-2.06-.94L8.5 2.5l-.94 2.06-2.06.94zm10 10l.94 2.06.94-2.06 2.06-.94-2.06-.94-.94-2.06-.94 2.06-2.06.94z\"/><path d=\"M17.41 7.96l-1.37-1.37c-.4-.4-.92-.59-1.43-.59-.52 0-1.04.2-1.43.59L10.3 9.45l-7.72 7.72c-.78.78-.78 2.05 0 2.83L4 21.41c.39.39.9.59 1.41.59.51 0 1.02-.2 1.41-.59l7.78-7.78 2.81-2.81c.8-.78.8-2.07 0-2.86zM5.41 20L4 18.59l7.72-7.72 1.47 1.35L5.41 20z\"/>\n",
              "  </svg>\n",
              "      </button>\n",
              "      \n",
              "  <style>\n",
              "    .colab-df-container {\n",
              "      display:flex;\n",
              "      flex-wrap:wrap;\n",
              "      gap: 12px;\n",
              "    }\n",
              "\n",
              "    .colab-df-convert {\n",
              "      background-color: #E8F0FE;\n",
              "      border: none;\n",
              "      border-radius: 50%;\n",
              "      cursor: pointer;\n",
              "      display: none;\n",
              "      fill: #1967D2;\n",
              "      height: 32px;\n",
              "      padding: 0 0 0 0;\n",
              "      width: 32px;\n",
              "    }\n",
              "\n",
              "    .colab-df-convert:hover {\n",
              "      background-color: #E2EBFA;\n",
              "      box-shadow: 0px 1px 2px rgba(60, 64, 67, 0.3), 0px 1px 3px 1px rgba(60, 64, 67, 0.15);\n",
              "      fill: #174EA6;\n",
              "    }\n",
              "\n",
              "    [theme=dark] .colab-df-convert {\n",
              "      background-color: #3B4455;\n",
              "      fill: #D2E3FC;\n",
              "    }\n",
              "\n",
              "    [theme=dark] .colab-df-convert:hover {\n",
              "      background-color: #434B5C;\n",
              "      box-shadow: 0px 1px 3px 1px rgba(0, 0, 0, 0.15);\n",
              "      filter: drop-shadow(0px 1px 2px rgba(0, 0, 0, 0.3));\n",
              "      fill: #FFFFFF;\n",
              "    }\n",
              "  </style>\n",
              "\n",
              "      <script>\n",
              "        const buttonEl =\n",
              "          document.querySelector('#df-476c15db-b7e5-444e-806c-3637ed3ac027 button.colab-df-convert');\n",
              "        buttonEl.style.display =\n",
              "          google.colab.kernel.accessAllowed ? 'block' : 'none';\n",
              "\n",
              "        async function convertToInteractive(key) {\n",
              "          const element = document.querySelector('#df-476c15db-b7e5-444e-806c-3637ed3ac027');\n",
              "          const dataTable =\n",
              "            await google.colab.kernel.invokeFunction('convertToInteractive',\n",
              "                                                     [key], {});\n",
              "          if (!dataTable) return;\n",
              "\n",
              "          const docLinkHtml = 'Like what you see? Visit the ' +\n",
              "            '<a target=\"_blank\" href=https://colab.research.google.com/notebooks/data_table.ipynb>data table notebook</a>'\n",
              "            + ' to learn more about interactive tables.';\n",
              "          element.innerHTML = '';\n",
              "          dataTable['output_type'] = 'display_data';\n",
              "          await google.colab.output.renderOutput(dataTable, element);\n",
              "          const docLink = document.createElement('div');\n",
              "          docLink.innerHTML = docLinkHtml;\n",
              "          element.appendChild(docLink);\n",
              "        }\n",
              "      </script>\n",
              "    </div>\n",
              "  </div>\n",
              "  "
            ]
          },
          "metadata": {},
          "execution_count": 98
        }
      ],
      "source": [
        "df.head()"
      ]
    },
    {
      "cell_type": "code",
      "execution_count": null,
      "metadata": {
        "colab": {
          "base_uri": "https://localhost:8080/"
        },
        "id": "hhgyrUQrdICU",
        "outputId": "d7c1bdac-4ab0-413e-db83-d28ac13d8065"
      },
      "outputs": [
        {
          "output_type": "execute_result",
          "data": {
            "text/plain": [
              "(47692, 3)"
            ]
          },
          "metadata": {},
          "execution_count": 99
        }
      ],
      "source": [
        "df.shape"
      ]
    },
    {
      "cell_type": "code",
      "execution_count": null,
      "metadata": {
        "colab": {
          "base_uri": "https://localhost:8080/"
        },
        "id": "r5DHDI7QdCfu",
        "outputId": "e3ede747-aede-4e37-ebc2-3656f7d76ca3"
      },
      "outputs": [
        {
          "output_type": "execute_result",
          "data": {
            "text/plain": [
              "3094"
            ]
          },
          "metadata": {},
          "execution_count": 100
        }
      ],
      "source": [
        "df[\"text_clean\"].duplicated().sum()"
      ]
    },
    {
      "cell_type": "code",
      "execution_count": null,
      "metadata": {
        "id": "DLqSkw924OHr"
      },
      "outputs": [],
      "source": [
        "df.drop_duplicates(\"text_clean\", inplace=True)"
      ]
    },
    {
      "cell_type": "code",
      "execution_count": null,
      "metadata": {
        "colab": {
          "base_uri": "https://localhost:8080/"
        },
        "id": "tdCDSt1PdpXG",
        "outputId": "ee33b361-b1b0-47ce-f03e-e581ed2349d4"
      },
      "outputs": [
        {
          "output_type": "execute_result",
          "data": {
            "text/plain": [
              "(44598, 3)"
            ]
          },
          "metadata": {},
          "execution_count": 102
        }
      ],
      "source": [
        "df.shape"
      ]
    },
    {
      "cell_type": "code",
      "execution_count": null,
      "metadata": {
        "colab": {
          "base_uri": "https://localhost:8080/",
          "height": 423
        },
        "id": "Pagq6JYQhOHL",
        "outputId": "8831e43b-7092-4a6b-94dc-0ca240f6b24d"
      },
      "outputs": [
        {
          "output_type": "execute_result",
          "data": {
            "text/plain": [
              "                                                    text          sentiment  \\\n",
              "0      In other words #katandandre, your food was cra...  not_cyberbullying   \n",
              "1      Why is #aussietv so white? #MKR #theblock #ImA...  not_cyberbullying   \n",
              "2      @XochitlSuckkks a classy whore? Or more red ve...  not_cyberbullying   \n",
              "3      @Jason_Gio meh. :P  thanks for the heads up, b...  not_cyberbullying   \n",
              "4      @RudhoeEnglish This is an ISIS account pretend...  not_cyberbullying   \n",
              "...                                                  ...                ...   \n",
              "47687  Black ppl aren't expected to do anything, depe...          ethnicity   \n",
              "47688  Turner did not withhold his disappointment. Tu...          ethnicity   \n",
              "47689  I swear to God. This dumb nigger bitch. I have...          ethnicity   \n",
              "47690  Yea fuck you RT @therealexel: IF YOURE A NIGGE...          ethnicity   \n",
              "47691  Bro. U gotta chill RT @CHILLShrammy: Dog FUCK ...          ethnicity   \n",
              "\n",
              "                                              text_clean  \n",
              "0                     word katandandr food crapilici mkr  \n",
              "1      aussietv white mkr theblock today sunris studi...  \n",
              "2                         classi whore red velvet cupcak  \n",
              "3      meh p thank head concern anoth angri dude twitter  \n",
              "4      isi account pretend kurdish account like islam...  \n",
              "...                                                  ...  \n",
              "47687  black ppl expect anyth depend anyth yet free p...  \n",
              "47688  turner withhold turner call court abomin concl...  \n",
              "47689  swear god dumb nigger bitch got bleach hair re...  \n",
              "47690  yea fuck rt your nigger fuck unfollow fuck dum...  \n",
              "47691  bro u got ta chill rt dog fuck kp dumb nigger ...  \n",
              "\n",
              "[44598 rows x 3 columns]"
            ],
            "text/html": [
              "\n",
              "  <div id=\"df-e015acac-4769-4838-983c-db641f0359e4\">\n",
              "    <div class=\"colab-df-container\">\n",
              "      <div>\n",
              "<style scoped>\n",
              "    .dataframe tbody tr th:only-of-type {\n",
              "        vertical-align: middle;\n",
              "    }\n",
              "\n",
              "    .dataframe tbody tr th {\n",
              "        vertical-align: top;\n",
              "    }\n",
              "\n",
              "    .dataframe thead th {\n",
              "        text-align: right;\n",
              "    }\n",
              "</style>\n",
              "<table border=\"1\" class=\"dataframe\">\n",
              "  <thead>\n",
              "    <tr style=\"text-align: right;\">\n",
              "      <th></th>\n",
              "      <th>text</th>\n",
              "      <th>sentiment</th>\n",
              "      <th>text_clean</th>\n",
              "    </tr>\n",
              "  </thead>\n",
              "  <tbody>\n",
              "    <tr>\n",
              "      <th>0</th>\n",
              "      <td>In other words #katandandre, your food was cra...</td>\n",
              "      <td>not_cyberbullying</td>\n",
              "      <td>word katandandr food crapilici mkr</td>\n",
              "    </tr>\n",
              "    <tr>\n",
              "      <th>1</th>\n",
              "      <td>Why is #aussietv so white? #MKR #theblock #ImA...</td>\n",
              "      <td>not_cyberbullying</td>\n",
              "      <td>aussietv white mkr theblock today sunris studi...</td>\n",
              "    </tr>\n",
              "    <tr>\n",
              "      <th>2</th>\n",
              "      <td>@XochitlSuckkks a classy whore? Or more red ve...</td>\n",
              "      <td>not_cyberbullying</td>\n",
              "      <td>classi whore red velvet cupcak</td>\n",
              "    </tr>\n",
              "    <tr>\n",
              "      <th>3</th>\n",
              "      <td>@Jason_Gio meh. :P  thanks for the heads up, b...</td>\n",
              "      <td>not_cyberbullying</td>\n",
              "      <td>meh p thank head concern anoth angri dude twitter</td>\n",
              "    </tr>\n",
              "    <tr>\n",
              "      <th>4</th>\n",
              "      <td>@RudhoeEnglish This is an ISIS account pretend...</td>\n",
              "      <td>not_cyberbullying</td>\n",
              "      <td>isi account pretend kurdish account like islam...</td>\n",
              "    </tr>\n",
              "    <tr>\n",
              "      <th>...</th>\n",
              "      <td>...</td>\n",
              "      <td>...</td>\n",
              "      <td>...</td>\n",
              "    </tr>\n",
              "    <tr>\n",
              "      <th>47687</th>\n",
              "      <td>Black ppl aren't expected to do anything, depe...</td>\n",
              "      <td>ethnicity</td>\n",
              "      <td>black ppl expect anyth depend anyth yet free p...</td>\n",
              "    </tr>\n",
              "    <tr>\n",
              "      <th>47688</th>\n",
              "      <td>Turner did not withhold his disappointment. Tu...</td>\n",
              "      <td>ethnicity</td>\n",
              "      <td>turner withhold turner call court abomin concl...</td>\n",
              "    </tr>\n",
              "    <tr>\n",
              "      <th>47689</th>\n",
              "      <td>I swear to God. This dumb nigger bitch. I have...</td>\n",
              "      <td>ethnicity</td>\n",
              "      <td>swear god dumb nigger bitch got bleach hair re...</td>\n",
              "    </tr>\n",
              "    <tr>\n",
              "      <th>47690</th>\n",
              "      <td>Yea fuck you RT @therealexel: IF YOURE A NIGGE...</td>\n",
              "      <td>ethnicity</td>\n",
              "      <td>yea fuck rt your nigger fuck unfollow fuck dum...</td>\n",
              "    </tr>\n",
              "    <tr>\n",
              "      <th>47691</th>\n",
              "      <td>Bro. U gotta chill RT @CHILLShrammy: Dog FUCK ...</td>\n",
              "      <td>ethnicity</td>\n",
              "      <td>bro u got ta chill rt dog fuck kp dumb nigger ...</td>\n",
              "    </tr>\n",
              "  </tbody>\n",
              "</table>\n",
              "<p>44598 rows × 3 columns</p>\n",
              "</div>\n",
              "      <button class=\"colab-df-convert\" onclick=\"convertToInteractive('df-e015acac-4769-4838-983c-db641f0359e4')\"\n",
              "              title=\"Convert this dataframe to an interactive table.\"\n",
              "              style=\"display:none;\">\n",
              "        \n",
              "  <svg xmlns=\"http://www.w3.org/2000/svg\" height=\"24px\"viewBox=\"0 0 24 24\"\n",
              "       width=\"24px\">\n",
              "    <path d=\"M0 0h24v24H0V0z\" fill=\"none\"/>\n",
              "    <path d=\"M18.56 5.44l.94 2.06.94-2.06 2.06-.94-2.06-.94-.94-2.06-.94 2.06-2.06.94zm-11 1L8.5 8.5l.94-2.06 2.06-.94-2.06-.94L8.5 2.5l-.94 2.06-2.06.94zm10 10l.94 2.06.94-2.06 2.06-.94-2.06-.94-.94-2.06-.94 2.06-2.06.94z\"/><path d=\"M17.41 7.96l-1.37-1.37c-.4-.4-.92-.59-1.43-.59-.52 0-1.04.2-1.43.59L10.3 9.45l-7.72 7.72c-.78.78-.78 2.05 0 2.83L4 21.41c.39.39.9.59 1.41.59.51 0 1.02-.2 1.41-.59l7.78-7.78 2.81-2.81c.8-.78.8-2.07 0-2.86zM5.41 20L4 18.59l7.72-7.72 1.47 1.35L5.41 20z\"/>\n",
              "  </svg>\n",
              "      </button>\n",
              "      \n",
              "  <style>\n",
              "    .colab-df-container {\n",
              "      display:flex;\n",
              "      flex-wrap:wrap;\n",
              "      gap: 12px;\n",
              "    }\n",
              "\n",
              "    .colab-df-convert {\n",
              "      background-color: #E8F0FE;\n",
              "      border: none;\n",
              "      border-radius: 50%;\n",
              "      cursor: pointer;\n",
              "      display: none;\n",
              "      fill: #1967D2;\n",
              "      height: 32px;\n",
              "      padding: 0 0 0 0;\n",
              "      width: 32px;\n",
              "    }\n",
              "\n",
              "    .colab-df-convert:hover {\n",
              "      background-color: #E2EBFA;\n",
              "      box-shadow: 0px 1px 2px rgba(60, 64, 67, 0.3), 0px 1px 3px 1px rgba(60, 64, 67, 0.15);\n",
              "      fill: #174EA6;\n",
              "    }\n",
              "\n",
              "    [theme=dark] .colab-df-convert {\n",
              "      background-color: #3B4455;\n",
              "      fill: #D2E3FC;\n",
              "    }\n",
              "\n",
              "    [theme=dark] .colab-df-convert:hover {\n",
              "      background-color: #434B5C;\n",
              "      box-shadow: 0px 1px 3px 1px rgba(0, 0, 0, 0.15);\n",
              "      filter: drop-shadow(0px 1px 2px rgba(0, 0, 0, 0.3));\n",
              "      fill: #FFFFFF;\n",
              "    }\n",
              "  </style>\n",
              "\n",
              "      <script>\n",
              "        const buttonEl =\n",
              "          document.querySelector('#df-e015acac-4769-4838-983c-db641f0359e4 button.colab-df-convert');\n",
              "        buttonEl.style.display =\n",
              "          google.colab.kernel.accessAllowed ? 'block' : 'none';\n",
              "\n",
              "        async function convertToInteractive(key) {\n",
              "          const element = document.querySelector('#df-e015acac-4769-4838-983c-db641f0359e4');\n",
              "          const dataTable =\n",
              "            await google.colab.kernel.invokeFunction('convertToInteractive',\n",
              "                                                     [key], {});\n",
              "          if (!dataTable) return;\n",
              "\n",
              "          const docLinkHtml = 'Like what you see? Visit the ' +\n",
              "            '<a target=\"_blank\" href=https://colab.research.google.com/notebooks/data_table.ipynb>data table notebook</a>'\n",
              "            + ' to learn more about interactive tables.';\n",
              "          element.innerHTML = '';\n",
              "          dataTable['output_type'] = 'display_data';\n",
              "          await google.colab.output.renderOutput(dataTable, element);\n",
              "          const docLink = document.createElement('div');\n",
              "          docLink.innerHTML = docLinkHtml;\n",
              "          element.appendChild(docLink);\n",
              "        }\n",
              "      </script>\n",
              "    </div>\n",
              "  </div>\n",
              "  "
            ]
          },
          "metadata": {},
          "execution_count": 103
        }
      ],
      "source": [
        "df"
      ]
    },
    {
      "cell_type": "code",
      "execution_count": null,
      "metadata": {
        "colab": {
          "base_uri": "https://localhost:8080/"
        },
        "id": "qxQj0MBZ4OHs",
        "outputId": "c9944dc5-e405-465a-c5f1-9e0712a268e2"
      },
      "outputs": [
        {
          "output_type": "execute_result",
          "data": {
            "text/plain": [
              "religion               7946\n",
              "age                    7884\n",
              "ethnicity              7744\n",
              "not_cyberbullying      7637\n",
              "gender                 7607\n",
              "other_cyberbullying    5780\n",
              "Name: sentiment, dtype: int64"
            ]
          },
          "metadata": {},
          "execution_count": 104
        }
      ],
      "source": [
        "df.sentiment.value_counts()"
      ]
    },
    {
      "cell_type": "code",
      "execution_count": null,
      "metadata": {
        "id": "I33_dhYy4OHs"
      },
      "outputs": [],
      "source": [
        "df = df[df[\"sentiment\"]!=\"other_cyberbullying\"]"
      ]
    },
    {
      "cell_type": "code",
      "execution_count": null,
      "metadata": {
        "id": "wRw4cbsj4OHs"
      },
      "outputs": [],
      "source": [
        "sentiments = [\"religion\",\"age\",\"ethnicity\",\"gender\",\"not bullying\"]"
      ]
    },
    {
      "cell_type": "markdown",
      "metadata": {
        "id": "PLwRaYcQ4OHs"
      },
      "source": [
        "# Tweets length analysis"
      ]
    },
    {
      "cell_type": "code",
      "execution_count": null,
      "metadata": {
        "id": "vQsHVXTA5QsV"
      },
      "outputs": [],
      "source": [
        "text_len = []\n",
        "for text in df.text_clean:\n",
        "    tweet_len = len(text.split())\n",
        "    text_len.append(tweet_len)"
      ]
    },
    {
      "cell_type": "code",
      "execution_count": null,
      "metadata": {
        "id": "op665CKx5QsV"
      },
      "outputs": [],
      "source": [
        "df['text_len'] = text_len"
      ]
    },
    {
      "cell_type": "code",
      "execution_count": null,
      "metadata": {
        "colab": {
          "base_uri": "https://localhost:8080/",
          "height": 53
        },
        "id": "HZcu8uGh5QsW",
        "outputId": "219a19c5-295e-4491-cb91-d1fbec80ce00"
      },
      "outputs": [
        {
          "output_type": "execute_result",
          "data": {
            "text/plain": [
              "\"\\nplt.figure(figsize=(7,5))\\nax = sns.countplot(x='text_len', data=df[df['text_len']<10], palette='mako')\\nplt.title('Count of tweets with less than 10 words', fontsize=20)\\nplt.yticks([])\\nax.bar_label(ax.containers[0])\\nplt.ylabel('count')\\nplt.xlabel('')\\nplt.show()\\n\""
            ],
            "application/vnd.google.colaboratory.intrinsic+json": {
              "type": "string"
            }
          },
          "metadata": {},
          "execution_count": 109
        }
      ],
      "source": [
        "'''\n",
        "plt.figure(figsize=(7,5))\n",
        "ax = sns.countplot(x='text_len', data=df[df['text_len']<10], palette='mako')\n",
        "plt.title('Count of tweets with less than 10 words', fontsize=20)\n",
        "plt.yticks([])\n",
        "ax.bar_label(ax.containers[0])\n",
        "plt.ylabel('count')\n",
        "plt.xlabel('')\n",
        "plt.show()\n",
        "'''"
      ]
    },
    {
      "cell_type": "code",
      "execution_count": null,
      "metadata": {
        "id": "6rEvtAXE5QsX"
      },
      "outputs": [],
      "source": [
        "df = df[df['text_len'] > 3]"
      ]
    },
    {
      "cell_type": "code",
      "execution_count": null,
      "metadata": {
        "colab": {
          "base_uri": "https://localhost:8080/",
          "height": 423
        },
        "id": "2Dv2aZRv5QsY",
        "outputId": "665f505f-4dd4-49cf-fed7-b38b5f04c9c4"
      },
      "outputs": [
        {
          "output_type": "execute_result",
          "data": {
            "text/plain": [
              "                                                    text          sentiment  \\\n",
              "44035  You so black and white trying to live like a n...          ethnicity   \n",
              "45165  @hermdiggz: “@tayyoung_: FUCK OBAMA, dumb ass ...          ethnicity   \n",
              "33724  ... I don't feel guilty for killing him, I jus...                age   \n",
              "1317   @EurekAlertAAAS: Researchers push to import to...  not_cyberbullying   \n",
              "47037  @Purely_Ambition: Sooo mad. RT @TracePeterson ...          ethnicity   \n",
              "...                                                  ...                ...   \n",
              "10274  @holliebakerlutz What does that 23% figure rep...             gender   \n",
              "5229                      are bully sticks for dogs safe  not_cyberbullying   \n",
              "10314  RT @Mr_LayedBak: I'm not sexist... but women r...             gender   \n",
              "5237                      *hands you a bag of trail mix*  not_cyberbullying   \n",
              "8275   @feministlah @GreenWeiner Picture was gender n...             gender   \n",
              "\n",
              "                                              text_clean  text_len  \n",
              "44035  black white tri live like nigger pahahahaha co...       187  \n",
              "45165  fuck obama dumb ass nigger bitch ltthi whore s...       162  \n",
              "33724  feel guilti kill feel guilti enjoy torment sin...       137  \n",
              "1317   research push import top antibulli program us ...       137  \n",
              "47037  sooo mad rt fuck obama dumb nigger go switzerl...       125  \n",
              "...                                                  ...       ...  \n",
              "10274                              23 figur repres deriv         4  \n",
              "5229                                bulli stick dog safe         4  \n",
              "10314                                rt sexist women ref         4  \n",
              "5237                                  hand bag trail mix         4  \n",
              "8275                        pictur gender neutral butsur         4  \n",
              "\n",
              "[37122 rows x 4 columns]"
            ],
            "text/html": [
              "\n",
              "  <div id=\"df-45db176d-e9a6-4f0e-9326-c1b47668eeb0\">\n",
              "    <div class=\"colab-df-container\">\n",
              "      <div>\n",
              "<style scoped>\n",
              "    .dataframe tbody tr th:only-of-type {\n",
              "        vertical-align: middle;\n",
              "    }\n",
              "\n",
              "    .dataframe tbody tr th {\n",
              "        vertical-align: top;\n",
              "    }\n",
              "\n",
              "    .dataframe thead th {\n",
              "        text-align: right;\n",
              "    }\n",
              "</style>\n",
              "<table border=\"1\" class=\"dataframe\">\n",
              "  <thead>\n",
              "    <tr style=\"text-align: right;\">\n",
              "      <th></th>\n",
              "      <th>text</th>\n",
              "      <th>sentiment</th>\n",
              "      <th>text_clean</th>\n",
              "      <th>text_len</th>\n",
              "    </tr>\n",
              "  </thead>\n",
              "  <tbody>\n",
              "    <tr>\n",
              "      <th>44035</th>\n",
              "      <td>You so black and white trying to live like a n...</td>\n",
              "      <td>ethnicity</td>\n",
              "      <td>black white tri live like nigger pahahahaha co...</td>\n",
              "      <td>187</td>\n",
              "    </tr>\n",
              "    <tr>\n",
              "      <th>45165</th>\n",
              "      <td>@hermdiggz: “@tayyoung_: FUCK OBAMA, dumb ass ...</td>\n",
              "      <td>ethnicity</td>\n",
              "      <td>fuck obama dumb ass nigger bitch ltthi whore s...</td>\n",
              "      <td>162</td>\n",
              "    </tr>\n",
              "    <tr>\n",
              "      <th>33724</th>\n",
              "      <td>... I don't feel guilty for killing him, I jus...</td>\n",
              "      <td>age</td>\n",
              "      <td>feel guilti kill feel guilti enjoy torment sin...</td>\n",
              "      <td>137</td>\n",
              "    </tr>\n",
              "    <tr>\n",
              "      <th>1317</th>\n",
              "      <td>@EurekAlertAAAS: Researchers push to import to...</td>\n",
              "      <td>not_cyberbullying</td>\n",
              "      <td>research push import top antibulli program us ...</td>\n",
              "      <td>137</td>\n",
              "    </tr>\n",
              "    <tr>\n",
              "      <th>47037</th>\n",
              "      <td>@Purely_Ambition: Sooo mad. RT @TracePeterson ...</td>\n",
              "      <td>ethnicity</td>\n",
              "      <td>sooo mad rt fuck obama dumb nigger go switzerl...</td>\n",
              "      <td>125</td>\n",
              "    </tr>\n",
              "    <tr>\n",
              "      <th>...</th>\n",
              "      <td>...</td>\n",
              "      <td>...</td>\n",
              "      <td>...</td>\n",
              "      <td>...</td>\n",
              "    </tr>\n",
              "    <tr>\n",
              "      <th>10274</th>\n",
              "      <td>@holliebakerlutz What does that 23% figure rep...</td>\n",
              "      <td>gender</td>\n",
              "      <td>23 figur repres deriv</td>\n",
              "      <td>4</td>\n",
              "    </tr>\n",
              "    <tr>\n",
              "      <th>5229</th>\n",
              "      <td>are bully sticks for dogs safe</td>\n",
              "      <td>not_cyberbullying</td>\n",
              "      <td>bulli stick dog safe</td>\n",
              "      <td>4</td>\n",
              "    </tr>\n",
              "    <tr>\n",
              "      <th>10314</th>\n",
              "      <td>RT @Mr_LayedBak: I'm not sexist... but women r...</td>\n",
              "      <td>gender</td>\n",
              "      <td>rt sexist women ref</td>\n",
              "      <td>4</td>\n",
              "    </tr>\n",
              "    <tr>\n",
              "      <th>5237</th>\n",
              "      <td>*hands you a bag of trail mix*</td>\n",
              "      <td>not_cyberbullying</td>\n",
              "      <td>hand bag trail mix</td>\n",
              "      <td>4</td>\n",
              "    </tr>\n",
              "    <tr>\n",
              "      <th>8275</th>\n",
              "      <td>@feministlah @GreenWeiner Picture was gender n...</td>\n",
              "      <td>gender</td>\n",
              "      <td>pictur gender neutral butsur</td>\n",
              "      <td>4</td>\n",
              "    </tr>\n",
              "  </tbody>\n",
              "</table>\n",
              "<p>37122 rows × 4 columns</p>\n",
              "</div>\n",
              "      <button class=\"colab-df-convert\" onclick=\"convertToInteractive('df-45db176d-e9a6-4f0e-9326-c1b47668eeb0')\"\n",
              "              title=\"Convert this dataframe to an interactive table.\"\n",
              "              style=\"display:none;\">\n",
              "        \n",
              "  <svg xmlns=\"http://www.w3.org/2000/svg\" height=\"24px\"viewBox=\"0 0 24 24\"\n",
              "       width=\"24px\">\n",
              "    <path d=\"M0 0h24v24H0V0z\" fill=\"none\"/>\n",
              "    <path d=\"M18.56 5.44l.94 2.06.94-2.06 2.06-.94-2.06-.94-.94-2.06-.94 2.06-2.06.94zm-11 1L8.5 8.5l.94-2.06 2.06-.94-2.06-.94L8.5 2.5l-.94 2.06-2.06.94zm10 10l.94 2.06.94-2.06 2.06-.94-2.06-.94-.94-2.06-.94 2.06-2.06.94z\"/><path d=\"M17.41 7.96l-1.37-1.37c-.4-.4-.92-.59-1.43-.59-.52 0-1.04.2-1.43.59L10.3 9.45l-7.72 7.72c-.78.78-.78 2.05 0 2.83L4 21.41c.39.39.9.59 1.41.59.51 0 1.02-.2 1.41-.59l7.78-7.78 2.81-2.81c.8-.78.8-2.07 0-2.86zM5.41 20L4 18.59l7.72-7.72 1.47 1.35L5.41 20z\"/>\n",
              "  </svg>\n",
              "      </button>\n",
              "      \n",
              "  <style>\n",
              "    .colab-df-container {\n",
              "      display:flex;\n",
              "      flex-wrap:wrap;\n",
              "      gap: 12px;\n",
              "    }\n",
              "\n",
              "    .colab-df-convert {\n",
              "      background-color: #E8F0FE;\n",
              "      border: none;\n",
              "      border-radius: 50%;\n",
              "      cursor: pointer;\n",
              "      display: none;\n",
              "      fill: #1967D2;\n",
              "      height: 32px;\n",
              "      padding: 0 0 0 0;\n",
              "      width: 32px;\n",
              "    }\n",
              "\n",
              "    .colab-df-convert:hover {\n",
              "      background-color: #E2EBFA;\n",
              "      box-shadow: 0px 1px 2px rgba(60, 64, 67, 0.3), 0px 1px 3px 1px rgba(60, 64, 67, 0.15);\n",
              "      fill: #174EA6;\n",
              "    }\n",
              "\n",
              "    [theme=dark] .colab-df-convert {\n",
              "      background-color: #3B4455;\n",
              "      fill: #D2E3FC;\n",
              "    }\n",
              "\n",
              "    [theme=dark] .colab-df-convert:hover {\n",
              "      background-color: #434B5C;\n",
              "      box-shadow: 0px 1px 3px 1px rgba(0, 0, 0, 0.15);\n",
              "      filter: drop-shadow(0px 1px 2px rgba(0, 0, 0, 0.3));\n",
              "      fill: #FFFFFF;\n",
              "    }\n",
              "  </style>\n",
              "\n",
              "      <script>\n",
              "        const buttonEl =\n",
              "          document.querySelector('#df-45db176d-e9a6-4f0e-9326-c1b47668eeb0 button.colab-df-convert');\n",
              "        buttonEl.style.display =\n",
              "          google.colab.kernel.accessAllowed ? 'block' : 'none';\n",
              "\n",
              "        async function convertToInteractive(key) {\n",
              "          const element = document.querySelector('#df-45db176d-e9a6-4f0e-9326-c1b47668eeb0');\n",
              "          const dataTable =\n",
              "            await google.colab.kernel.invokeFunction('convertToInteractive',\n",
              "                                                     [key], {});\n",
              "          if (!dataTable) return;\n",
              "\n",
              "          const docLinkHtml = 'Like what you see? Visit the ' +\n",
              "            '<a target=\"_blank\" href=https://colab.research.google.com/notebooks/data_table.ipynb>data table notebook</a>'\n",
              "            + ' to learn more about interactive tables.';\n",
              "          element.innerHTML = '';\n",
              "          dataTable['output_type'] = 'display_data';\n",
              "          await google.colab.output.renderOutput(dataTable, element);\n",
              "          const docLink = document.createElement('div');\n",
              "          docLink.innerHTML = docLinkHtml;\n",
              "          element.appendChild(docLink);\n",
              "        }\n",
              "      </script>\n",
              "    </div>\n",
              "  </div>\n",
              "  "
            ]
          },
          "metadata": {},
          "execution_count": 111
        }
      ],
      "source": [
        "df.sort_values(by=['text_len'], ascending=False)"
      ]
    },
    {
      "cell_type": "code",
      "execution_count": null,
      "metadata": {
        "colab": {
          "base_uri": "https://localhost:8080/",
          "height": 70
        },
        "id": "Zt9YFv935QsY",
        "outputId": "7d697fc6-4795-41fb-ae78-81dd2def8ada"
      },
      "outputs": [
        {
          "output_type": "execute_result",
          "data": {
            "text/plain": [
              "\"\\nplt.figure(figsize=(16,5))\\nax = sns.countplot(x='text_len', data=df[(df['text_len']<=1000) & (df['text_len']>10)], palette='Blues_r')\\nplt.title('Count of tweets with high number of words', fontsize=25)\\nplt.yticks([])\\nax.bar_label(ax.containers[0])\\nplt.ylabel('count')\\nplt.xlabel('')\\nplt.show()\\n\""
            ],
            "application/vnd.google.colaboratory.intrinsic+json": {
              "type": "string"
            }
          },
          "metadata": {},
          "execution_count": 112
        }
      ],
      "source": [
        "'''\n",
        "plt.figure(figsize=(16,5))\n",
        "ax = sns.countplot(x='text_len', data=df[(df['text_len']<=1000) & (df['text_len']>10)], palette='Blues_r')\n",
        "plt.title('Count of tweets with high number of words', fontsize=25)\n",
        "plt.yticks([])\n",
        "ax.bar_label(ax.containers[0])\n",
        "plt.ylabel('count')\n",
        "plt.xlabel('')\n",
        "plt.show()\n",
        "'''"
      ]
    },
    {
      "cell_type": "code",
      "execution_count": null,
      "metadata": {
        "id": "teb7a02F5QsY"
      },
      "outputs": [],
      "source": [
        "df = df[df['text_len'] < 100]"
      ]
    },
    {
      "cell_type": "code",
      "execution_count": null,
      "metadata": {
        "colab": {
          "base_uri": "https://localhost:8080/"
        },
        "id": "HyQak-0QI9Mk",
        "outputId": "6ed9ce5b-5abf-4004-f324-0b931d65133a"
      },
      "outputs": [
        {
          "output_type": "execute_result",
          "data": {
            "text/plain": [
              "79"
            ]
          },
          "metadata": {},
          "execution_count": 114
        }
      ],
      "source": [
        "max_len = np.max(df['text_len'])\n",
        "max_len "
      ]
    },
    {
      "cell_type": "code",
      "execution_count": null,
      "metadata": {
        "colab": {
          "base_uri": "https://localhost:8080/",
          "height": 423
        },
        "id": "NZD-8GJd5Qsa",
        "outputId": "7f2076c5-bbab-40d9-ab3f-b711597955b4"
      },
      "outputs": [
        {
          "output_type": "execute_result",
          "data": {
            "text/plain": [
              "                                                    text          sentiment  \\\n",
              "4846   @andrea_gcav: @viviaanajim recuerdas como noso...  not_cyberbullying   \n",
              "44294  @JasmineLovvee If He Dont Want You Well Fuck H...          ethnicity   \n",
              "45930  Get off ur ego trip, take off ur rose colored ...          ethnicity   \n",
              "21241  And yet God was able to meet their needs using...           religion   \n",
              "41749  @seijohgorl hoy mami keito AAAA okay so um ika...          ethnicity   \n",
              "...                                                  ...                ...   \n",
              "44750       What the fuck you dumb nigger I hate you now          ethnicity   \n",
              "1673      @UMTony lmao! I really wanted to take it down!  not_cyberbullying   \n",
              "35335          He's a grade school bully. He's a coward!                age   \n",
              "3920                      Need to let my anger out dude.  not_cyberbullying   \n",
              "1377   @GlennF I have been quietly helping some gator...  not_cyberbullying   \n",
              "\n",
              "                                              text_clean  text_len  \n",
              "4846   recuerda como nosotra tambin eramo victima del...        79  \n",
              "44294  dont want well fuck aint worth tear never swea...        73  \n",
              "45930  get ur ego trip take ur rose color glass amp g...        45  \n",
              "21241  yet god abl meet need use radic everyday gener...        43  \n",
              "41749  hoy mami keito aaaa okay um ikaw talaga one fi...        43  \n",
              "...                                                  ...       ...  \n",
              "44750                              fuck dumb nigger hate         4  \n",
              "1673                               lmao realli want take         4  \n",
              "35335                          grade school bulli coward         4  \n",
              "3920                                 need let anger dude         4  \n",
              "1377                          quietli help gator alreadi         4  \n",
              "\n",
              "[37113 rows x 4 columns]"
            ],
            "text/html": [
              "\n",
              "  <div id=\"df-85442e7c-7751-46f3-ba36-e581c0d85eb1\">\n",
              "    <div class=\"colab-df-container\">\n",
              "      <div>\n",
              "<style scoped>\n",
              "    .dataframe tbody tr th:only-of-type {\n",
              "        vertical-align: middle;\n",
              "    }\n",
              "\n",
              "    .dataframe tbody tr th {\n",
              "        vertical-align: top;\n",
              "    }\n",
              "\n",
              "    .dataframe thead th {\n",
              "        text-align: right;\n",
              "    }\n",
              "</style>\n",
              "<table border=\"1\" class=\"dataframe\">\n",
              "  <thead>\n",
              "    <tr style=\"text-align: right;\">\n",
              "      <th></th>\n",
              "      <th>text</th>\n",
              "      <th>sentiment</th>\n",
              "      <th>text_clean</th>\n",
              "      <th>text_len</th>\n",
              "    </tr>\n",
              "  </thead>\n",
              "  <tbody>\n",
              "    <tr>\n",
              "      <th>4846</th>\n",
              "      <td>@andrea_gcav: @viviaanajim recuerdas como noso...</td>\n",
              "      <td>not_cyberbullying</td>\n",
              "      <td>recuerda como nosotra tambin eramo victima del...</td>\n",
              "      <td>79</td>\n",
              "    </tr>\n",
              "    <tr>\n",
              "      <th>44294</th>\n",
              "      <td>@JasmineLovvee If He Dont Want You Well Fuck H...</td>\n",
              "      <td>ethnicity</td>\n",
              "      <td>dont want well fuck aint worth tear never swea...</td>\n",
              "      <td>73</td>\n",
              "    </tr>\n",
              "    <tr>\n",
              "      <th>45930</th>\n",
              "      <td>Get off ur ego trip, take off ur rose colored ...</td>\n",
              "      <td>ethnicity</td>\n",
              "      <td>get ur ego trip take ur rose color glass amp g...</td>\n",
              "      <td>45</td>\n",
              "    </tr>\n",
              "    <tr>\n",
              "      <th>21241</th>\n",
              "      <td>And yet God was able to meet their needs using...</td>\n",
              "      <td>religion</td>\n",
              "      <td>yet god abl meet need use radic everyday gener...</td>\n",
              "      <td>43</td>\n",
              "    </tr>\n",
              "    <tr>\n",
              "      <th>41749</th>\n",
              "      <td>@seijohgorl hoy mami keito AAAA okay so um ika...</td>\n",
              "      <td>ethnicity</td>\n",
              "      <td>hoy mami keito aaaa okay um ikaw talaga one fi...</td>\n",
              "      <td>43</td>\n",
              "    </tr>\n",
              "    <tr>\n",
              "      <th>...</th>\n",
              "      <td>...</td>\n",
              "      <td>...</td>\n",
              "      <td>...</td>\n",
              "      <td>...</td>\n",
              "    </tr>\n",
              "    <tr>\n",
              "      <th>44750</th>\n",
              "      <td>What the fuck you dumb nigger I hate you now</td>\n",
              "      <td>ethnicity</td>\n",
              "      <td>fuck dumb nigger hate</td>\n",
              "      <td>4</td>\n",
              "    </tr>\n",
              "    <tr>\n",
              "      <th>1673</th>\n",
              "      <td>@UMTony lmao! I really wanted to take it down!</td>\n",
              "      <td>not_cyberbullying</td>\n",
              "      <td>lmao realli want take</td>\n",
              "      <td>4</td>\n",
              "    </tr>\n",
              "    <tr>\n",
              "      <th>35335</th>\n",
              "      <td>He's a grade school bully. He's a coward!</td>\n",
              "      <td>age</td>\n",
              "      <td>grade school bulli coward</td>\n",
              "      <td>4</td>\n",
              "    </tr>\n",
              "    <tr>\n",
              "      <th>3920</th>\n",
              "      <td>Need to let my anger out dude.</td>\n",
              "      <td>not_cyberbullying</td>\n",
              "      <td>need let anger dude</td>\n",
              "      <td>4</td>\n",
              "    </tr>\n",
              "    <tr>\n",
              "      <th>1377</th>\n",
              "      <td>@GlennF I have been quietly helping some gator...</td>\n",
              "      <td>not_cyberbullying</td>\n",
              "      <td>quietli help gator alreadi</td>\n",
              "      <td>4</td>\n",
              "    </tr>\n",
              "  </tbody>\n",
              "</table>\n",
              "<p>37113 rows × 4 columns</p>\n",
              "</div>\n",
              "      <button class=\"colab-df-convert\" onclick=\"convertToInteractive('df-85442e7c-7751-46f3-ba36-e581c0d85eb1')\"\n",
              "              title=\"Convert this dataframe to an interactive table.\"\n",
              "              style=\"display:none;\">\n",
              "        \n",
              "  <svg xmlns=\"http://www.w3.org/2000/svg\" height=\"24px\"viewBox=\"0 0 24 24\"\n",
              "       width=\"24px\">\n",
              "    <path d=\"M0 0h24v24H0V0z\" fill=\"none\"/>\n",
              "    <path d=\"M18.56 5.44l.94 2.06.94-2.06 2.06-.94-2.06-.94-.94-2.06-.94 2.06-2.06.94zm-11 1L8.5 8.5l.94-2.06 2.06-.94-2.06-.94L8.5 2.5l-.94 2.06-2.06.94zm10 10l.94 2.06.94-2.06 2.06-.94-2.06-.94-.94-2.06-.94 2.06-2.06.94z\"/><path d=\"M17.41 7.96l-1.37-1.37c-.4-.4-.92-.59-1.43-.59-.52 0-1.04.2-1.43.59L10.3 9.45l-7.72 7.72c-.78.78-.78 2.05 0 2.83L4 21.41c.39.39.9.59 1.41.59.51 0 1.02-.2 1.41-.59l7.78-7.78 2.81-2.81c.8-.78.8-2.07 0-2.86zM5.41 20L4 18.59l7.72-7.72 1.47 1.35L5.41 20z\"/>\n",
              "  </svg>\n",
              "      </button>\n",
              "      \n",
              "  <style>\n",
              "    .colab-df-container {\n",
              "      display:flex;\n",
              "      flex-wrap:wrap;\n",
              "      gap: 12px;\n",
              "    }\n",
              "\n",
              "    .colab-df-convert {\n",
              "      background-color: #E8F0FE;\n",
              "      border: none;\n",
              "      border-radius: 50%;\n",
              "      cursor: pointer;\n",
              "      display: none;\n",
              "      fill: #1967D2;\n",
              "      height: 32px;\n",
              "      padding: 0 0 0 0;\n",
              "      width: 32px;\n",
              "    }\n",
              "\n",
              "    .colab-df-convert:hover {\n",
              "      background-color: #E2EBFA;\n",
              "      box-shadow: 0px 1px 2px rgba(60, 64, 67, 0.3), 0px 1px 3px 1px rgba(60, 64, 67, 0.15);\n",
              "      fill: #174EA6;\n",
              "    }\n",
              "\n",
              "    [theme=dark] .colab-df-convert {\n",
              "      background-color: #3B4455;\n",
              "      fill: #D2E3FC;\n",
              "    }\n",
              "\n",
              "    [theme=dark] .colab-df-convert:hover {\n",
              "      background-color: #434B5C;\n",
              "      box-shadow: 0px 1px 3px 1px rgba(0, 0, 0, 0.15);\n",
              "      filter: drop-shadow(0px 1px 2px rgba(0, 0, 0, 0.3));\n",
              "      fill: #FFFFFF;\n",
              "    }\n",
              "  </style>\n",
              "\n",
              "      <script>\n",
              "        const buttonEl =\n",
              "          document.querySelector('#df-85442e7c-7751-46f3-ba36-e581c0d85eb1 button.colab-df-convert');\n",
              "        buttonEl.style.display =\n",
              "          google.colab.kernel.accessAllowed ? 'block' : 'none';\n",
              "\n",
              "        async function convertToInteractive(key) {\n",
              "          const element = document.querySelector('#df-85442e7c-7751-46f3-ba36-e581c0d85eb1');\n",
              "          const dataTable =\n",
              "            await google.colab.kernel.invokeFunction('convertToInteractive',\n",
              "                                                     [key], {});\n",
              "          if (!dataTable) return;\n",
              "\n",
              "          const docLinkHtml = 'Like what you see? Visit the ' +\n",
              "            '<a target=\"_blank\" href=https://colab.research.google.com/notebooks/data_table.ipynb>data table notebook</a>'\n",
              "            + ' to learn more about interactive tables.';\n",
              "          element.innerHTML = '';\n",
              "          dataTable['output_type'] = 'display_data';\n",
              "          await google.colab.output.renderOutput(dataTable, element);\n",
              "          const docLink = document.createElement('div');\n",
              "          docLink.innerHTML = docLinkHtml;\n",
              "          element.appendChild(docLink);\n",
              "        }\n",
              "      </script>\n",
              "    </div>\n",
              "  </div>\n",
              "  "
            ]
          },
          "metadata": {},
          "execution_count": 115
        }
      ],
      "source": [
        "df.sort_values(by=[\"text_len\"], ascending=False)"
      ]
    },
    {
      "cell_type": "markdown",
      "metadata": {
        "id": "kx0IFdyO4OHv"
      },
      "source": [
        "## Sentiment column encoding"
      ]
    },
    {
      "cell_type": "code",
      "execution_count": null,
      "metadata": {
        "id": "NIS_nyXBG416"
      },
      "outputs": [],
      "source": [
        "df['sentiment'] = df['sentiment'].replace({'religion':0,'age':1,'ethnicity':2,'gender':3,'not_cyberbullying':4})"
      ]
    },
    {
      "cell_type": "markdown",
      "metadata": {
        "id": "ELMGaiE-F7yn"
      },
      "source": [
        "## Train - Test split"
      ]
    },
    {
      "cell_type": "code",
      "execution_count": null,
      "metadata": {
        "id": "BF01CgBtBONZ"
      },
      "outputs": [],
      "source": [
        "X = df['text_clean']\n",
        "y = df['sentiment']"
      ]
    },
    {
      "cell_type": "code",
      "execution_count": null,
      "metadata": {
        "id": "fvQexohPGAZf"
      },
      "outputs": [],
      "source": [
        "X_train, X_test, y_train, y_test = train_test_split(X, y, test_size=0.2, stratify=y, random_state=seed_value)"
      ]
    },
    {
      "cell_type": "markdown",
      "metadata": {
        "id": "A0d0lSX0GbNS"
      },
      "source": [
        "##**Train - Validation split**"
      ]
    },
    {
      "cell_type": "code",
      "execution_count": null,
      "metadata": {
        "id": "1KyTh6H5GbR4"
      },
      "outputs": [],
      "source": [
        "X_train, X_valid, y_train, y_valid = train_test_split(X_train, y_train, test_size=0.2, stratify=y_train, random_state=seed_value)"
      ]
    },
    {
      "cell_type": "code",
      "execution_count": null,
      "metadata": {
        "colab": {
          "base_uri": "https://localhost:8080/"
        },
        "id": "N-mC3qyuBONc",
        "outputId": "cc125f6c-8a5f-4054-e9ea-807498929095"
      },
      "outputs": [
        {
          "output_type": "execute_result",
          "data": {
            "text/plain": [
              "array([[   0, 5051],\n",
              "       [   1, 5011],\n",
              "       [   2, 4933],\n",
              "       [   3, 4679],\n",
              "       [   4, 4078]])"
            ]
          },
          "metadata": {},
          "execution_count": 120
        }
      ],
      "source": [
        "(unique, counts) = np.unique(y_train, return_counts=True)\n",
        "np.asarray((unique, counts)).T"
      ]
    },
    {
      "cell_type": "markdown",
      "metadata": {
        "id": "Geqa3e3zGUNL"
      },
      "source": [
        "# Oversampling of training set"
      ]
    },
    {
      "cell_type": "code",
      "execution_count": null,
      "metadata": {
        "id": "JN5OCli8BONe"
      },
      "outputs": [],
      "source": [
        "ros = RandomOverSampler()\n",
        "X_train, y_train = ros.fit_resample(np.array(X_train).reshape(-1, 1), np.array(y_train).reshape(-1, 1));\n",
        "train_os = pd.DataFrame(list(zip([x[0] for x in X_train], y_train)), columns = ['text_clean', 'sentiment']);"
      ]
    },
    {
      "cell_type": "code",
      "execution_count": null,
      "metadata": {
        "id": "qAwnlrGoBONe"
      },
      "outputs": [],
      "source": [
        "X_train = train_os['text_clean'].values\n",
        "y_train = train_os['sentiment'].values"
      ]
    },
    {
      "cell_type": "code",
      "execution_count": null,
      "metadata": {
        "colab": {
          "base_uri": "https://localhost:8080/"
        },
        "id": "zNopbN4gBONe",
        "outputId": "870b385d-ae67-429d-ccf1-9335fefe1ab6"
      },
      "outputs": [
        {
          "output_type": "execute_result",
          "data": {
            "text/plain": [
              "array([[   0, 5051],\n",
              "       [   1, 5051],\n",
              "       [   2, 5051],\n",
              "       [   3, 5051],\n",
              "       [   4, 5051]])"
            ]
          },
          "metadata": {},
          "execution_count": 123
        }
      ],
      "source": [
        "(unique, counts) = np.unique(y_train, return_counts=True)\n",
        "np.asarray((unique, counts)).T"
      ]
    },
    {
      "cell_type": "code",
      "execution_count": null,
      "metadata": {
        "id": "o2yS2r5ZXulp"
      },
      "outputs": [],
      "source": [
        "#ML ALGOS\n"
      ]
    },
    {
      "cell_type": "markdown",
      "metadata": {
        "id": "A2mww5GA4OHz"
      },
      "source": [
        "# PyTorch Bi-LSTM RNN"
      ]
    },
    {
      "cell_type": "markdown",
      "metadata": {
        "id": "QZpta6PbBONf"
      },
      "source": [
        "# Data preprocessing for LSTM"
      ]
    },
    {
      "cell_type": "code",
      "execution_count": null,
      "metadata": {
        "id": "PAhPX58mpM0i"
      },
      "outputs": [],
      "source": [
        "def Tokenize(column, seq_len):\n",
        "    ##Create vocabulary of words from column\n",
        "    corpus = [word for text in column for word in text.split()]\n",
        "    count_words = Counter(corpus)\n",
        "    sorted_words = count_words.most_common()\n",
        "    vocab_to_int = {w:i+1 for i, (w,c) in enumerate(sorted_words)}\n",
        "\n",
        "    ##Tokenize the columns text using the vocabulary\n",
        "    text_int = []\n",
        "    for text in column:\n",
        "        r = [vocab_to_int[word] for word in text.split()]\n",
        "        text_int.append(r)\n",
        "    ##Add padding to tokens\n",
        "    features = np.zeros((len(text_int), seq_len), dtype = int)\n",
        "    for i, review in enumerate(text_int):\n",
        "        if len(review) <= seq_len:\n",
        "            zeros = list(np.zeros(seq_len - len(review)))\n",
        "            new = zeros + review\n",
        "        else:\n",
        "            new = review[: seq_len]\n",
        "        features[i, :] = np.array(new)\n",
        "\n",
        "    return sorted_words, features"
      ]
    },
    {
      "cell_type": "code",
      "execution_count": null,
      "metadata": {
        "id": "Huovl-tkq9pr"
      },
      "outputs": [],
      "source": [
        "vocabulary, tokenized_column = Tokenize(df[\"text_clean\"], max_len)"
      ]
    },
    {
      "cell_type": "code",
      "execution_count": null,
      "metadata": {
        "colab": {
          "base_uri": "https://localhost:8080/",
          "height": 36
        },
        "id": "4GTRXEE04OH0",
        "outputId": "4012d6db-e83f-4b66-8a98-9038b8d22698"
      },
      "outputs": [
        {
          "output_type": "execute_result",
          "data": {
            "text/plain": [
              "'love best respons hotcak manag film noncommitt meh adolesc mkr'"
            ],
            "application/vnd.google.colaboratory.intrinsic+json": {
              "type": "string"
            }
          },
          "metadata": {},
          "execution_count": 126
        }
      ],
      "source": [
        "df[\"text_clean\"].iloc[10]"
      ]
    },
    {
      "cell_type": "code",
      "execution_count": null,
      "metadata": {
        "colab": {
          "base_uri": "https://localhost:8080/"
        },
        "id": "akCQyj-14OH0",
        "outputId": "891b7731-c536-43a9-a93b-e9b7dcf6d530"
      },
      "outputs": [
        {
          "output_type": "execute_result",
          "data": {
            "text/plain": [
              "array([    0,     0,     0,     0,     0,     0,     0,     0,     0,\n",
              "           0,     0,     0,     0,     0,     0,     0,     0,     0,\n",
              "           0,     0,     0,     0,     0,     0,     0,     0,     0,\n",
              "           0,     0,     0,     0,     0,     0,     0,     0,     0,\n",
              "           0,     0,     0,     0,     0,     0,     0,     0,     0,\n",
              "           0,     0,     0,     0,     0,     0,     0,     0,     0,\n",
              "           0,     0,     0,     0,     0,     0,     0,     0,     0,\n",
              "           0,     0,     0,     0,     0,     0,    66,   219,   503,\n",
              "        8001,  1300,  1142, 13587,  4686,  9804,    34])"
            ]
          },
          "metadata": {},
          "execution_count": 127
        }
      ],
      "source": [
        "tokenized_column[10]"
      ]
    },
    {
      "cell_type": "code",
      "execution_count": null,
      "metadata": {
        "id": "14BsBTu64OH0"
      },
      "outputs": [],
      "source": [
        "keys = []\n",
        "values = []\n",
        "for key, value in vocabulary[:20]:\n",
        "    keys.append(key)\n",
        "    values.append(value)"
      ]
    },
    {
      "cell_type": "code",
      "execution_count": null,
      "metadata": {
        "colab": {
          "base_uri": "https://localhost:8080/",
          "height": 53
        },
        "id": "77AveW484OH1",
        "outputId": "ee56be81-31b7-4d1f-908e-5ef21f874ec6"
      },
      "outputs": [
        {
          "output_type": "execute_result",
          "data": {
            "text/plain": [
              "'\\n#from axesSubplot isport bar_label\\nplt.figure(figsize=(15, 5))\\nax = sns.barplot(keys, values, palette=\\'mako\\')\\nplt.title(\\'Top 20 most common words\\', size=25)\\nax.bar_label(ax.containers[0])\\nplt.ylabel(\"Words count\")\\nplt.show()\\n'"
            ],
            "application/vnd.google.colaboratory.intrinsic+json": {
              "type": "string"
            }
          },
          "metadata": {},
          "execution_count": 45
        }
      ],
      "source": [
        "'''\n",
        "#from axesSubplot isport bar_label\n",
        "plt.figure(figsize=(15, 5))\n",
        "ax = sns.barplot(keys, values, palette='mako')\n",
        "plt.title('Top 20 most common words', size=25)\n",
        "ax.bar_label(ax.containers[0])\n",
        "plt.ylabel(\"Words count\")\n",
        "plt.show()\n",
        "'''"
      ]
    },
    {
      "cell_type": "markdown",
      "metadata": {
        "id": "oTbzqr0u4OH1"
      },
      "source": [
        "# Word Embedding by Word2Vec"
      ]
    },
    {
      "cell_type": "code",
      "execution_count": null,
      "metadata": {
        "id": "R8Z4L0Eg4OH1"
      },
      "outputs": [],
      "source": [
        "Word2vec_train_data = list(map(lambda x: x.split(), X_train))"
      ]
    },
    {
      "cell_type": "code",
      "execution_count": null,
      "metadata": {
        "id": "U-Eq2axK4OH1"
      },
      "outputs": [],
      "source": [
        "EMBEDDING_DIM = 200"
      ]
    },
    {
      "cell_type": "code",
      "execution_count": null,
      "metadata": {
        "colab": {
          "base_uri": "https://localhost:8080/"
        },
        "id": "pLKrxBZW4OH2",
        "outputId": "9711f9af-281a-48dc-ba38-94f7a92d72a9"
      },
      "outputs": [
        {
          "output_type": "stream",
          "name": "stdout",
          "text": [
            "Looking in indexes: https://pypi.org/simple, https://us-python.pkg.dev/colab-wheels/public/simple/\n",
            "Requirement already satisfied: gensim==3.8 in /usr/local/lib/python3.9/dist-packages (3.8.0)\n",
            "Requirement already satisfied: numpy>=1.11.3 in /usr/local/lib/python3.9/dist-packages (from gensim==3.8) (1.22.4)\n",
            "Requirement already satisfied: six>=1.5.0 in /usr/local/lib/python3.9/dist-packages (from gensim==3.8) (1.16.0)\n",
            "Requirement already satisfied: scipy>=0.18.1 in /usr/local/lib/python3.9/dist-packages (from gensim==3.8) (1.10.1)\n",
            "Requirement already satisfied: smart-open>=1.7.0 in /usr/local/lib/python3.9/dist-packages (from gensim==3.8) (6.3.0)\n"
          ]
        }
      ],
      "source": [
        "!pip install gensim==3.8\n",
        "\n"
      ]
    },
    {
      "cell_type": "code",
      "execution_count": null,
      "metadata": {
        "id": "vvnzGI9jenaA"
      },
      "outputs": [],
      "source": [
        "from gensim.models import Word2Vec\n",
        "word2vec_model = Word2Vec(Word2vec_train_data, size=EMBEDDING_DIM)"
      ]
    },
    {
      "cell_type": "code",
      "execution_count": null,
      "metadata": {
        "colab": {
          "base_uri": "https://localhost:8080/"
        },
        "id": "r-I8oY564OH2",
        "outputId": "0d448a1c-5efa-4288-b3f0-3a25ae4fa88a"
      },
      "outputs": [
        {
          "output_type": "stream",
          "name": "stdout",
          "text": [
            "Vocabulary size: 33009\n"
          ]
        }
      ],
      "source": [
        "print(f\"Vocabulary size: {len(vocabulary) + 1}\")"
      ]
    },
    {
      "cell_type": "code",
      "execution_count": null,
      "metadata": {
        "id": "lIx4VmUC4OH2"
      },
      "outputs": [],
      "source": [
        "VOCAB_SIZE = len(vocabulary) + 1 #+1 for the padding"
      ]
    },
    {
      "cell_type": "code",
      "execution_count": null,
      "metadata": {
        "colab": {
          "base_uri": "https://localhost:8080/"
        },
        "id": "m7-_vv3l4OH2",
        "outputId": "852f1e37-dd09-4675-965d-afa8c3fc340e"
      },
      "outputs": [
        {
          "output_type": "stream",
          "name": "stdout",
          "text": [
            "Embedding Matrix Shape: (33009, 200)\n"
          ]
        }
      ],
      "source": [
        "#define empty embedding matrix\n",
        "embedding_matrix = np.zeros((VOCAB_SIZE, EMBEDDING_DIM))\n",
        "    \n",
        "#fill the embedding matrix with the pre trained values from word2vec\n",
        "#    corresponding to word (string), token (number associated to the word)\n",
        "for word, token in vocabulary:\n",
        "    if word2vec_model.wv.__contains__(word):\n",
        "        embedding_matrix[token] = word2vec_model.wv.__getitem__(word)\n",
        "\n",
        "print(\"Embedding Matrix Shape:\", embedding_matrix.shape)"
      ]
    },
    {
      "cell_type": "markdown",
      "metadata": {
        "id": "DWSPpkgh4OH2"
      },
      "source": [
        "## Train - Validation - Test split"
      ]
    },
    {
      "cell_type": "markdown",
      "metadata": {
        "id": "0otPBTtQ4OH2"
      },
      "source": [
        "Now we will use the tokenized sentences to create a training, validation and test datasets."
      ]
    },
    {
      "cell_type": "code",
      "execution_count": null,
      "metadata": {
        "id": "xPzbx9jFBONg"
      },
      "outputs": [],
      "source": [
        "X = tokenized_column\n",
        "y = df['sentiment'].values"
      ]
    },
    {
      "cell_type": "code",
      "execution_count": null,
      "metadata": {
        "id": "HQJ-XSMzBONg"
      },
      "outputs": [],
      "source": [
        "X_train, X_test, y_train, y_test = train_test_split(X, y, test_size=0.2, stratify=y, random_state=seed_value)"
      ]
    },
    {
      "cell_type": "code",
      "execution_count": null,
      "metadata": {
        "id": "xrHZ1j_G8zIL"
      },
      "outputs": [],
      "source": [
        "X_train, X_valid, y_train, y_valid = train_test_split(X_train, y_train, test_size=0.1, stratify=y_train, random_state=seed_value)"
      ]
    },
    {
      "cell_type": "markdown",
      "metadata": {
        "id": "rcx-DbFQ4OH3"
      },
      "source": [
        "We can check the balance of the target classes:"
      ]
    },
    {
      "cell_type": "code",
      "execution_count": null,
      "metadata": {
        "colab": {
          "base_uri": "https://localhost:8080/"
        },
        "id": "FX77tlMuBONg",
        "outputId": "a5c2220e-f786-4314-a524-c6fcd69f873f"
      },
      "outputs": [
        {
          "output_type": "execute_result",
          "data": {
            "text/plain": [
              "array([[   0, 5683],\n",
              "       [   1, 5638],\n",
              "       [   2, 5549],\n",
              "       [   3, 5264],\n",
              "       [   4, 4587]])"
            ]
          },
          "metadata": {},
          "execution_count": 139
        }
      ],
      "source": [
        "(unique, counts) = np.unique(y_train, return_counts=True)\n",
        "np.asarray((unique, counts)).T"
      ]
    },
    {
      "cell_type": "markdown",
      "metadata": {
        "id": "D-bn4jLJ4OH3"
      },
      "source": [
        "And then apply random oversampling on the training set."
      ]
    },
    {
      "cell_type": "code",
      "execution_count": null,
      "metadata": {
        "id": "sFRMuSdrBONh"
      },
      "outputs": [],
      "source": [
        "ros = RandomOverSampler()\n",
        "X_train_os, y_train_os = ros.fit_resample(np.array(X_train),np.array(y_train));"
      ]
    },
    {
      "cell_type": "code",
      "execution_count": null,
      "metadata": {
        "colab": {
          "base_uri": "https://localhost:8080/"
        },
        "id": "OQl1UY2BUt-m",
        "outputId": "4ac965c5-1bd6-45fb-a81a-e1beba152ee0"
      },
      "outputs": [
        {
          "output_type": "execute_result",
          "data": {
            "text/plain": [
              "array([[   0, 5683],\n",
              "       [   1, 5683],\n",
              "       [   2, 5683],\n",
              "       [   3, 5683],\n",
              "       [   4, 5683]])"
            ]
          },
          "metadata": {},
          "execution_count": 141
        }
      ],
      "source": [
        "(unique, counts) = np.unique(y_train_os, return_counts=True)\n",
        "np.asarray((unique, counts)).T"
      ]
    },
    {
      "cell_type": "markdown",
      "metadata": {
        "id": "JD2NQRAU4OH4"
      },
      "source": [
        "## PyTorch datasets and dataloaders"
      ]
    },
    {
      "cell_type": "markdown",
      "metadata": {
        "id": "aHGFwoZ64OH4"
      },
      "source": [
        "The three sets will be transformed to tensor datasets and dataloaders so we can extract the data in batches for the LSTM training, validation and testing."
      ]
    },
    {
      "cell_type": "code",
      "execution_count": null,
      "metadata": {
        "id": "O-e9FHZp5Qsc"
      },
      "outputs": [],
      "source": [
        "train_data = TensorDataset(torch.from_numpy(X_train_os), torch.from_numpy(y_train_os))\n",
        "test_data = TensorDataset(torch.from_numpy(X_test), torch.from_numpy(y_test))\n",
        "valid_data = TensorDataset(torch.from_numpy(X_valid), torch.from_numpy(y_valid))"
      ]
    },
    {
      "cell_type": "code",
      "execution_count": null,
      "metadata": {
        "id": "RfzfdlUFX8al"
      },
      "outputs": [],
      "source": [
        "BATCH_SIZE = 32"
      ]
    },
    {
      "cell_type": "code",
      "execution_count": null,
      "metadata": {
        "id": "S2TGQjB4X7UQ"
      },
      "outputs": [],
      "source": [
        "train_loader = DataLoader(train_data, shuffle=True, batch_size=BATCH_SIZE, drop_last=True) \n",
        "valid_loader = DataLoader(valid_data, shuffle=True, batch_size=BATCH_SIZE, drop_last=True)\n",
        "test_loader = DataLoader(test_data, shuffle=True, batch_size=BATCH_SIZE, drop_last=True)"
      ]
    },
    {
      "cell_type": "markdown",
      "metadata": {
        "id": "Sjv7lTKd4OH4"
      },
      "source": [
        "# PyTorch LSTM modeling"
      ]
    },
    {
      "cell_type": "markdown",
      "metadata": {
        "id": "8EtgvVWY4OH4"
      },
      "source": [
        "Finally we can start the LSTM modeling. We start by setting some hyperparameters."
      ]
    },
    {
      "cell_type": "code",
      "execution_count": null,
      "metadata": {
        "id": "dfLClXUs5Qsc"
      },
      "outputs": [],
      "source": [
        "NUM_CLASSES = 5 #We are dealing with a multiclass classification of 5 classes\n",
        "HIDDEN_DIM = 100 #number of neurons of the internal state (internal neural network in the LSTM)\n",
        "LSTM_LAYERS = 1 #Number of stacked LSTM layers\n",
        "\n",
        "LR = 3e-4 #Learning rate\n",
        "DROPOUT = 0.5 #LSTM Dropout\n",
        "BIDIRECTIONAL = True #Boolean value to choose if to use a bidirectional LSTM or not\n",
        "EPOCHS = 5 #Number of training epoch\n",
        "\n",
        "DEVICE = 'cuda' if torch.cuda.is_available() else 'cpu'"
      ]
    },
    {
      "cell_type": "code",
      "execution_count": null,
      "metadata": {
        "id": "InaVLcNV5Qsc"
      },
      "outputs": [],
      "source": [
        "class BiLSTM_Sentiment_Classifier(nn.Module):\n",
        "\n",
        "    def __init__(self, vocab_size, embedding_dim, hidden_dim, num_classes, lstm_layers, bidirectional,batch_size, dropout):\n",
        "        super(BiLSTM_Sentiment_Classifier,self).__init__()\n",
        "        \n",
        "        self.lstm_layers = lstm_layers\n",
        "        self.num_directions = 2 if bidirectional else 1\n",
        "        self.hidden_dim = hidden_dim\n",
        "        self.num_classes = num_classes\n",
        "        self.batch_size = batch_size\n",
        "        \n",
        "\n",
        "        self.embedding = nn.Embedding(vocab_size, embedding_dim)\n",
        "        \n",
        "        self.lstm = nn.LSTM(embedding_dim,\n",
        "                            hidden_dim,\n",
        "                            num_layers=lstm_layers,\n",
        "                            dropout=dropout,\n",
        "                            bidirectional=bidirectional,\n",
        "                            batch_first=True)\n",
        "\n",
        "        self.fc = nn.Linear(hidden_dim*self.num_directions, num_classes)\n",
        "        self.softmax = nn.LogSoftmax(dim=1)\n",
        "        \n",
        "    def forward(self, x, hidden):\n",
        "        self.batch_size = x.size(0)\n",
        "        ##EMBEDDING LAYER\n",
        "        embedded = self.embedding(x)\n",
        "        #LSTM LAYERS\n",
        "        out, hidden = self.lstm(embedded, hidden)\n",
        "        #Extract only the hidden state from the last LSTM cell\n",
        "        out = out[:,-1,:]\n",
        "        #FULLY CONNECTED LAYERS\n",
        "        out = self.fc(out)\n",
        "        out = self.softmax(out)\n",
        "\n",
        "        return out, hidden\n",
        "\n",
        "    def init_hidden(self, batch_size):\n",
        "        #Initialization of the LSTM hidden and cell states\n",
        "        h0 = torch.zeros((self.lstm_layers*self.num_directions, batch_size, self.hidden_dim)).detach().to(DEVICE)\n",
        "        c0 = torch.zeros((self.lstm_layers*self.num_directions, batch_size, self.hidden_dim)).detach().to(DEVICE)\n",
        "        hidden = (h0, c0)\n",
        "        return hidden"
      ]
    },
    {
      "cell_type": "code",
      "execution_count": null,
      "metadata": {
        "colab": {
          "base_uri": "https://localhost:8080/"
        },
        "id": "n3Zs0lfW5Qsd",
        "outputId": "b823fdfb-48ba-4b37-da1f-955501563211"
      },
      "outputs": [
        {
          "name": "stdout",
          "output_type": "stream",
          "text": [
            "BiLSTM_Sentiment_Classifier(\n",
            "  (embedding): Embedding(33009, 200)\n",
            "  (lstm): LSTM(200, 100, batch_first=True, dropout=0.5, bidirectional=True)\n",
            "  (fc): Linear(in_features=200, out_features=5, bias=True)\n",
            "  (softmax): LogSoftmax(dim=1)\n",
            ")\n"
          ]
        }
      ],
      "source": [
        "model = BiLSTM_Sentiment_Classifier(VOCAB_SIZE, EMBEDDING_DIM, HIDDEN_DIM,NUM_CLASSES, LSTM_LAYERS,BIDIRECTIONAL, BATCH_SIZE, DROPOUT)\n",
        "model = model.to(DEVICE)\n",
        "\n",
        "#Initialize embedding with the previously defined embedding matrix\n",
        "model.embedding.weight.data.copy_(torch.from_numpy(embedding_matrix))\n",
        "#Allow the embedding matrix to be fined tuned to better adapt to out dataset and get higher accuracy\n",
        "model.embedding.weight.requires_grad=True\n",
        "\n",
        "print(model)"
      ]
    },
    {
      "cell_type": "code",
      "execution_count": null,
      "metadata": {
        "id": "ftkcRBFCY-Zp"
      },
      "outputs": [],
      "source": [
        "criterion = nn.NLLLoss()\n",
        "optimizer = torch.optim.AdamW(model.parameters(), lr=LR, weight_decay = 5e-6)"
      ]
    },
    {
      "cell_type": "markdown",
      "metadata": {
        "id": "5qQDp2AP4OH5"
      },
      "source": [
        "# LSTM Training loop "
      ]
    },
    {
      "cell_type": "markdown",
      "metadata": {
        "id": "DXptvKsU4OH6"
      },
      "source": [
        "Now we will define a custom training loop, where we include an early stopping functionality, and save only the best models in terms of validation accuracy."
      ]
    },
    {
      "cell_type": "code",
      "execution_count": null,
      "metadata": {
        "colab": {
          "base_uri": "https://localhost:8080/"
        },
        "id": "5rK3YPVT5Qsd",
        "outputId": "61a1b075-7390-4ff2-e443-26a7b59362c1"
      },
      "outputs": [
        {
          "name": "stdout",
          "output_type": "stream",
          "text": [
            "Epoch 1:Validation accuracy increased (0.000000 --> 90.353261).  Saving model ...\n",
            "\tTrain_loss : 0.0022 Val_loss : 0.5701\n",
            "\tTrain_acc : 99.933% Val_acc : 90.353%\n",
            "Epoch 2:Validation accuracy did not increase\n",
            "\tTrain_loss : 0.0014 Val_loss : 0.6083\n",
            "\tTrain_acc : 99.961% Val_acc : 90.183%\n",
            "Epoch 3:Validation accuracy increased (90.353261 --> 90.353261).  Saving model ...\n",
            "\tTrain_loss : 0.0011 Val_loss : 0.6552\n",
            "\tTrain_acc : 99.972% Val_acc : 90.353%\n",
            "Epoch 4:Validation accuracy did not increase\n",
            "\tTrain_loss : 0.0035 Val_loss : 0.6069\n",
            "\tTrain_acc : 99.915% Val_acc : 89.878%\n",
            "Epoch 5:Validation accuracy did not increase\n",
            "\tTrain_loss : 0.0019 Val_loss : 0.6859\n",
            "\tTrain_acc : 99.951% Val_acc : 89.946%\n"
          ]
        }
      ],
      "source": [
        "total_step = len(train_loader)\n",
        "total_step_val = len(valid_loader)\n",
        "\n",
        "early_stopping_patience = 4\n",
        "early_stopping_counter = 0\n",
        "\n",
        "valid_acc_max = 0 # Initialize best accuracy top 0\n",
        "\n",
        "for e in range(EPOCHS):\n",
        "\n",
        "    #lists to host the train and validation losses of every batch for each epoch\n",
        "    train_loss, valid_loss  = [], []\n",
        "    #lists to host the train and validation accuracy of every batch for each epoch\n",
        "    train_acc, valid_acc  = [], []\n",
        "\n",
        "    #lists to host the train and validation predictions of every batch for each epoch\n",
        "    y_train_list, y_val_list = [], []\n",
        "\n",
        "    #initalize number of total and correctly classified texts during training and validation\n",
        "    correct, correct_val = 0, 0\n",
        "    total, total_val = 0, 0\n",
        "    running_loss, running_loss_val = 0, 0\n",
        "\n",
        "\n",
        "    ####TRAINING LOOP####\n",
        "\n",
        "    model.train()\n",
        "\n",
        "    for inputs, labels in train_loader:\n",
        "        inputs, labels = inputs.to(DEVICE), labels.to(DEVICE) #load features and targets in device\n",
        "\n",
        "        h = model.init_hidden(labels.size(0))\n",
        "\n",
        "        model.zero_grad() #reset gradients \n",
        "\n",
        "        output, h = model(inputs,h) #get output and hidden states from LSTM network\n",
        "        \n",
        "        loss = criterion(output, labels)\n",
        "        loss.backward()\n",
        "        \n",
        "        running_loss += loss.item()\n",
        "        \n",
        "        optimizer.step()\n",
        "\n",
        "        y_pred_train = torch.argmax(output, dim=1) #get tensor of predicted values on the training set\n",
        "        y_train_list.extend(y_pred_train.squeeze().tolist()) #transform tensor to list and the values to the list\n",
        "        \n",
        "        correct += torch.sum(y_pred_train==labels).item() #count correctly classified texts per batch\n",
        "        total += labels.size(0) #count total texts per batch\n",
        "\n",
        "    train_loss.append(running_loss / total_step)\n",
        "    train_acc.append(100 * correct / total)\n",
        "\n",
        "    ####VALIDATION LOOP####\n",
        "    \n",
        "    with torch.no_grad():\n",
        "        \n",
        "        model.eval()\n",
        "        \n",
        "        for inputs, labels in valid_loader:\n",
        "            inputs, labels = inputs.to(DEVICE), labels.to(DEVICE)\n",
        "\n",
        "            val_h = model.init_hidden(labels.size(0))\n",
        "\n",
        "            output, val_h = model(inputs, val_h)\n",
        "\n",
        "            val_loss = criterion(output, labels)\n",
        "            running_loss_val += val_loss.item()\n",
        "\n",
        "            y_pred_val = torch.argmax(output, dim=1)\n",
        "            y_val_list.extend(y_pred_val.squeeze().tolist())\n",
        "\n",
        "            correct_val += torch.sum(y_pred_val==labels).item()\n",
        "            total_val += labels.size(0)\n",
        "\n",
        "        valid_loss.append(running_loss_val / total_step_val)\n",
        "        valid_acc.append(100 * correct_val / total_val)\n",
        "\n",
        "    #Save model if validation accuracy increases\n",
        "    if np.mean(valid_acc) >= valid_acc_max:\n",
        "        torch.save(model.state_dict(), './state_dict.pt')\n",
        "        print(f'Epoch {e+1}:Validation accuracy increased ({valid_acc_max:.6f} --> {np.mean(valid_acc):.6f}).  Saving model ...')\n",
        "        valid_acc_max = np.mean(valid_acc)\n",
        "        early_stopping_counter=0 #reset counter if validation accuracy increases\n",
        "    else:\n",
        "        print(f'Epoch {e+1}:Validation accuracy did not increase')\n",
        "        early_stopping_counter+=1 #increase counter if validation accuracy does not increase\n",
        "        \n",
        "    if early_stopping_counter > early_stopping_patience:\n",
        "        print('Early stopped at epoch :', e+1)\n",
        "        break\n",
        "    \n",
        "    print(f'\\tTrain_loss : {np.mean(train_loss):.4f} Val_loss : {np.mean(valid_loss):.4f}')\n",
        "    print(f'\\tTrain_acc : {np.mean(train_acc):.3f}% Val_acc : {np.mean(valid_acc):.3f}%')\n",
        "\n"
      ]
    },
    {
      "cell_type": "code",
      "execution_count": null,
      "metadata": {
        "colab": {
          "base_uri": "https://localhost:8080/"
        },
        "id": "tWj6ea3ghs4C",
        "outputId": "b400dd21-174d-4837-8130-c5aecec4f62a"
      },
      "outputs": [
        {
          "name": "stdout",
          "output_type": "stream",
          "text": [
            "BiLSTM_Sentiment_Classifier(\n",
            "  (embedding): Embedding(33009, 200)\n",
            "  (lstm): LSTM(200, 100, batch_first=True, dropout=0.5, bidirectional=True)\n",
            "  (fc): Linear(in_features=200, out_features=5, bias=True)\n",
            "  (softmax): LogSoftmax(dim=1)\n",
            ")\n"
          ]
        }
      ],
      "source": [
        "results = model.eval()\n",
        "print(results) "
      ]
    },
    {
      "cell_type": "code",
      "execution_count": null,
      "metadata": {
        "colab": {
          "base_uri": "https://localhost:8080/",
          "height": 487
        },
        "id": "ehWvBc88mAXn",
        "outputId": "d2b1e9e8-a838-49aa-eecf-900aad98f75e"
      },
      "outputs": [
        {
          "data": {
            "image/png": "[encoded data removed]",
            "text/plain": [
              "<Figure size 640x480 with 1 Axes>"
            ]
          },
          "metadata": {},
          "output_type": "display_data"
        }
      ],
      "source": [
        "from pickle import load\n",
        "from matplotlib.pylab import plt\n",
        "from numpy import arange\n",
        "\n",
        "\n",
        "# Generate a sequence of integers to represent the epoch numbers\n",
        "epochs = 5\n",
        "\n",
        "# Plot and label the training and validation loss values\n",
        "plt.plot(epochs, np.mean(train_loss), label='Training Loss')\n",
        "plt.plot(epochs, np.mean(valid_loss), label='Validation Loss')\n",
        "\n",
        "# Add in a title and axes labels\n",
        "plt.title('Training and Validation Loss')\n",
        "plt.xlabel('Epochs')\n",
        "plt.ylabel('Loss')\n",
        "\n",
        "# Set the tick locations\n",
        "plt.xticks(arange(0, 6, 1))\n",
        "\n",
        "# Display the plot\n",
        "plt.legend(loc='best')\n",
        "plt.show()"
      ]
    },
    {
      "cell_type": "code",
      "execution_count": null,
      "metadata": {
        "colab": {
          "base_uri": "https://localhost:8080/",
          "height": 304
        },
        "id": "lgkXUrqbiNrG",
        "outputId": "7d28cb16-4811-4dd1-dfce-3bd79d42a170"
      },
      "outputs": [
        {
          "ename": "AttributeError",
          "evalue": "ignored",
          "output_type": "error",
          "traceback": [
            "\u001b[0;31m---------------------------------------------------------------------------\u001b[0m",
            "\u001b[0;31mAttributeError\u001b[0m                            Traceback (most recent call last)",
            "\u001b[0;32m<ipython-input-69-6a65bccc2bc9>\u001b[0m in \u001b[0;36m<cell line: 1>\u001b[0;34m()\u001b[0m\n\u001b[0;32m----> 1\u001b[0;31m \u001b[0mhistory\u001b[0m\u001b[0;34m=\u001b[0m\u001b[0mmodel\u001b[0m\u001b[0;34m.\u001b[0m\u001b[0mfit\u001b[0m\u001b[0;34m(\u001b[0m\u001b[0mX_train\u001b[0m\u001b[0;34m,\u001b[0m\u001b[0my_train\u001b[0m\u001b[0;34m,\u001b[0m\u001b[0mbatch_size\u001b[0m\u001b[0;34m=\u001b[0m\u001b[0mBATCH_SIZE\u001b[0m\u001b[0;34m,\u001b[0m\u001b[0mepochs\u001b[0m\u001b[0;34m=\u001b[0m\u001b[0mEPOCHS\u001b[0m\u001b[0;34m,\u001b[0m\u001b[0mvalidation_data\u001b[0m\u001b[0;34m=\u001b[0m\u001b[0;34m(\u001b[0m\u001b[0mX_test\u001b[0m\u001b[0;34m,\u001b[0m\u001b[0my_test\u001b[0m\u001b[0;34m)\u001b[0m\u001b[0;34m,\u001b[0m\u001b[0mcallbacks\u001b[0m\u001b[0;34m=\u001b[0m\u001b[0;34m[\u001b[0m\u001b[0mEarlyStopping\u001b[0m\u001b[0;34m(\u001b[0m\u001b[0mpatience\u001b[0m\u001b[0;34m=\u001b[0m\u001b[0;36m3\u001b[0m\u001b[0;34m,\u001b[0m\u001b[0mmonitor\u001b[0m\u001b[0;34m=\u001b[0m\u001b[0;34m'val_loss'\u001b[0m\u001b[0;34m,\u001b[0m\u001b[0mmin_delta\u001b[0m\u001b[0;34m=\u001b[0m\u001b[0;36m0.001\u001b[0m\u001b[0;34m)\u001b[0m\u001b[0;34m]\u001b[0m\u001b[0;34m)\u001b[0m\u001b[0;34m\u001b[0m\u001b[0;34m\u001b[0m\u001b[0m\n\u001b[0m",
            "\u001b[0;32m/usr/local/lib/python3.9/dist-packages/torch/nn/modules/module.py\u001b[0m in \u001b[0;36m__getattr__\u001b[0;34m(self, name)\u001b[0m\n\u001b[1;32m   1612\u001b[0m             \u001b[0;32mif\u001b[0m \u001b[0mname\u001b[0m \u001b[0;32min\u001b[0m \u001b[0mmodules\u001b[0m\u001b[0;34m:\u001b[0m\u001b[0;34m\u001b[0m\u001b[0;34m\u001b[0m\u001b[0m\n\u001b[1;32m   1613\u001b[0m                 \u001b[0;32mreturn\u001b[0m \u001b[0mmodules\u001b[0m\u001b[0;34m[\u001b[0m\u001b[0mname\u001b[0m\u001b[0;34m]\u001b[0m\u001b[0;34m\u001b[0m\u001b[0;34m\u001b[0m\u001b[0m\n\u001b[0;32m-> 1614\u001b[0;31m         raise AttributeError(\"'{}' object has no attribute '{}'\".format(\n\u001b[0m\u001b[1;32m   1615\u001b[0m             type(self).__name__, name))\n\u001b[1;32m   1616\u001b[0m \u001b[0;34m\u001b[0m\u001b[0m\n",
            "\u001b[0;31mAttributeError\u001b[0m: 'BiLSTM_Sentiment_Classifier' object has no attribute 'fit'"
          ]
        }
      ],
      "source": [
        "history=model.fit(X_train,y_train,batch_size=BATCH_SIZE,epochs=EPOCHS,validation_data=(X_test,y_test),callbacks=[EarlyStopping(patience=3,monitor='val_loss',min_delta=0.001)])"
      ]
    },
    {
      "cell_type": "code",
      "execution_count": null,
      "metadata": {
        "colab": {
          "base_uri": "https://localhost:8080/"
        },
        "id": "wfTLdAi45Qsd",
        "outputId": "6b1bafde-5763-4227-d40b-a5ff947fc8fa"
      },
      "outputs": [
        {
          "data": {
            "text/plain": [
              "<All keys matched successfully>"
            ]
          },
          "execution_count": 68,
          "metadata": {},
          "output_type": "execute_result"
        }
      ],
      "source": [
        "# Loading the best model\n",
        "model.load_state_dict(torch.load('./state_dict.pt'))"
      ]
    },
    {
      "cell_type": "markdown",
      "metadata": {
        "id": "mkOg70khYzia"
      },
      "source": [
        "BILSTM Testing"
      ]
    },
    {
      "cell_type": "code",
      "execution_count": null,
      "metadata": {
        "colab": {
          "base_uri": "https://localhost:8080/"
        },
        "id": "66NG4JJdXT0a",
        "outputId": "9d7a1487-653c-4650-a7f4-af82e60ca1f1"
      },
      "outputs": [
        {
          "name": "stdout",
          "output_type": "stream",
          "text": [
            "tensor([3, 2, 4, 3, 2, 3, 3, 0, 1, 0, 3, 0, 0, 3, 0, 4, 4, 1, 0, 2, 3, 4, 3, 0,\n",
            "        3, 4, 3, 4, 4, 4, 2, 2], device='cuda:0')\n",
            "tensor([0, 1, 2, 4, 0, 3, 4, 3, 1, 0, 0, 1, 4, 4, 3, 0, 1, 4, 1, 2, 1, 1, 1, 2,\n",
            "        4, 2, 4, 2, 2, 3, 1, 1], device='cuda:0')\n",
            "tensor([4, 2, 3, 3, 3, 1, 1, 1, 2, 1, 3, 4, 4, 0, 0, 1, 0, 4, 1, 4, 0, 4, 1, 1,\n",
            "        2, 1, 0, 0, 2, 3, 4, 3], device='cuda:0')\n",
            "tensor([2, 1, 3, 2, 1, 3, 1, 2, 0, 0, 3, 1, 4, 1, 3, 3, 2, 4, 4, 3, 2, 3, 3, 3,\n",
            "        1, 2, 1, 3, 0, 0, 1, 0], device='cuda:0')\n",
            "tensor([0, 4, 1, 3, 0, 2, 2, 3, 2, 3, 4, 0, 2, 2, 3, 3, 0, 2, 1, 2, 4, 3, 1, 2,\n",
            "        2, 1, 2, 2, 0, 0, 2, 2], device='cuda:0')\n",
            "tensor([1, 1, 1, 2, 3, 3, 0, 2, 2, 3, 4, 1, 2, 0, 2, 0, 0, 0, 0, 1, 3, 2, 3, 0,\n",
            "        1, 4, 4, 3, 1, 4, 0, 2], device='cuda:0')\n",
            "tensor([3, 1, 2, 0, 0, 2, 0, 4, 1, 4, 2, 0, 4, 3, 4, 2, 1, 3, 0, 0, 4, 4, 0, 2,\n",
            "        0, 1, 2, 0, 2, 3, 0, 1], device='cuda:0')\n",
            "tensor([4, 3, 1, 0, 4, 0, 4, 0, 4, 4, 3, 2, 0, 3, 2, 3, 2, 4, 3, 0, 3, 2, 1, 0,\n",
            "        0, 1, 4, 1, 4, 3, 2, 4], device='cuda:0')\n",
            "tensor([1, 0, 1, 4, 0, 2, 3, 1, 3, 4, 4, 4, 1, 1, 3, 0, 4, 3, 1, 0, 1, 2, 1, 4,\n",
            "        4, 4, 1, 3, 1, 4, 4, 2], device='cuda:0')\n",
            "tensor([0, 4, 3, 4, 3, 4, 4, 1, 4, 0, 2, 3, 3, 1, 4, 4, 3, 1, 1, 3, 0, 2, 1, 4,\n",
            "        1, 1, 4, 3, 3, 2, 1, 3], device='cuda:0')\n",
            "tensor([4, 1, 3, 3, 2, 3, 1, 0, 0, 1, 0, 4, 1, 4, 1, 3, 0, 0, 2, 3, 3, 3, 4, 2,\n",
            "        3, 4, 0, 3, 1, 1, 0, 2], device='cuda:0')\n",
            "tensor([1, 2, 2, 0, 4, 2, 3, 2, 1, 1, 2, 1, 0, 1, 0, 4, 1, 4, 1, 3, 1, 3, 0, 4,\n",
            "        1, 2, 4, 3, 3, 3, 3, 1], device='cuda:0')\n",
            "tensor([0, 2, 4, 0, 0, 4, 1, 1, 3, 0, 4, 0, 2, 4, 2, 3, 4, 2, 4, 2, 1, 3, 3, 3,\n",
            "        3, 0, 4, 0, 3, 0, 3, 0], device='cuda:0')\n",
            "tensor([3, 4, 2, 3, 1, 2, 1, 3, 1, 0, 3, 4, 1, 2, 1, 0, 4, 2, 2, 1, 4, 3, 2, 4,\n",
            "        0, 1, 0, 3, 3, 4, 0, 1], device='cuda:0')\n",
            "tensor([2, 1, 3, 4, 3, 0, 0, 0, 4, 4, 2, 0, 3, 3, 1, 2, 3, 1, 0, 0, 2, 3, 2, 1,\n",
            "        3, 2, 1, 4, 2, 4, 3, 0], device='cuda:0')\n",
            "tensor([3, 1, 4, 2, 2, 0, 1, 2, 0, 0, 0, 3, 2, 3, 2, 2, 0, 3, 0, 1, 0, 1, 3, 2,\n",
            "        3, 1, 2, 3, 1, 2, 4, 0], device='cuda:0')\n",
            "tensor([1, 0, 4, 0, 2, 3, 1, 2, 4, 2, 2, 0, 2, 1, 4, 4, 4, 0, 2, 2, 2, 4, 3, 1,\n",
            "        4, 2, 3, 4, 2, 1, 4, 4], device='cuda:0')\n",
            "tensor([2, 1, 0, 2, 2, 4, 2, 1, 1, 3, 0, 3, 2, 2, 4, 3, 0, 3, 0, 0, 3, 4, 2, 2,\n",
            "        0, 3, 2, 2, 3, 2, 3, 0], device='cuda:0')\n",
            "tensor([4, 2, 0, 4, 0, 2, 1, 3, 0, 3, 0, 0, 2, 2, 0, 2, 1, 1, 1, 1, 3, 2, 3, 2,\n",
            "        1, 0, 3, 1, 1, 2, 0, 1], device='cuda:0')\n",
            "tensor([4, 1, 1, 4, 2, 4, 3, 3, 1, 0, 3, 4, 3, 3, 1, 0, 0, 3, 2, 0, 3, 1, 0, 3,\n",
            "        4, 3, 3, 2, 2, 3, 1, 3], device='cuda:0')\n",
            "tensor([3, 1, 3, 0, 3, 1, 1, 3, 4, 3, 4, 1, 2, 4, 1, 2, 1, 0, 1, 4, 4, 4, 2, 0,\n",
            "        3, 2, 4, 0, 3, 2, 0, 4], device='cuda:0')\n",
            "tensor([0, 0, 0, 4, 3, 3, 1, 0, 3, 1, 3, 0, 4, 2, 0, 1, 4, 2, 3, 3, 2, 3, 1, 3,\n",
            "        3, 0, 0, 2, 1, 4, 2, 2], device='cuda:0')\n",
            "tensor([1, 2, 3, 4, 0, 3, 4, 1, 1, 4, 4, 0, 1, 2, 1, 3, 2, 1, 3, 2, 2, 0, 2, 4,\n",
            "        0, 0, 1, 2, 2, 2, 2, 1], device='cuda:0')\n",
            "tensor([1, 0, 1, 4, 0, 2, 2, 4, 1, 3, 2, 0, 4, 3, 2, 3, 2, 1, 1, 0, 2, 0, 4, 4,\n",
            "        0, 1, 0, 3, 4, 3, 1, 2], device='cuda:0')\n",
            "tensor([2, 3, 1, 2, 0, 1, 0, 0, 2, 4, 2, 1, 1, 4, 3, 4, 1, 2, 2, 1, 3, 1, 0, 2,\n",
            "        0, 4, 2, 0, 2, 3, 0, 0], device='cuda:0')\n",
            "tensor([1, 4, 2, 3, 4, 1, 2, 2, 4, 1, 0, 2, 2, 0, 2, 4, 0, 0, 4, 3, 3, 0, 1, 4,\n",
            "        2, 3, 0, 4, 2, 4, 1, 0], device='cuda:0')\n",
            "tensor([2, 0, 3, 4, 1, 2, 2, 4, 3, 1, 4, 0, 0, 1, 1, 4, 4, 3, 2, 4, 2, 2, 3, 3,\n",
            "        2, 0, 3, 1, 3, 4, 4, 0], device='cuda:0')\n",
            "tensor([1, 3, 0, 4, 3, 3, 1, 3, 2, 1, 0, 1, 2, 3, 4, 0, 0, 4, 0, 0, 3, 3, 0, 4,\n",
            "        2, 0, 4, 0, 1, 1, 1, 2], device='cuda:0')\n",
            "tensor([4, 4, 1, 4, 2, 0, 4, 2, 0, 4, 0, 4, 0, 4, 4, 2, 0, 3, 0, 1, 2, 3, 0, 0,\n",
            "        4, 2, 1, 1, 1, 0, 1, 3], device='cuda:0')\n",
            "tensor([4, 0, 1, 2, 1, 2, 3, 0, 3, 0, 1, 3, 4, 0, 2, 0, 1, 4, 3, 2, 0, 4, 2, 1,\n",
            "        4, 0, 1, 4, 1, 3, 4, 2], device='cuda:0')\n",
            "tensor([4, 1, 4, 3, 3, 4, 0, 0, 3, 1, 3, 2, 2, 2, 1, 4, 1, 2, 2, 1, 1, 1, 1, 4,\n",
            "        3, 4, 0, 0, 0, 2, 2, 4], device='cuda:0')\n",
            "tensor([3, 4, 3, 4, 3, 1, 1, 4, 4, 3, 3, 3, 1, 0, 2, 2, 1, 3, 1, 0, 2, 0, 0, 2,\n",
            "        2, 0, 1, 2, 3, 3, 4, 1], device='cuda:0')\n",
            "tensor([2, 1, 2, 4, 2, 1, 4, 4, 2, 0, 4, 3, 1, 3, 4, 2, 1, 1, 0, 0, 4, 4, 3, 2,\n",
            "        3, 4, 3, 4, 1, 2, 3, 2], device='cuda:0')\n",
            "tensor([2, 0, 4, 4, 2, 1, 1, 0, 2, 2, 0, 0, 1, 2, 0, 3, 3, 0, 1, 1, 2, 1, 4, 4,\n",
            "        1, 2, 3, 3, 1, 4, 0, 0], device='cuda:0')\n",
            "tensor([0, 3, 4, 2, 1, 4, 1, 4, 1, 4, 1, 3, 0, 2, 0, 3, 3, 1, 0, 0, 2, 3, 0, 4,\n",
            "        4, 2, 3, 3, 3, 4, 2, 4], device='cuda:0')\n",
            "tensor([2, 0, 3, 1, 1, 2, 0, 2, 0, 2, 1, 3, 2, 1, 3, 2, 1, 1, 2, 0, 0, 3, 3, 0,\n",
            "        0, 4, 0, 4, 1, 3, 3, 2], device='cuda:0')\n",
            "tensor([3, 2, 4, 2, 4, 3, 1, 3, 1, 4, 1, 0, 3, 4, 0, 0, 1, 0, 2, 3, 4, 2, 3, 2,\n",
            "        2, 0, 2, 0, 1, 4, 2, 4], device='cuda:0')\n",
            "tensor([3, 0, 2, 3, 4, 3, 1, 0, 0, 0, 4, 4, 4, 0, 0, 3, 1, 1, 0, 0, 1, 1, 1, 0,\n",
            "        1, 2, 0, 4, 1, 0, 4, 4], device='cuda:0')\n",
            "tensor([1, 1, 3, 2, 3, 0, 2, 0, 3, 0, 2, 4, 2, 2, 0, 0, 1, 2, 2, 0, 3, 2, 3, 1,\n",
            "        1, 3, 3, 2, 2, 0, 3, 0], device='cuda:0')\n",
            "tensor([4, 1, 1, 1, 1, 0, 2, 0, 0, 0, 0, 4, 1, 4, 4, 2, 2, 1, 1, 0, 0, 2, 4, 2,\n",
            "        2, 2, 2, 2, 0, 4, 0, 3], device='cuda:0')\n",
            "tensor([2, 3, 1, 3, 1, 2, 1, 1, 0, 0, 3, 1, 3, 0, 1, 2, 2, 4, 3, 1, 2, 3, 2, 3,\n",
            "        3, 1, 3, 3, 4, 2, 3, 2], device='cuda:0')\n",
            "tensor([1, 2, 0, 3, 3, 0, 0, 0, 1, 2, 4, 3, 1, 1, 3, 3, 0, 2, 3, 2, 4, 1, 4, 3,\n",
            "        1, 3, 4, 4, 0, 0, 4, 3], device='cuda:0')\n",
            "tensor([1, 3, 2, 3, 1, 1, 1, 4, 1, 2, 3, 3, 4, 3, 2, 2, 2, 4, 2, 2, 1, 0, 0, 0,\n",
            "        3, 0, 3, 4, 4, 2, 3, 4], device='cuda:0')\n",
            "tensor([3, 1, 0, 4, 3, 0, 0, 3, 2, 2, 0, 0, 2, 4, 0, 0, 1, 1, 2, 1, 4, 1, 1, 1,\n",
            "        4, 4, 3, 4, 2, 1, 3, 1], device='cuda:0')\n",
            "tensor([3, 2, 0, 2, 3, 0, 1, 3, 4, 0, 0, 1, 1, 1, 4, 3, 4, 3, 0, 2, 1, 1, 0, 1,\n",
            "        3, 4, 0, 2, 1, 2, 0, 3], device='cuda:0')\n",
            "tensor([1, 2, 1, 0, 1, 2, 4, 4, 2, 2, 1, 1, 0, 4, 4, 0, 2, 1, 2, 1, 4, 1, 1, 2,\n",
            "        0, 4, 0, 1, 2, 3, 4, 0], device='cuda:0')\n",
            "tensor([0, 2, 2, 3, 2, 1, 0, 0, 2, 3, 0, 3, 2, 4, 3, 1, 4, 0, 1, 3, 2, 3, 3, 1,\n",
            "        4, 2, 1, 0, 2, 0, 0, 0], device='cuda:0')\n",
            "tensor([2, 0, 2, 1, 2, 3, 2, 1, 3, 2, 1, 3, 1, 1, 0, 3, 3, 2, 4, 3, 1, 2, 2, 1,\n",
            "        3, 4, 3, 2, 4, 0, 1, 1], device='cuda:0')\n",
            "tensor([1, 2, 3, 3, 1, 2, 3, 0, 1, 4, 0, 3, 0, 2, 1, 2, 4, 2, 0, 4, 4, 0, 3, 0,\n",
            "        3, 2, 4, 1, 4, 0, 1, 4], device='cuda:0')\n",
            "tensor([0, 0, 4, 0, 3, 4, 3, 3, 1, 3, 1, 4, 2, 3, 1, 1, 0, 1, 2, 4, 1, 0, 0, 1,\n",
            "        2, 1, 4, 0, 1, 1, 4, 2], device='cuda:0')\n",
            "tensor([3, 4, 1, 0, 1, 0, 4, 2, 2, 0, 3, 1, 0, 1, 0, 0, 0, 2, 1, 4, 4, 2, 4, 4,\n",
            "        4, 1, 4, 2, 1, 1, 3, 2], device='cuda:0')\n",
            "tensor([0, 4, 3, 3, 0, 4, 0, 4, 3, 0, 2, 0, 2, 3, 1, 4, 1, 3, 1, 2, 1, 3, 4, 1,\n",
            "        3, 0, 1, 1, 0, 2, 2, 2], device='cuda:0')\n",
            "tensor([2, 1, 3, 1, 2, 3, 2, 2, 4, 4, 0, 3, 3, 3, 0, 2, 4, 3, 0, 2, 3, 2, 1, 3,\n",
            "        0, 0, 2, 4, 4, 2, 3, 4], device='cuda:0')\n",
            "tensor([2, 0, 2, 1, 1, 0, 3, 1, 0, 0, 0, 2, 0, 0, 2, 0, 0, 2, 3, 2, 0, 4, 0, 3,\n",
            "        0, 4, 2, 3, 3, 2, 1, 3], device='cuda:0')\n",
            "tensor([3, 2, 0, 4, 1, 3, 3, 2, 2, 0, 4, 1, 0, 3, 0, 1, 2, 1, 4, 2, 2, 0, 4, 1,\n",
            "        3, 4, 2, 4, 0, 0, 3, 1], device='cuda:0')\n",
            "tensor([0, 2, 1, 0, 0, 1, 1, 0, 3, 1, 4, 1, 2, 4, 0, 2, 3, 3, 3, 1, 0, 4, 3, 4,\n",
            "        2, 2, 4, 2, 0, 4, 1, 1], device='cuda:0')\n",
            "tensor([0, 4, 2, 3, 3, 2, 3, 1, 4, 1, 1, 3, 0, 1, 0, 3, 0, 2, 0, 1, 1, 4, 3, 4,\n",
            "        1, 1, 1, 3, 2, 2, 0, 2], device='cuda:0')\n",
            "tensor([1, 4, 2, 0, 2, 0, 1, 3, 2, 3, 1, 0, 0, 3, 1, 3, 4, 1, 2, 4, 2, 2, 4, 0,\n",
            "        2, 0, 4, 1, 1, 1, 2, 4], device='cuda:0')\n",
            "tensor([4, 3, 3, 0, 0, 2, 2, 1, 4, 4, 1, 1, 1, 0, 3, 1, 2, 0, 2, 4, 1, 4, 1, 3,\n",
            "        2, 3, 3, 3, 1, 3, 1, 4], device='cuda:0')\n",
            "tensor([3, 2, 2, 1, 2, 2, 2, 0, 1, 2, 3, 2, 2, 2, 3, 4, 3, 0, 0, 2, 2, 2, 0, 1,\n",
            "        0, 3, 3, 0, 4, 1, 1, 1], device='cuda:0')\n",
            "tensor([2, 4, 1, 4, 2, 2, 3, 2, 2, 1, 3, 2, 2, 2, 1, 1, 4, 1, 3, 1, 2, 0, 2, 2,\n",
            "        3, 4, 3, 3, 1, 4, 2, 0], device='cuda:0')\n",
            "tensor([0, 1, 2, 0, 2, 3, 4, 3, 2, 0, 0, 2, 3, 1, 2, 0, 2, 3, 0, 0, 0, 4, 0, 4,\n",
            "        4, 3, 0, 4, 4, 0, 0, 3], device='cuda:0')\n",
            "tensor([3, 3, 0, 0, 1, 1, 2, 3, 0, 1, 1, 3, 2, 2, 3, 3, 2, 2, 0, 0, 3, 3, 2, 0,\n",
            "        4, 3, 0, 0, 2, 3, 3, 0], device='cuda:0')\n",
            "tensor([4, 1, 0, 0, 1, 2, 1, 1, 0, 3, 4, 4, 1, 2, 1, 4, 0, 0, 4, 3, 2, 4, 1, 3,\n",
            "        3, 3, 0, 1, 4, 2, 1, 1], device='cuda:0')\n",
            "tensor([0, 3, 2, 1, 3, 0, 1, 0, 1, 3, 4, 1, 2, 2, 2, 2, 0, 0, 1, 3, 1, 1, 4, 3,\n",
            "        4, 1, 1, 3, 4, 0, 4, 2], device='cuda:0')\n",
            "tensor([3, 1, 1, 4, 1, 3, 4, 1, 2, 1, 1, 0, 2, 0, 0, 3, 1, 1, 3, 1, 3, 0, 1, 0,\n",
            "        3, 3, 0, 1, 2, 1, 0, 0], device='cuda:0')\n",
            "tensor([3, 0, 2, 4, 0, 1, 1, 1, 2, 3, 1, 4, 4, 4, 1, 0, 2, 1, 0, 3, 4, 4, 2, 0,\n",
            "        2, 2, 0, 0, 2, 0, 3, 2], device='cuda:0')\n",
            "tensor([1, 3, 4, 4, 4, 1, 4, 3, 1, 2, 3, 3, 4, 1, 1, 2, 2, 4, 0, 2, 1, 3, 1, 0,\n",
            "        1, 3, 1, 4, 3, 2, 1, 2], device='cuda:0')\n",
            "tensor([1, 1, 1, 1, 3, 2, 4, 4, 3, 3, 3, 0, 2, 2, 2, 0, 1, 1, 1, 2, 1, 4, 4, 3,\n",
            "        0, 3, 2, 3, 0, 4, 3, 0], device='cuda:0')\n",
            "tensor([2, 2, 3, 3, 4, 3, 1, 0, 3, 1, 3, 0, 3, 2, 1, 2, 2, 4, 0, 4, 0, 1, 0, 4,\n",
            "        1, 2, 2, 1, 2, 3, 3, 0], device='cuda:0')\n",
            "tensor([0, 3, 0, 0, 1, 4, 0, 2, 2, 4, 3, 4, 2, 0, 2, 0, 0, 2, 0, 3, 4, 0, 2, 3,\n",
            "        0, 4, 1, 0, 0, 3, 3, 0], device='cuda:0')\n",
            "tensor([4, 1, 4, 0, 3, 0, 2, 0, 3, 2, 0, 2, 4, 0, 0, 4, 1, 4, 0, 2, 2, 1, 4, 1,\n",
            "        0, 2, 0, 4, 2, 1, 2, 0], device='cuda:0')\n",
            "tensor([3, 3, 2, 1, 3, 4, 2, 2, 3, 2, 1, 2, 1, 2, 2, 3, 0, 3, 1, 4, 1, 0, 2, 2,\n",
            "        2, 3, 0, 1, 0, 0, 1, 2], device='cuda:0')\n",
            "tensor([2, 0, 1, 1, 3, 2, 2, 3, 3, 3, 3, 1, 3, 0, 2, 3, 2, 4, 0, 3, 4, 1, 2, 2,\n",
            "        0, 3, 3, 4, 4, 2, 1, 3], device='cuda:0')\n",
            "tensor([1, 4, 0, 4, 1, 1, 4, 4, 2, 4, 3, 2, 1, 3, 4, 3, 0, 3, 1, 1, 3, 4, 4, 4,\n",
            "        3, 0, 3, 2, 0, 4, 1, 2], device='cuda:0')\n",
            "tensor([4, 0, 3, 1, 0, 2, 4, 3, 0, 0, 4, 4, 3, 2, 4, 1, 1, 0, 3, 4, 2, 4, 2, 3,\n",
            "        2, 0, 4, 1, 0, 0, 2, 2], device='cuda:0')\n",
            "tensor([0, 4, 2, 2, 3, 1, 0, 2, 0, 0, 2, 2, 0, 2, 3, 1, 1, 2, 1, 2, 4, 1, 1, 4,\n",
            "        1, 1, 2, 2, 3, 1, 1, 4], device='cuda:0')\n",
            "tensor([4, 0, 4, 3, 3, 3, 1, 1, 0, 4, 2, 4, 2, 4, 1, 3, 0, 2, 4, 3, 2, 0, 3, 1,\n",
            "        0, 3, 3, 2, 2, 2, 3, 0], device='cuda:0')\n",
            "tensor([2, 2, 2, 4, 4, 3, 4, 0, 2, 0, 1, 1, 2, 0, 2, 1, 2, 1, 4, 4, 0, 0, 2, 3,\n",
            "        3, 0, 2, 3, 3, 3, 4, 0], device='cuda:0')\n",
            "tensor([0, 2, 1, 1, 1, 1, 1, 4, 2, 1, 4, 4, 1, 3, 1, 4, 3, 0, 0, 0, 0, 2, 4, 1,\n",
            "        2, 4, 1, 4, 0, 4, 0, 4], device='cuda:0')\n",
            "tensor([0, 2, 3, 1, 0, 3, 2, 0, 1, 3, 1, 1, 4, 1, 3, 2, 2, 3, 2, 0, 1, 4, 1, 3,\n",
            "        4, 0, 3, 3, 0, 4, 2, 3], device='cuda:0')\n",
            "tensor([3, 1, 0, 3, 3, 2, 3, 0, 4, 4, 2, 1, 1, 0, 2, 1, 2, 0, 4, 4, 3, 4, 4, 1,\n",
            "        4, 4, 1, 3, 0, 0, 1, 0], device='cuda:0')\n",
            "tensor([3, 3, 0, 3, 2, 2, 2, 0, 0, 1, 3, 3, 1, 2, 1, 0, 0, 1, 0, 3, 3, 4, 0, 0,\n",
            "        4, 4, 3, 3, 1, 0, 3, 3], device='cuda:0')\n",
            "tensor([1, 3, 3, 2, 3, 4, 1, 4, 2, 2, 0, 3, 3, 0, 1, 3, 0, 2, 1, 1, 1, 1, 1, 3,\n",
            "        2, 3, 3, 0, 1, 2, 0, 1], device='cuda:0')\n",
            "tensor([3, 4, 0, 1, 2, 2, 3, 0, 2, 2, 4, 2, 2, 3, 3, 3, 0, 1, 0, 2, 1, 1, 4, 1,\n",
            "        0, 1, 4, 4, 0, 3, 2, 0], device='cuda:0')\n",
            "tensor([4, 3, 0, 0, 2, 1, 4, 0, 3, 4, 2, 4, 4, 0, 3, 4, 3, 2, 1, 3, 0, 2, 1, 3,\n",
            "        0, 4, 2, 0, 4, 2, 3, 4], device='cuda:0')\n",
            "tensor([2, 3, 4, 3, 1, 3, 1, 4, 0, 2, 1, 0, 1, 2, 2, 2, 2, 3, 0, 0, 2, 0, 0, 1,\n",
            "        4, 4, 4, 3, 1, 0, 0, 1], device='cuda:0')\n",
            "tensor([3, 2, 1, 0, 1, 4, 3, 4, 2, 0, 2, 0, 2, 4, 2, 0, 1, 4, 3, 3, 1, 0, 2, 0,\n",
            "        0, 0, 4, 2, 0, 2, 1, 1], device='cuda:0')\n",
            "tensor([1, 2, 2, 2, 3, 2, 3, 1, 1, 4, 4, 2, 0, 0, 0, 2, 4, 4, 0, 2, 3, 4, 4, 2,\n",
            "        0, 1, 2, 1, 2, 1, 2, 3], device='cuda:0')\n",
            "tensor([4, 3, 4, 3, 1, 2, 3, 4, 3, 3, 0, 4, 1, 0, 1, 1, 0, 0, 1, 3, 0, 1, 2, 2,\n",
            "        2, 3, 1, 3, 0, 2, 2, 1], device='cuda:0')\n",
            "tensor([0, 2, 3, 3, 4, 3, 0, 2, 0, 4, 2, 1, 3, 0, 1, 4, 2, 4, 3, 4, 1, 1, 2, 1,\n",
            "        1, 1, 0, 4, 4, 2, 1, 0], device='cuda:0')\n",
            "tensor([0, 1, 2, 2, 3, 1, 1, 0, 4, 4, 1, 2, 2, 0, 2, 2, 1, 3, 1, 4, 1, 1, 4, 0,\n",
            "        1, 4, 1, 0, 0, 1, 1, 1], device='cuda:0')\n",
            "tensor([2, 1, 3, 1, 3, 1, 0, 2, 2, 3, 1, 2, 1, 4, 1, 4, 1, 2, 4, 0, 3, 0, 0, 0,\n",
            "        1, 1, 4, 0, 2, 2, 4, 4], device='cuda:0')\n",
            "tensor([2, 0, 1, 0, 0, 2, 3, 1, 4, 3, 0, 1, 1, 1, 1, 1, 4, 2, 0, 2, 4, 2, 0, 2,\n",
            "        2, 2, 0, 2, 1, 0, 1, 2], device='cuda:0')\n",
            "tensor([4, 2, 3, 3, 3, 2, 4, 1, 4, 2, 0, 0, 3, 0, 1, 2, 3, 0, 0, 0, 4, 0, 2, 4,\n",
            "        1, 3, 3, 0, 3, 0, 0, 4], device='cuda:0')\n",
            "tensor([1, 3, 4, 4, 1, 4, 3, 1, 4, 2, 0, 2, 4, 4, 2, 4, 3, 3, 4, 3, 3, 2, 0, 1,\n",
            "        4, 1, 1, 0, 0, 0, 4, 0], device='cuda:0')\n",
            "tensor([0, 3, 0, 0, 1, 1, 3, 3, 2, 1, 2, 4, 4, 1, 0, 4, 0, 3, 4, 2, 3, 0, 1, 1,\n",
            "        2, 2, 2, 2, 3, 2, 3, 2], device='cuda:0')\n",
            "tensor([1, 3, 3, 3, 2, 0, 0, 0, 1, 2, 4, 0, 0, 4, 1, 4, 2, 3, 2, 0, 0, 3, 1, 3,\n",
            "        1, 1, 1, 3, 2, 4, 3, 1], device='cuda:0')\n",
            "tensor([1, 1, 0, 4, 0, 2, 1, 4, 2, 3, 0, 2, 0, 1, 0, 1, 3, 0, 1, 0, 3, 0, 1, 2,\n",
            "        1, 0, 1, 2, 0, 0, 0, 4], device='cuda:0')\n",
            "tensor([3, 0, 3, 4, 0, 2, 0, 1, 1, 1, 2, 0, 4, 3, 2, 0, 1, 4, 2, 4, 2, 0, 4, 2,\n",
            "        4, 0, 2, 0, 4, 4, 4, 1], device='cuda:0')\n",
            "tensor([3, 1, 1, 2, 0, 3, 3, 0, 3, 0, 1, 3, 2, 4, 4, 2, 2, 4, 0, 3, 4, 2, 0, 4,\n",
            "        2, 2, 1, 0, 2, 2, 4, 4], device='cuda:0')\n",
            "tensor([2, 3, 4, 0, 0, 3, 1, 4, 1, 3, 3, 0, 3, 3, 4, 0, 4, 2, 2, 4, 1, 3, 3, 4,\n",
            "        4, 1, 1, 4, 1, 1, 0, 0], device='cuda:0')\n",
            "tensor([4, 1, 0, 2, 2, 0, 2, 4, 3, 2, 4, 4, 1, 4, 2, 2, 4, 1, 0, 1, 1, 2, 3, 2,\n",
            "        0, 1, 4, 2, 4, 4, 2, 4], device='cuda:0')\n",
            "tensor([2, 0, 4, 2, 1, 3, 0, 3, 4, 4, 3, 1, 1, 1, 3, 1, 3, 1, 0, 0, 0, 0, 2, 3,\n",
            "        1, 4, 3, 3, 3, 0, 0, 3], device='cuda:0')\n",
            "tensor([3, 1, 4, 4, 0, 0, 0, 3, 4, 4, 0, 3, 1, 0, 2, 3, 4, 0, 3, 2, 0, 4, 0, 0,\n",
            "        2, 2, 4, 2, 4, 4, 4, 1], device='cuda:0')\n",
            "tensor([1, 0, 4, 3, 3, 3, 1, 1, 0, 4, 2, 0, 1, 3, 3, 3, 3, 4, 1, 2, 1, 1, 1, 2,\n",
            "        4, 1, 4, 4, 4, 0, 3, 0], device='cuda:0')\n",
            "tensor([4, 3, 0, 3, 1, 0, 3, 1, 3, 1, 1, 0, 2, 1, 2, 3, 1, 3, 2, 0, 0, 0, 1, 0,\n",
            "        3, 0, 0, 2, 3, 3, 2, 4], device='cuda:0')\n",
            "tensor([0, 0, 0, 2, 1, 3, 0, 1, 0, 4, 3, 3, 0, 2, 1, 1, 3, 1, 2, 0, 1, 0, 2, 3,\n",
            "        1, 2, 3, 2, 0, 3, 1, 3], device='cuda:0')\n",
            "tensor([4, 4, 1, 0, 4, 4, 0, 0, 2, 1, 1, 3, 4, 3, 1, 3, 4, 4, 4, 1, 2, 1, 0, 4,\n",
            "        2, 1, 0, 4, 4, 4, 1, 4], device='cuda:0')\n",
            "tensor([4, 0, 3, 1, 1, 1, 1, 4, 4, 1, 4, 0, 2, 3, 0, 3, 3, 1, 2, 1, 1, 4, 4, 0,\n",
            "        3, 0, 0, 0, 4, 4, 2, 3], device='cuda:0')\n",
            "tensor([4, 2, 0, 2, 0, 2, 0, 4, 1, 4, 4, 2, 2, 2, 2, 1, 1, 2, 1, 2, 0, 0, 3, 3,\n",
            "        2, 0, 0, 4, 3, 4, 1, 0], device='cuda:0')\n",
            "tensor([1, 3, 3, 1, 1, 0, 4, 2, 1, 4, 1, 3, 3, 1, 2, 2, 3, 3, 4, 2, 4, 1, 3, 1,\n",
            "        1, 1, 3, 4, 2, 3, 4, 3], device='cuda:0')\n",
            "tensor([1, 0, 3, 2, 2, 4, 3, 2, 2, 1, 2, 3, 2, 4, 3, 3, 2, 4, 2, 1, 4, 4, 1, 4,\n",
            "        2, 0, 3, 2, 3, 0, 2, 0], device='cuda:0')\n",
            "tensor([3, 2, 2, 0, 0, 3, 3, 2, 0, 3, 3, 2, 0, 2, 3, 0, 1, 3, 3, 1, 0, 4, 3, 0,\n",
            "        2, 3, 4, 0, 3, 2, 2, 3], device='cuda:0')\n",
            "tensor([0, 0, 4, 4, 1, 3, 1, 2, 4, 4, 4, 2, 0, 1, 1, 4, 3, 1, 1, 0, 4, 0, 2, 4,\n",
            "        2, 0, 1, 0, 3, 4, 3, 1], device='cuda:0')\n",
            "tensor([0, 0, 0, 2, 1, 0, 2, 3, 0, 1, 3, 3, 0, 1, 2, 3, 0, 0, 2, 3, 1, 1, 0, 1,\n",
            "        3, 4, 0, 3, 2, 4, 4, 0], device='cuda:0')\n",
            "tensor([3, 3, 2, 3, 2, 3, 2, 2, 2, 1, 3, 4, 2, 3, 2, 1, 4, 0, 2, 3, 4, 1, 1, 1,\n",
            "        4, 3, 0, 0, 0, 2, 0, 1], device='cuda:0')\n",
            "tensor([3, 0, 1, 0, 0, 1, 2, 1, 3, 2, 3, 3, 1, 3, 3, 4, 3, 0, 0, 4, 2, 3, 4, 0,\n",
            "        1, 4, 4, 2, 0, 1, 3, 4], device='cuda:0')\n",
            "tensor([2, 3, 3, 4, 0, 0, 3, 4, 0, 4, 3, 4, 2, 1, 2, 2, 2, 3, 3, 1, 4, 2, 3, 1,\n",
            "        4, 2, 3, 1, 4, 2, 3, 1], device='cuda:0')\n",
            "tensor([4, 2, 3, 3, 3, 0, 1, 1, 3, 2, 1, 1, 4, 1, 4, 2, 1, 1, 2, 0, 2, 0, 0, 0,\n",
            "        2, 1, 3, 0, 0, 3, 4, 3], device='cuda:0')\n",
            "tensor([2, 2, 1, 0, 4, 2, 1, 3, 2, 3, 1, 2, 3, 1, 2, 3, 0, 3, 4, 2, 3, 1, 3, 3,\n",
            "        3, 3, 2, 2, 0, 2, 3, 4], device='cuda:0')\n",
            "tensor([1, 1, 1, 4, 2, 0, 3, 3, 1, 1, 0, 2, 2, 4, 3, 2, 1, 2, 3, 2, 3, 4, 4, 0,\n",
            "        3, 4, 1, 1, 1, 3, 4, 0], device='cuda:0')\n",
            "tensor([0, 3, 0, 3, 4, 0, 2, 3, 0, 4, 1, 3, 2, 1, 3, 4, 2, 3, 3, 0, 0, 4, 3, 3,\n",
            "        2, 3, 1, 0, 1, 4, 2, 0], device='cuda:0')\n",
            "tensor([4, 3, 1, 2, 1, 2, 3, 2, 4, 2, 1, 1, 2, 4, 0, 4, 1, 3, 1, 2, 1, 3, 0, 2,\n",
            "        4, 2, 3, 1, 0, 1, 4, 0], device='cuda:0')\n",
            "tensor([2, 3, 4, 1, 1, 3, 2, 1, 2, 3, 4, 0, 3, 4, 0, 2, 4, 3, 0, 0, 2, 1, 3, 0,\n",
            "        2, 2, 2, 4, 0, 4, 2, 2], device='cuda:0')\n",
            "tensor([4, 2, 2, 4, 1, 2, 1, 1, 4, 4, 4, 3, 1, 2, 0, 0, 1, 1, 2, 1, 1, 1, 0, 2,\n",
            "        2, 4, 2, 0, 4, 0, 3, 3], device='cuda:0')\n",
            "tensor([1, 2, 2, 2, 0, 3, 3, 0, 1, 3, 4, 0, 0, 4, 0, 3, 4, 1, 4, 0, 1, 1, 1, 4,\n",
            "        0, 2, 0, 3, 0, 2, 3, 1], device='cuda:0')\n",
            "tensor([0, 2, 3, 0, 4, 0, 1, 0, 4, 1, 0, 2, 1, 4, 2, 0, 4, 2, 0, 3, 3, 3, 1, 0,\n",
            "        1, 0, 3, 4, 3, 2, 4, 1], device='cuda:0')\n",
            "tensor([0, 0, 0, 0, 1, 0, 3, 2, 2, 0, 2, 2, 3, 1, 4, 0, 1, 3, 4, 3, 0, 3, 0, 1,\n",
            "        1, 0, 2, 2, 2, 4, 0, 1], device='cuda:0')\n",
            "tensor([2, 4, 0, 1, 1, 2, 0, 3, 4, 2, 3, 0, 3, 4, 1, 2, 1, 2, 3, 4, 0, 1, 1, 4,\n",
            "        3, 2, 4, 1, 2, 4, 3, 1], device='cuda:0')\n",
            "tensor([4, 2, 0, 0, 0, 1, 1, 4, 4, 3, 3, 4, 1, 1, 3, 1, 0, 3, 3, 0, 2, 1, 3, 4,\n",
            "        0, 0, 3, 4, 0, 3, 4, 3], device='cuda:0')\n",
            "tensor([1, 3, 2, 1, 0, 1, 0, 1, 2, 1, 3, 0, 2, 2, 0, 4, 4, 0, 3, 4, 2, 1, 2, 4,\n",
            "        4, 2, 2, 3, 1, 3, 0, 3], device='cuda:0')\n",
            "tensor([4, 2, 3, 3, 2, 3, 2, 2, 2, 4, 2, 2, 4, 0, 3, 3, 3, 2, 0, 4, 0, 0, 1, 4,\n",
            "        0, 1, 1, 1, 0, 4, 4, 4], device='cuda:0')\n",
            "tensor([2, 1, 3, 2, 0, 4, 2, 2, 2, 0, 2, 3, 2, 4, 2, 4, 4, 2, 0, 1, 1, 1, 4, 1,\n",
            "        0, 1, 1, 3, 2, 4, 4, 3], device='cuda:0')\n",
            "tensor([2, 1, 4, 1, 1, 2, 0, 2, 4, 1, 3, 3, 2, 2, 2, 3, 2, 3, 1, 3, 2, 4, 0, 3,\n",
            "        4, 1, 4, 0, 3, 3, 1, 4], device='cuda:0')\n",
            "tensor([2, 0, 0, 1, 0, 1, 3, 0, 2, 4, 2, 1, 0, 3, 2, 4, 2, 4, 0, 0, 3, 0, 3, 3,\n",
            "        0, 2, 4, 1, 4, 1, 3, 1], device='cuda:0')\n",
            "tensor([2, 3, 3, 3, 3, 2, 0, 0, 1, 3, 0, 3, 3, 2, 4, 0, 2, 3, 1, 4, 1, 2, 3, 2,\n",
            "        1, 0, 4, 0, 0, 2, 3, 3], device='cuda:0')\n",
            "tensor([4, 3, 1, 4, 0, 3, 1, 0, 1, 3, 4, 4, 3, 1, 0, 4, 2, 0, 2, 1, 1, 1, 3, 1,\n",
            "        0, 3, 2, 2, 2, 3, 3, 4], device='cuda:0')\n",
            "tensor([1, 1, 2, 1, 2, 1, 2, 4, 0, 2, 1, 2, 2, 1, 2, 4, 0, 3, 2, 2, 1, 3, 4, 4,\n",
            "        0, 3, 2, 0, 0, 0, 4, 0], device='cuda:0')\n",
            "tensor([2, 4, 3, 4, 0, 2, 4, 1, 4, 4, 3, 0, 1, 3, 0, 3, 2, 3, 1, 1, 3, 1, 1, 1,\n",
            "        2, 3, 1, 1, 1, 3, 2, 4], device='cuda:0')\n",
            "tensor([0, 2, 2, 1, 4, 1, 0, 1, 4, 0, 4, 3, 1, 2, 1, 1, 4, 2, 1, 1, 1, 0, 0, 4,\n",
            "        0, 4, 0, 1, 3, 3, 4, 3], device='cuda:0')\n",
            "tensor([0, 3, 0, 0, 3, 1, 0, 3, 4, 3, 4, 0, 0, 4, 3, 3, 3, 2, 4, 1, 1, 1, 2, 2,\n",
            "        2, 3, 2, 1, 0, 0, 3, 0], device='cuda:0')\n",
            "tensor([4, 3, 3, 0, 3, 3, 0, 3, 4, 3, 3, 4, 0, 1, 4, 2, 0, 4, 2, 0, 2, 4, 0, 1,\n",
            "        3, 0, 3, 4, 2, 4, 1, 3], device='cuda:0')\n",
            "tensor([1, 0, 2, 1, 4, 3, 4, 1, 1, 3, 3, 0, 3, 4, 0, 3, 1, 3, 2, 4, 2, 2, 0, 3,\n",
            "        1, 0, 4, 1, 1, 4, 1, 0], device='cuda:0')\n",
            "tensor([3, 2, 1, 4, 4, 1, 0, 2, 2, 2, 0, 1, 3, 3, 0, 0, 3, 1, 1, 2, 2, 3, 0, 4,\n",
            "        3, 1, 4, 4, 0, 1, 3, 3], device='cuda:0')\n",
            "tensor([0, 2, 3, 1, 4, 3, 1, 1, 0, 2, 0, 4, 0, 3, 3, 0, 2, 4, 4, 2, 2, 4, 1, 3,\n",
            "        1, 4, 2, 4, 4, 1, 3, 0], device='cuda:0')\n",
            "tensor([3, 1, 0, 3, 0, 4, 0, 1, 4, 2, 0, 0, 2, 2, 1, 3, 2, 3, 2, 3, 3, 3, 1, 3,\n",
            "        1, 2, 0, 1, 2, 2, 1, 4], device='cuda:0')\n",
            "tensor([2, 1, 4, 0, 4, 3, 4, 3, 4, 1, 2, 0, 1, 3, 2, 4, 2, 3, 3, 1, 4, 3, 2, 4,\n",
            "        0, 0, 2, 4, 2, 1, 1, 3], device='cuda:0')\n",
            "tensor([4, 0, 3, 2, 2, 4, 4, 1, 0, 0, 3, 4, 4, 1, 3, 0, 3, 0, 3, 2, 0, 2, 2, 4,\n",
            "        4, 1, 1, 4, 3, 0, 1, 2], device='cuda:0')\n",
            "tensor([4, 3, 1, 1, 1, 0, 3, 3, 0, 2, 2, 0, 1, 1, 2, 3, 0, 3, 1, 1, 2, 3, 1, 2,\n",
            "        0, 1, 2, 2, 4, 0, 1, 2], device='cuda:0')\n",
            "tensor([0, 3, 3, 0, 2, 4, 0, 3, 1, 2, 2, 4, 0, 0, 0, 1, 2, 3, 1, 4, 1, 3, 1, 0,\n",
            "        0, 2, 4, 2, 2, 4, 0, 0], device='cuda:0')\n",
            "tensor([2, 3, 4, 2, 2, 2, 1, 1, 4, 1, 4, 2, 2, 0, 3, 0, 2, 0, 3, 0, 0, 3, 2, 2,\n",
            "        2, 4, 1, 1, 2, 2, 1, 2], device='cuda:0')\n",
            "tensor([1, 3, 2, 3, 3, 2, 2, 0, 0, 3, 0, 0, 3, 1, 0, 2, 0, 2, 2, 2, 4, 2, 0, 1,\n",
            "        0, 4, 0, 1, 3, 2, 3, 3], device='cuda:0')\n",
            "tensor([3, 0, 1, 0, 2, 1, 3, 4, 3, 2, 4, 3, 0, 4, 1, 1, 2, 1, 4, 0, 3, 4, 4, 0,\n",
            "        2, 2, 4, 3, 2, 3, 4, 2], device='cuda:0')\n",
            "tensor([1, 0, 0, 3, 4, 0, 2, 0, 0, 1, 2, 2, 3, 4, 0, 2, 2, 1, 1, 0, 3, 0, 0, 4,\n",
            "        0, 0, 3, 3, 0, 3, 4, 2], device='cuda:0')\n",
            "tensor([4, 2, 0, 1, 2, 3, 1, 1, 0, 4, 4, 1, 3, 2, 3, 0, 4, 0, 3, 0, 4, 1, 1, 2,\n",
            "        0, 0, 0, 0, 2, 2, 0, 3], device='cuda:0')\n",
            "tensor([0, 3, 2, 2, 1, 1, 0, 2, 2, 1, 2, 4, 2, 0, 0, 4, 1, 3, 2, 2, 3, 1, 0, 2,\n",
            "        2, 0, 3, 0, 3, 1, 2, 1], device='cuda:0')\n",
            "tensor([2, 3, 0, 2, 0, 2, 0, 1, 4, 0, 3, 2, 1, 1, 2, 1, 3, 2, 2, 0, 0, 3, 1, 2,\n",
            "        3, 0, 4, 3, 2, 4, 0, 3], device='cuda:0')\n",
            "tensor([4, 0, 4, 3, 2, 2, 2, 0, 0, 0, 3, 2, 0, 4, 0, 4, 1, 1, 3, 0, 0, 2, 1, 0,\n",
            "        3, 4, 0, 2, 0, 4, 0, 3], device='cuda:0')\n",
            "tensor([4, 2, 2, 1, 1, 1, 1, 3, 2, 2, 0, 1, 2, 0, 3, 4, 0, 3, 0, 2, 0, 3, 4, 1,\n",
            "        3, 4, 4, 4, 1, 1, 4, 0], device='cuda:0')\n",
            "tensor([3, 4, 4, 3, 4, 2, 0, 1, 2, 2, 4, 1, 2, 1, 1, 3, 0, 4, 3, 2, 0, 2, 2, 3,\n",
            "        3, 0, 3, 1, 1, 2, 3, 0], device='cuda:0')\n",
            "tensor([1, 3, 4, 1, 0, 1, 0, 4, 4, 1, 1, 1, 0, 2, 4, 2, 0, 4, 0, 0, 4, 0, 1, 2,\n",
            "        0, 0, 1, 1, 0, 3, 2, 1], device='cuda:0')\n",
            "tensor([1, 0, 1, 4, 4, 4, 3, 4, 3, 3, 4, 3, 0, 3, 2, 0, 1, 3, 1, 2, 1, 2, 3, 3,\n",
            "        4, 2, 1, 1, 0, 2, 1, 4], device='cuda:0')\n",
            "tensor([0, 4, 0, 3, 3, 4, 4, 0, 0, 1, 1, 2, 2, 3, 2, 4, 2, 1, 4, 3, 3, 3, 4, 1,\n",
            "        2, 1, 2, 4, 4, 2, 2, 2], device='cuda:0')\n",
            "tensor([3, 0, 0, 3, 1, 2, 3, 1, 1, 3, 0, 1, 0, 3, 4, 0, 3, 1, 0, 2, 1, 4, 0, 1,\n",
            "        0, 4, 4, 3, 0, 1, 3, 3], device='cuda:0')\n",
            "tensor([0, 0, 2, 1, 0, 2, 0, 0, 2, 4, 1, 1, 3, 4, 2, 2, 4, 1, 0, 3, 1, 4, 4, 0,\n",
            "        0, 2, 1, 0, 1, 0, 2, 4], device='cuda:0')\n",
            "tensor([4, 4, 1, 3, 1, 0, 1, 4, 0, 0, 2, 3, 1, 2, 2, 1, 0, 3, 0, 3, 4, 4, 1, 2,\n",
            "        3, 3, 0, 2, 2, 1, 3, 4], device='cuda:0')\n",
            "tensor([2, 0, 1, 0, 1, 3, 2, 2, 0, 0, 1, 1, 3, 2, 2, 0, 4, 0, 4, 4, 0, 3, 4, 2,\n",
            "        1, 0, 4, 0, 3, 0, 0, 3], device='cuda:0')\n",
            "tensor([2, 1, 4, 0, 0, 2, 2, 3, 4, 0, 3, 3, 4, 2, 3, 4, 1, 3, 3, 4, 3, 3, 1, 0,\n",
            "        1, 2, 1, 2, 3, 0, 2, 0], device='cuda:0')\n",
            "tensor([1, 0, 0, 1, 2, 1, 0, 3, 0, 0, 4, 3, 3, 0, 3, 3, 2, 4, 4, 2, 3, 1, 2, 2,\n",
            "        0, 3, 0, 1, 0, 1, 4, 2], device='cuda:0')\n",
            "tensor([0, 4, 4, 2, 4, 1, 2, 1, 0, 0, 2, 1, 4, 3, 0, 3, 0, 3, 0, 4, 2, 0, 2, 3,\n",
            "        2, 0, 3, 4, 3, 0, 4, 4], device='cuda:0')\n",
            "tensor([2, 2, 1, 3, 2, 4, 2, 3, 0, 3, 4, 3, 3, 3, 0, 1, 1, 1, 1, 2, 4, 1, 1, 4,\n",
            "        3, 2, 2, 1, 1, 3, 3, 3], device='cuda:0')\n",
            "tensor([3, 1, 4, 1, 0, 3, 2, 4, 0, 2, 4, 2, 3, 2, 1, 3, 3, 1, 0, 0, 3, 3, 3, 2,\n",
            "        0, 4, 4, 3, 3, 1, 4, 4], device='cuda:0')\n",
            "tensor([2, 2, 3, 4, 1, 1, 2, 0, 4, 3, 0, 4, 2, 1, 0, 2, 0, 1, 4, 0, 0, 3, 0, 0,\n",
            "        2, 4, 2, 1, 2, 1, 0, 0], device='cuda:0')\n",
            "tensor([0, 1, 0, 0, 1, 0, 4, 3, 4, 4, 1, 2, 2, 2, 1, 2, 4, 1, 4, 0, 3, 2, 0, 2,\n",
            "        0, 0, 1, 3, 2, 4, 0, 1], device='cuda:0')\n",
            "tensor([2, 4, 1, 3, 2, 2, 0, 1, 3, 4, 0, 3, 4, 3, 4, 2, 1, 4, 4, 3, 3, 4, 1, 3,\n",
            "        0, 2, 3, 1, 3, 2, 0, 3], device='cuda:0')\n",
            "tensor([1, 1, 0, 4, 2, 2, 4, 0, 3, 0, 2, 0, 3, 0, 3, 3, 3, 0, 4, 0, 3, 3, 1, 2,\n",
            "        3, 1, 0, 2, 1, 1, 0, 3], device='cuda:0')\n",
            "tensor([4, 2, 2, 1, 0, 0, 0, 0, 4, 0, 4, 2, 3, 4, 1, 4, 0, 1, 3, 3, 1, 0, 4, 0,\n",
            "        0, 2, 1, 0, 3, 2, 1, 4], device='cuda:0')\n",
            "tensor([4, 4, 0, 3, 2, 0, 0, 0, 2, 0, 1, 4, 4, 3, 3, 3, 1, 3, 1, 0, 1, 1, 4, 2,\n",
            "        4, 3, 1, 4, 3, 2, 1, 1], device='cuda:0')\n",
            "tensor([0, 3, 1, 3, 0, 0, 0, 4, 0, 2, 4, 2, 0, 1, 0, 0, 1, 1, 1, 2, 1, 0, 3, 4,\n",
            "        0, 4, 1, 3, 3, 4, 3, 1], device='cuda:0')\n",
            "tensor([1, 1, 0, 3, 4, 0, 3, 0, 3, 0, 1, 0, 1, 4, 4, 4, 1, 1, 3, 0, 3, 3, 4, 4,\n",
            "        3, 3, 2, 3, 4, 0, 0, 0], device='cuda:0')\n",
            "tensor([2, 0, 1, 4, 0, 4, 1, 0, 2, 4, 3, 2, 0, 0, 0, 3, 2, 1, 2, 4, 1, 3, 2, 3,\n",
            "        2, 4, 3, 2, 4, 3, 0, 1], device='cuda:0')\n",
            "tensor([0, 3, 4, 1, 3, 4, 2, 2, 2, 0, 2, 2, 2, 0, 2, 2, 3, 4, 3, 4, 3, 3, 2, 3,\n",
            "        1, 1, 1, 2, 1, 4, 0, 2], device='cuda:0')\n",
            "tensor([3, 0, 4, 1, 0, 0, 0, 2, 3, 2, 3, 2, 4, 4, 1, 3, 1, 3, 3, 4, 1, 0, 2, 0,\n",
            "        3, 1, 2, 4, 1, 0, 4, 2], device='cuda:0')\n",
            "tensor([2, 1, 2, 1, 0, 3, 0, 2, 1, 2, 1, 4, 1, 1, 3, 3, 0, 0, 0, 1, 2, 0, 4, 1,\n",
            "        1, 3, 2, 0, 0, 4, 0, 1], device='cuda:0')\n",
            "tensor([1, 0, 4, 0, 3, 0, 2, 0, 4, 1, 4, 3, 4, 2, 0, 4, 3, 1, 4, 1, 4, 2, 3, 1,\n",
            "        4, 1, 1, 0, 2, 2, 2, 1], device='cuda:0')\n",
            "tensor([3, 2, 2, 4, 1, 3, 4, 1, 1, 2, 2, 0, 2, 1, 1, 1, 1, 0, 1, 0, 4, 1, 0, 2,\n",
            "        0, 1, 2, 0, 1, 0, 1, 0], device='cuda:0')\n",
            "tensor([2, 4, 3, 1, 3, 0, 1, 0, 2, 0, 3, 4, 1, 3, 3, 1, 3, 4, 4, 2, 2, 0, 4, 1,\n",
            "        2, 4, 0, 1, 2, 2, 2, 2], device='cuda:0')\n",
            "tensor([4, 0, 2, 1, 4, 3, 2, 2, 1, 0, 3, 1, 2, 2, 1, 1, 2, 0, 1, 2, 3, 2, 1, 3,\n",
            "        2, 1, 2, 0, 0, 4, 4, 1], device='cuda:0')\n",
            "tensor([2, 4, 4, 0, 4, 4, 4, 0, 3, 0, 4, 2, 4, 1, 2, 1, 4, 1, 1, 0, 0, 1, 1, 3,\n",
            "        3, 4, 1, 3, 1, 0, 3, 3], device='cuda:0')\n",
            "tensor([4, 0, 0, 3, 1, 0, 0, 4, 2, 3, 1, 2, 4, 0, 3, 4, 4, 4, 0, 0, 3, 4, 0, 2,\n",
            "        1, 1, 1, 2, 1, 1, 1, 1], device='cuda:0')\n",
            "tensor([0, 4, 3, 2, 0, 4, 2, 1, 1, 1, 2, 0, 4, 4, 0, 1, 3, 0, 3, 4, 0, 1, 0, 0,\n",
            "        4, 2, 2, 1, 2, 0, 1, 0], device='cuda:0')\n",
            "tensor([2, 2, 0, 0, 3, 0, 1, 1, 2, 2, 1, 2, 4, 3, 0, 0, 4, 3, 2, 0, 4, 1, 0, 1,\n",
            "        3, 3, 3, 0, 0, 3, 4, 1], device='cuda:0')\n",
            "tensor([2, 1, 4, 2, 1, 1, 1, 2, 0, 1, 2, 2, 1, 2, 3, 1, 0, 3, 0, 2, 0, 2, 0, 4,\n",
            "        0, 1, 3, 4, 4, 1, 2, 2], device='cuda:0')\n",
            "tensor([3, 0, 1, 3, 1, 2, 1, 0, 2, 4, 0, 2, 3, 1, 1, 0, 2, 4, 3, 2, 0, 2, 2, 2,\n",
            "        2, 4, 1, 1, 3, 3, 4, 1], device='cuda:0')\n",
            "tensor([4, 0, 1, 2, 1, 3, 3, 1, 1, 2, 1, 0, 3, 1, 4, 0, 1, 2, 2, 0, 4, 1, 2, 0,\n",
            "        3, 3, 2, 2, 0, 2, 4, 0], device='cuda:0')\n",
            "tensor([1, 1, 2, 1, 2, 4, 3, 1, 0, 0, 1, 3, 2, 1, 2, 3, 1, 2, 1, 3, 1, 1, 1, 4,\n",
            "        4, 0, 0, 3, 0, 2, 4, 3], device='cuda:0')\n",
            "tensor([0, 2, 1, 1, 0, 1, 2, 0, 2, 2, 2, 1, 4, 0, 2, 4, 1, 4, 2, 1, 3, 2, 1, 4,\n",
            "        1, 1, 3, 1, 1, 3, 3, 0], device='cuda:0')\n",
            "tensor([1, 0, 1, 0, 1, 0, 1, 0, 4, 2, 0, 1, 2, 4, 3, 1, 2, 4, 3, 2, 3, 2, 4, 2,\n",
            "        2, 4, 2, 3, 3, 1, 2, 2], device='cuda:0')\n",
            "tensor([1, 4, 3, 3, 2, 1, 0, 3, 0, 2, 1, 2, 1, 1, 1, 2, 4, 1, 2, 1, 2, 0, 1, 2,\n",
            "        0, 4, 0, 4, 2, 3, 4, 3], device='cuda:0')\n",
            "tensor([0, 4, 0, 2, 3, 2, 2, 0, 2, 0, 2, 1, 2, 2, 3, 4, 0, 2, 1, 2, 0, 1, 4, 3,\n",
            "        3, 0, 4, 1, 1, 0, 1, 1], device='cuda:0')\n",
            "tensor([0, 1, 0, 1, 3, 2, 2, 4, 0, 2, 2, 3, 4, 4, 0, 4, 0, 2, 0, 0, 2, 3, 1, 4,\n",
            "        3, 3, 0, 0, 2, 0, 3, 3], device='cuda:0')\n",
            "tensor([2, 2, 3, 0, 1, 3, 0, 1, 4, 0, 4, 4, 0, 1, 3, 2, 0, 4, 0, 3, 4, 1, 4, 2,\n",
            "        2, 2, 1, 0, 3, 1, 2, 1], device='cuda:0')\n",
            "tensor([3, 4, 2, 2, 3, 3, 2, 2, 0, 4, 2, 2, 2, 0, 2, 2, 0, 4, 1, 0, 2, 1, 1, 2,\n",
            "        4, 3, 0, 2, 1, 4, 0, 4], device='cuda:0')\n",
            "tensor([4, 2, 2, 4, 2, 0, 1, 3, 0, 1, 0, 0, 1, 2, 1, 1, 3, 1, 1, 2, 1, 0, 2, 2,\n",
            "        4, 2, 3, 1, 4, 4, 1, 4], device='cuda:0')\n",
            "tensor([1, 1, 2, 1, 1, 3, 0, 0, 3, 1, 0, 2, 1, 3, 4, 0, 4, 3, 0, 4, 4, 0, 1, 1,\n",
            "        0, 1, 3, 2, 4, 3, 2, 0], device='cuda:0')\n",
            "tensor([0, 2, 2, 3, 0, 3, 3, 2, 4, 0, 4, 1, 4, 1, 0, 0, 1, 3, 1, 0, 0, 3, 0, 3,\n",
            "        4, 1, 3, 0, 2, 3, 1, 0], device='cuda:0')\n",
            "tensor([4, 3, 4, 2, 4, 3, 2, 2, 3, 0, 3, 4, 1, 3, 2, 1, 3, 0, 2, 2, 3, 2, 1, 3,\n",
            "        0, 4, 2, 0, 0, 2, 1, 2], device='cuda:0')\n",
            "tensor([2, 4, 1, 0, 3, 1, 0, 1, 4, 2, 1, 3, 4, 3, 1, 0, 0, 4, 2, 0, 0, 0, 1, 2,\n",
            "        0, 0, 1, 3, 1, 3, 3, 1], device='cuda:0')\n",
            "tensor([4, 0, 0, 1, 0, 2, 3, 2, 4, 2, 2, 3, 0, 4, 4, 3, 0, 1, 4, 4, 2, 4, 4, 4,\n",
            "        2, 2, 4, 0, 3, 0, 3, 1], device='cuda:0')\n",
            "tensor([0, 0, 2, 2, 2, 2, 4, 3, 4, 2, 1, 1, 4, 4, 1, 4, 2, 3, 2, 3, 4, 4, 2, 0,\n",
            "        0, 0, 3, 3, 2, 0, 0, 4], device='cuda:0')\n",
            "tensor([2, 4, 3, 2, 4, 3, 0, 1, 4, 1, 4, 0, 1, 4, 2, 0, 0, 3, 2, 1, 1, 3, 1, 4,\n",
            "        2, 0, 0, 2, 1, 3, 0, 1], device='cuda:0')\n",
            "tensor([1, 1, 3, 0, 0, 3, 4, 4, 2, 1, 2, 4, 1, 0, 2, 3, 1, 1, 2, 2, 4, 2, 4, 2,\n",
            "        1, 0, 1, 1, 1, 4, 3, 3], device='cuda:0')\n",
            "tensor([0, 2, 4, 0, 3, 3, 3, 2, 3, 3, 0, 2, 1, 0, 1, 3, 2, 4, 1, 2, 4, 1, 1, 2,\n",
            "        2, 3, 1, 4, 0, 0, 0, 3], device='cuda:0')\n",
            "tensor([1, 1, 4, 0, 2, 2, 3, 0, 0, 3, 2, 0, 2, 0, 2, 3, 0, 0, 0, 1, 1, 4, 2, 0,\n",
            "        1, 1, 2, 4, 3, 3, 2, 2], device='cuda:0')\n",
            "tensor([1, 3, 0, 1, 1, 0, 2, 3, 3, 0, 4, 2, 2, 0, 3, 1, 1, 2, 4, 0, 2, 3, 4, 1,\n",
            "        2, 3, 1, 1, 4, 4, 3, 4], device='cuda:0')\n",
            "tensor([1, 4, 4, 1, 2, 4, 1, 3, 4, 4, 4, 1, 3, 3, 1, 0, 3, 4, 2, 3, 0, 1, 1, 1,\n",
            "        0, 1, 0, 0, 4, 0, 1, 0], device='cuda:0')\n",
            "tensor([3, 4, 2, 4, 0, 3, 4, 0, 3, 3, 4, 0, 0, 0, 0, 2, 1, 0, 1, 3, 4, 2, 3, 2,\n",
            "        4, 0, 4, 1, 3, 3, 4, 3], device='cuda:0')\n",
            "tensor([2, 2, 3, 2, 0, 1, 0, 3, 2, 1, 3, 1, 3, 3, 3, 1, 4, 3, 0, 2, 1, 4, 4, 2,\n",
            "        3, 1, 2, 2, 0, 0, 1, 0], device='cuda:0')\n",
            "tensor([4, 1, 3, 0, 3, 2, 0, 3, 0, 3, 1, 3, 2, 1, 3, 3, 0, 0, 0, 2, 2, 3, 0, 1,\n",
            "        4, 3, 3, 2, 3, 2, 2, 1], device='cuda:0')\n",
            "tensor([3, 4, 3, 2, 1, 3, 1, 0, 1, 3, 2, 0, 0, 2, 2, 0, 1, 0, 4, 0, 3, 2, 2, 3,\n",
            "        3, 3, 3, 1, 3, 2, 2, 0], device='cuda:0')\n",
            "tensor([4, 3, 0, 2, 2, 4, 2, 2, 3, 0, 4, 3, 0, 4, 4, 2, 1, 2, 0, 1, 3, 3, 4, 0,\n",
            "        1, 4, 2, 0, 3, 0, 1, 4], device='cuda:0')\n",
            "tensor([3, 1, 0, 4, 0, 1, 2, 4, 1, 2, 1, 3, 1, 4, 0, 1, 3, 2, 0, 0, 3, 1, 2, 4,\n",
            "        0, 3, 0, 4, 3, 1, 2, 3], device='cuda:0')\n",
            "tensor([2, 0, 0, 0, 4, 3, 2, 3, 1, 1, 1, 3, 0, 3, 2, 1, 1, 1, 3, 2, 0, 2, 2, 3,\n",
            "        2, 2, 2, 4, 2, 0, 2, 2], device='cuda:0')\n",
            "tensor([1, 2, 2, 0, 0, 1, 2, 3, 3, 3, 4, 4, 0, 2, 0, 0, 1, 3, 2, 3, 0, 2, 2, 3,\n",
            "        1, 3, 2, 1, 4, 2, 4, 1], device='cuda:0')\n",
            "tensor([1, 4, 3, 1, 1, 1, 3, 0, 0, 1, 3, 0, 0, 1, 4, 1, 1, 0, 3, 1, 0, 3, 4, 0,\n",
            "        1, 2, 1, 0, 1, 0, 3, 4], device='cuda:0')\n",
            "tensor([3, 2, 2, 4, 3, 4, 1, 4, 0, 2, 0, 4, 2, 2, 1, 2, 1, 0, 0, 4, 0, 0, 4, 4,\n",
            "        0, 3, 4, 0, 3, 4, 4, 1], device='cuda:0')\n",
            "tensor([3, 0, 3, 2, 1, 3, 0, 1, 2, 3, 1, 0, 2, 3, 3, 1, 4, 3, 0, 1, 2, 0, 1, 0,\n",
            "        3, 1, 3, 1, 0, 1, 4, 1], device='cuda:0')\n",
            "tensor([1, 4, 1, 1, 0, 1, 4, 1, 2, 2, 3, 2, 1, 4, 0, 3, 1, 0, 3, 1, 1, 3, 0, 1,\n",
            "        2, 1, 4, 3, 1, 0, 0, 1], device='cuda:0')\n",
            "tensor([0, 1, 2, 4, 2, 0, 4, 2, 1, 0, 3, 0, 2, 3, 1, 1, 1, 4, 3, 0, 0, 0, 2, 1,\n",
            "        0, 3, 0, 1, 3, 0, 0, 0], device='cuda:0')\n",
            "tensor([4, 3, 0, 0, 0, 1, 3, 0, 0, 2, 0, 4, 1, 1, 0, 1, 1, 1, 0, 4, 1, 0, 2, 2,\n",
            "        2, 0, 4, 2, 1, 0, 0, 2], device='cuda:0')\n"
          ]
        }
      ],
      "source": [
        "model.eval()\n",
        "y_pred_list = []\n",
        "y_test_list = []\n",
        "for inputs, labels in test_loader:\n",
        "    inputs, labels = inputs.to(DEVICE), labels.to(DEVICE)\n",
        "    print(labels)\n",
        "    test_h = model.init_hidden(labels.size(0))\n",
        "\n",
        "    output, val_h = model(inputs, test_h)\n",
        "    y_pred_test = torch.argmax(output, dim=1)\n",
        "    y_pred_list.extend(y_pred_test.squeeze().tolist())\n",
        "    y_test_list.extend(labels.squeeze().tolist())"
      ]
    },
    {
      "cell_type": "code",
      "execution_count": null,
      "metadata": {
        "id": "ccFNm7v-iGMj"
      },
      "outputs": [],
      "source": []
    },
    {
      "cell_type": "code",
      "execution_count": null,
      "metadata": {
        "colab": {
          "base_uri": "https://localhost:8080/"
        },
        "id": "SenFdBT8XU-H",
        "outputId": "a36228aa-e6f0-48bc-ade3-fd248d7df32b"
      },
      "outputs": [
        {
          "name": "stdout",
          "output_type": "stream",
          "text": [
            "Train Accuracy: 99.95067643742954\n",
            "Test Accuracy: 0.9021915584415584\n",
            "Classification Report for Bi-LSTM :\n",
            "               precision    recall  f1-score   support\n",
            "\n",
            "    religion       0.92      0.94      0.93      1575\n",
            "         age       0.92      0.97      0.94      1559\n",
            "   ethnicity       0.96      0.98      0.97      1534\n",
            "      gender       0.91      0.84      0.88      1453\n",
            "not bullying       0.77      0.75      0.76      1271\n",
            "\n",
            "    accuracy                           0.90      7392\n",
            "   macro avg       0.90      0.90      0.90      7392\n",
            "weighted avg       0.90      0.90      0.90      7392\n",
            "\n"
          ]
        }
      ],
      "source": [
        "from sklearn.metrics import accuracy_score\n",
        "print('Train Accuracy:', np.mean(train_acc))\n",
        "print('Test Accuracy:', accuracy_score(y_test_list, y_pred_list))\n",
        "\n",
        "print('Classification Report for Bi-LSTM :\\n', classification_report(y_test_list, y_pred_list, target_names=sentiments))"
      ]
    },
    {
      "cell_type": "code",
      "execution_count": null,
      "metadata": {
        "colab": {
          "base_uri": "https://localhost:8080/",
          "height": 757
        },
        "id": "WqWLJqDbYhdm",
        "outputId": "09f05a12-9dcb-4e0d-f756-83e18943ae12"
      },
      "outputs": [
        {
          "data": {
            "image/png": "[encoded data removed]",
            "text/plain": [
              "<Figure size 750x750 with 1 Axes>"
            ]
          },
          "metadata": {},
          "output_type": "display_data"
        }
      ],
      "source": [
        "conf_matrix(y_test_list,y_pred_list,'BiLSTM Sentiment Analysis\\nConfusion Matrix', sentiments)"
      ]
    },
    {
      "cell_type": "markdown",
      "metadata": {
        "id": "bYMZWGynXVnj"
      },
      "source": [
        "LSTM-"
      ]
    },
    {
      "cell_type": "code",
      "execution_count": null,
      "metadata": {
        "id": "jl8lmN5YBBkl"
      },
      "outputs": [],
      "source": [
        "NUM_CLASSES = 5 #We are dealing with a multiclass classification of 5 classes\n",
        "HIDDEN_DIM = 100 #number of neurons of the internal state (internal neural network in the LSTM)\n",
        "LSTM_LAYERS = 1 #Number of stacked LSTM layers\n",
        "\n",
        "LR = 3e-4 #Learning rate\n",
        "DROPOUT = 0.5 #LSTM Dropout\n",
        "BIDIRECTIONAL = False #Boolean value to choose if to use a bidirectional LSTM or not\n",
        "EPOCHS = 5 #Number of training epoch\n",
        "\n",
        "DEVICE = 'cuda' if torch.cuda.is_available() else 'cpu'"
      ]
    },
    {
      "cell_type": "code",
      "execution_count": null,
      "metadata": {
        "id": "vdEGgqEqBE5T"
      },
      "outputs": [],
      "source": [
        "class LSTM_Sentiment_Classifier(nn.Module):\n",
        "\n",
        "    def __init__(self, vocab_size, embedding_dim, hidden_dim, num_classes, lstm_layers, bidirectional,batch_size, dropout):\n",
        "        super(LSTM_Sentiment_Classifier,self).__init__()\n",
        "        \n",
        "        self.lstm_layers = lstm_layers\n",
        "        self.num_directions = 2 if bidirectional else 1\n",
        "        self.hidden_dim = hidden_dim\n",
        "        self.num_classes = num_classes\n",
        "        self.batch_size = batch_size\n",
        "        \n",
        "\n",
        "        self.embedding = nn.Embedding(vocab_size, embedding_dim)\n",
        "        \n",
        "        self.lstm = nn.LSTM(embedding_dim,\n",
        "                            hidden_dim,\n",
        "                            num_layers=lstm_layers,\n",
        "                            dropout=dropout,\n",
        "                            bidirectional=bidirectional,\n",
        "                            batch_first=True)\n",
        "\n",
        "        self.fc = nn.Linear(hidden_dim*self.num_directions, num_classes)\n",
        "        self.softmax = nn.LogSoftmax(dim=1)\n",
        "        \n",
        "    def forward(self, x, hidden):\n",
        "        self.batch_size = x.size(0)\n",
        "        ##EMBEDDING LAYER\n",
        "        embedded = self.embedding(x)\n",
        "        #LSTM LAYERS\n",
        "        out, hidden = self.lstm(embedded, hidden)\n",
        "        #Extract only the hidden state from the last LSTM cell\n",
        "        out = out[:,-1,:]\n",
        "        #FULLY CONNECTED LAYERS\n",
        "        out = self.fc(out)\n",
        "        out = self.softmax(out)\n",
        "\n",
        "        return out, hidden\n",
        "\n",
        "    def init_hidden(self, batch_size):\n",
        "        #Initialization of the LSTM hidden and cell states\n",
        "        h0 = torch.zeros((self.lstm_layers*self.num_directions, batch_size, self.hidden_dim)).detach().to(DEVICE)\n",
        "        c0 = torch.zeros((self.lstm_layers*self.num_directions, batch_size, self.hidden_dim)).detach().to(DEVICE)\n",
        "        hidden = (h0, c0)\n",
        "        return hidden"
      ]
    },
    {
      "cell_type": "code",
      "execution_count": null,
      "metadata": {
        "colab": {
          "base_uri": "https://localhost:8080/"
        },
        "id": "cd1zRMQ0BIDS",
        "outputId": "65332cb3-86d9-4510-a538-53e8f58777c6"
      },
      "outputs": [
        {
          "name": "stdout",
          "output_type": "stream",
          "text": [
            "LSTM_Sentiment_Classifier(\n",
            "  (embedding): Embedding(33009, 200)\n",
            "  (lstm): LSTM(200, 100, batch_first=True, dropout=0.5)\n",
            "  (fc): Linear(in_features=100, out_features=5, bias=True)\n",
            "  (softmax): LogSoftmax(dim=1)\n",
            ")\n"
          ]
        }
      ],
      "source": [
        "model = LSTM_Sentiment_Classifier(VOCAB_SIZE, EMBEDDING_DIM, HIDDEN_DIM,NUM_CLASSES, LSTM_LAYERS,BIDIRECTIONAL, BATCH_SIZE, DROPOUT)\n",
        "model = model.to(DEVICE)\n",
        "\n",
        "#Initialize embedding with the previously defined embedding matrix\n",
        "model.embedding.weight.data.copy_(torch.from_numpy(embedding_matrix))\n",
        "#Allow the embedding matrix to be fined tuned to better adapt to out dataset and get higher accuracy\n",
        "model.embedding.weight.requires_grad=True\n",
        "\n",
        "print(model)"
      ]
    },
    {
      "cell_type": "code",
      "execution_count": null,
      "metadata": {
        "id": "Ou5A2w91BI8d"
      },
      "outputs": [],
      "source": [
        "criterion = nn.NLLLoss()\n",
        "optimizer = torch.optim.AdamW(model.parameters(), lr=LR, weight_decay = 5e-6)"
      ]
    },
    {
      "cell_type": "code",
      "execution_count": null,
      "metadata": {
        "colab": {
          "base_uri": "https://localhost:8080/"
        },
        "id": "kxD2GGb_BR7f",
        "outputId": "2831d9f4-98d1-4692-b357-ef2a45225840"
      },
      "outputs": [
        {
          "name": "stdout",
          "output_type": "stream",
          "text": [
            "Epoch 1:Validation accuracy increased (0.000000 --> 92.357337).  Saving model ...\n",
            "\tTrain_loss : 0.6322 Val_loss : 0.2271\n",
            "\tTrain_acc : 75.828% Val_acc : 92.357%\n",
            "Epoch 2:Validation accuracy increased (92.357337 --> 93.274457).  Saving model ...\n",
            "\tTrain_loss : 0.1783 Val_loss : 0.1964\n",
            "\tTrain_acc : 94.085% Val_acc : 93.274%\n",
            "Epoch 3:Validation accuracy increased (93.274457 --> 93.444293).  Saving model ...\n",
            "\tTrain_loss : 0.1124 Val_loss : 0.2034\n",
            "\tTrain_acc : 96.297% Val_acc : 93.444%\n",
            "Epoch 4:Validation accuracy did not increase\n",
            "\tTrain_loss : 0.0759 Val_loss : 0.2467\n",
            "\tTrain_acc : 97.629% Val_acc : 92.459%\n",
            "Epoch 5:Validation accuracy did not increase\n",
            "\tTrain_loss : 0.0510 Val_loss : 0.2506\n",
            "\tTrain_acc : 98.506% Val_acc : 92.289%\n"
          ]
        }
      ],
      "source": [
        "total_step = len(train_loader)\n",
        "total_step_val = len(valid_loader)\n",
        "\n",
        "early_stopping_patience = 4\n",
        "early_stopping_counter = 0\n",
        "\n",
        "valid_acc_max = 0 # Initialize best accuracy top 0\n",
        "\n",
        "for e in range(EPOCHS):\n",
        "\n",
        "    #lists to host the train and validation losses of every batch for each epoch\n",
        "    train_loss, valid_loss  = [], []\n",
        "    #lists to host the train and validation accuracy of every batch for each epoch\n",
        "    train_acc, valid_acc  = [], []\n",
        "\n",
        "    #lists to host the train and validation predictions of every batch for each epoch\n",
        "    y_train_list, y_val_list = [], []\n",
        "\n",
        "    #initalize number of total and correctly classified texts during training and validation\n",
        "    correct, correct_val = 0, 0\n",
        "    total, total_val = 0, 0\n",
        "    running_loss, running_loss_val = 0, 0\n",
        "\n",
        "\n",
        "    ####TRAINING LOOP####\n",
        "\n",
        "    model.train()\n",
        "\n",
        "    for inputs, labels in train_loader:\n",
        "        inputs, labels = inputs.to(DEVICE), labels.to(DEVICE) #load features and targets in device\n",
        "\n",
        "        h = model.init_hidden(labels.size(0))\n",
        "\n",
        "        model.zero_grad() #reset gradients \n",
        "\n",
        "        output, h = model(inputs,h) #get output and hidden states from LSTM network\n",
        "        \n",
        "        loss = criterion(output, labels)\n",
        "        loss.backward()\n",
        "        \n",
        "        running_loss += loss.item()\n",
        "        \n",
        "        optimizer.step()\n",
        "\n",
        "        y_pred_train = torch.argmax(output, dim=1) #get tensor of predicted values on the training set\n",
        "        y_train_list.extend(y_pred_train.squeeze().tolist()) #transform tensor to list and the values to the list\n",
        "        \n",
        "        correct += torch.sum(y_pred_train==labels).item() #count correctly classified texts per batch\n",
        "        total += labels.size(0) #count total texts per batch\n",
        "\n",
        "    train_loss.append(running_loss / total_step)\n",
        "    train_acc.append(100 * correct / total)\n",
        "\n",
        "    ####VALIDATION LOOP####\n",
        "    \n",
        "    with torch.no_grad():\n",
        "        \n",
        "        model.eval()\n",
        "        \n",
        "        for inputs, labels in valid_loader:\n",
        "            inputs, labels = inputs.to(DEVICE), labels.to(DEVICE)\n",
        "\n",
        "            val_h = model.init_hidden(labels.size(0))\n",
        "\n",
        "            output, val_h = model(inputs, val_h)\n",
        "\n",
        "            val_loss = criterion(output, labels)\n",
        "            running_loss_val += val_loss.item()\n",
        "\n",
        "            y_pred_val = torch.argmax(output, dim=1)\n",
        "            y_val_list.extend(y_pred_val.squeeze().tolist())\n",
        "\n",
        "            correct_val += torch.sum(y_pred_val==labels).item()\n",
        "            total_val += labels.size(0)\n",
        "\n",
        "        valid_loss.append(running_loss_val / total_step_val)\n",
        "        valid_acc.append(100 * correct_val / total_val)\n",
        "\n",
        "    #Save model if validation accuracy increases\n",
        "    if np.mean(valid_acc) >= valid_acc_max:\n",
        "        torch.save(model.state_dict(), './state_dict2.pt')\n",
        "        print(f'Epoch {e+1}:Validation accuracy increased ({valid_acc_max:.6f} --> {np.mean(valid_acc):.6f}).  Saving model ...')\n",
        "        valid_acc_max = np.mean(valid_acc)\n",
        "        early_stopping_counter=0 #reset counter if validation accuracy increases\n",
        "    else:\n",
        "        print(f'Epoch {e+1}:Validation accuracy did not increase')\n",
        "        early_stopping_counter+=1 #increase counter if validation accuracy does not increase\n",
        "        \n",
        "    if early_stopping_counter > early_stopping_patience:\n",
        "        print('Early stopped at epoch :', e+1)\n",
        "        break\n",
        "    \n",
        "    print(f'\\tTrain_loss : {np.mean(train_loss):.4f} Val_loss : {np.mean(valid_loss):.4f}')\n",
        "    print(f'\\tTrain_acc : {np.mean(train_acc):.3f}% Val_acc : {np.mean(valid_acc):.3f}%')"
      ]
    },
    {
      "cell_type": "markdown",
      "metadata": {
        "id": "t4w9sai14OH6"
      },
      "source": [
        "# LSTM Testing"
      ]
    },
    {
      "cell_type": "code",
      "execution_count": null,
      "metadata": {
        "colab": {
          "base_uri": "https://localhost:8080/"
        },
        "id": "3ERsOjzW41tF",
        "outputId": "18de4ac0-bba4-41e0-888c-a1015242b958"
      },
      "outputs": [
        {
          "name": "stdout",
          "output_type": "stream",
          "text": [
            "tensor([1, 0, 2, 4, 4, 0, 4, 0, 2, 3, 1, 1, 0, 1, 3, 4, 3, 1, 0, 1, 3, 3, 4, 2,\n",
            "        2, 0, 3, 2, 4, 1, 3, 4], device='cuda:0')\n",
            "tensor([0, 2, 2, 1, 0, 2, 2, 0, 0, 0, 2, 3, 1, 0, 3, 2, 4, 1, 4, 4, 0, 4, 2, 4,\n",
            "        3, 3, 3, 2, 3, 0, 2, 1], device='cuda:0')\n",
            "tensor([2, 3, 2, 0, 2, 2, 4, 0, 2, 4, 4, 1, 2, 0, 4, 1, 0, 2, 4, 1, 4, 4, 4, 3,\n",
            "        2, 3, 0, 1, 4, 4, 0, 0], device='cuda:0')\n",
            "tensor([3, 4, 3, 3, 2, 4, 0, 3, 0, 1, 1, 4, 3, 0, 3, 2, 0, 0, 2, 3, 0, 1, 2, 3,\n",
            "        4, 3, 2, 1, 2, 3, 4, 2], device='cuda:0')\n",
            "tensor([3, 1, 1, 1, 4, 3, 3, 3, 0, 3, 2, 2, 4, 4, 3, 0, 0, 0, 2, 2, 2, 4, 0, 0,\n",
            "        3, 1, 2, 3, 0, 3, 1, 0], device='cuda:0')\n",
            "tensor([2, 4, 1, 0, 2, 4, 4, 3, 4, 1, 0, 1, 4, 3, 1, 2, 4, 4, 0, 2, 3, 2, 1, 3,\n",
            "        1, 1, 1, 0, 3, 1, 3, 2], device='cuda:0')\n",
            "tensor([1, 0, 3, 1, 2, 1, 0, 2, 0, 3, 4, 1, 0, 0, 1, 4, 2, 3, 0, 3, 1, 4, 1, 3,\n",
            "        3, 1, 4, 0, 4, 3, 4, 4], device='cuda:0')\n",
            "tensor([2, 2, 2, 3, 3, 4, 3, 4, 2, 0, 2, 3, 0, 4, 4, 0, 4, 0, 1, 4, 0, 3, 0, 1,\n",
            "        4, 3, 2, 3, 3, 4, 0, 1], device='cuda:0')\n",
            "tensor([4, 3, 3, 4, 0, 3, 4, 4, 0, 4, 2, 4, 2, 3, 2, 4, 2, 1, 3, 0, 4, 4, 2, 0,\n",
            "        4, 0, 3, 0, 2, 3, 2, 1], device='cuda:0')\n",
            "tensor([3, 2, 2, 4, 2, 2, 2, 1, 1, 0, 2, 0, 0, 1, 2, 3, 2, 4, 3, 1, 2, 1, 2, 3,\n",
            "        3, 1, 4, 2, 1, 2, 4, 3], device='cuda:0')\n",
            "tensor([2, 2, 0, 1, 3, 3, 4, 2, 4, 3, 0, 0, 0, 0, 1, 2, 3, 2, 1, 4, 4, 2, 3, 4,\n",
            "        0, 4, 0, 1, 0, 3, 4, 2], device='cuda:0')\n",
            "tensor([0, 0, 1, 2, 1, 0, 1, 3, 4, 3, 1, 3, 3, 0, 3, 0, 3, 0, 0, 0, 3, 4, 3, 3,\n",
            "        0, 0, 0, 2, 3, 2, 2, 3], device='cuda:0')\n",
            "tensor([4, 3, 3, 0, 4, 1, 2, 3, 0, 1, 0, 2, 0, 3, 4, 4, 4, 0, 2, 4, 0, 1, 3, 2,\n",
            "        4, 1, 1, 1, 2, 0, 3, 0], device='cuda:0')\n",
            "tensor([4, 2, 0, 2, 1, 1, 4, 0, 4, 3, 3, 0, 4, 0, 0, 1, 2, 1, 4, 3, 3, 4, 0, 0,\n",
            "        1, 2, 2, 0, 3, 1, 3, 1], device='cuda:0')\n",
            "tensor([3, 2, 1, 3, 3, 0, 1, 0, 4, 4, 2, 4, 0, 1, 4, 0, 0, 2, 1, 0, 1, 2, 2, 0,\n",
            "        4, 0, 2, 0, 1, 2, 2, 2], device='cuda:0')\n",
            "tensor([3, 2, 2, 2, 1, 0, 4, 3, 3, 1, 4, 4, 0, 0, 2, 0, 1, 2, 3, 3, 2, 2, 4, 4,\n",
            "        2, 2, 1, 2, 2, 0, 2, 3], device='cuda:0')\n",
            "tensor([1, 0, 2, 2, 2, 0, 4, 3, 4, 4, 3, 0, 2, 1, 4, 2, 0, 1, 1, 1, 0, 4, 0, 2,\n",
            "        0, 2, 1, 4, 0, 3, 1, 2], device='cuda:0')\n",
            "tensor([0, 4, 2, 2, 1, 3, 1, 0, 0, 1, 2, 3, 3, 1, 3, 4, 4, 1, 2, 0, 1, 0, 0, 1,\n",
            "        2, 0, 1, 0, 0, 4, 1, 4], device='cuda:0')\n",
            "tensor([1, 4, 1, 1, 4, 3, 2, 0, 1, 1, 1, 3, 1, 3, 0, 1, 0, 1, 1, 1, 3, 3, 2, 1,\n",
            "        0, 2, 1, 4, 1, 1, 2, 4], device='cuda:0')\n",
            "tensor([4, 4, 2, 2, 0, 0, 4, 4, 0, 0, 3, 2, 0, 1, 3, 0, 4, 1, 1, 1, 0, 2, 2, 1,\n",
            "        1, 4, 2, 0, 4, 3, 0, 0], device='cuda:0')\n",
            "tensor([3, 0, 4, 4, 1, 3, 1, 2, 1, 3, 1, 3, 1, 1, 2, 4, 2, 2, 3, 2, 1, 4, 4, 4,\n",
            "        1, 1, 4, 2, 1, 0, 1, 2], device='cuda:0')\n",
            "tensor([2, 4, 1, 3, 2, 0, 3, 0, 0, 3, 2, 1, 1, 0, 4, 3, 3, 2, 1, 0, 2, 2, 2, 1,\n",
            "        0, 1, 2, 3, 2, 3, 3, 3], device='cuda:0')\n",
            "tensor([1, 3, 2, 3, 2, 1, 1, 4, 0, 4, 3, 1, 2, 1, 4, 3, 2, 2, 2, 4, 1, 4, 0, 2,\n",
            "        1, 4, 3, 4, 3, 4, 1, 0], device='cuda:0')\n",
            "tensor([1, 4, 4, 3, 0, 2, 4, 1, 2, 2, 1, 4, 3, 0, 1, 3, 1, 0, 4, 1, 4, 4, 2, 0,\n",
            "        2, 2, 2, 2, 3, 3, 0, 1], device='cuda:0')\n",
            "tensor([2, 1, 2, 0, 4, 4, 4, 0, 3, 0, 0, 2, 3, 4, 1, 3, 0, 2, 4, 4, 1, 3, 4, 3,\n",
            "        4, 4, 3, 1, 0, 3, 2, 2], device='cuda:0')\n",
            "tensor([1, 1, 0, 1, 2, 1, 1, 1, 4, 2, 0, 3, 3, 1, 2, 4, 0, 4, 2, 1, 1, 1, 1, 4,\n",
            "        3, 0, 0, 3, 4, 2, 3, 3], device='cuda:0')\n",
            "tensor([4, 2, 2, 3, 4, 1, 3, 0, 4, 2, 4, 0, 4, 3, 1, 1, 3, 4, 2, 1, 1, 4, 0, 0,\n",
            "        0, 0, 1, 4, 3, 0, 4, 3], device='cuda:0')\n",
            "tensor([2, 2, 3, 1, 2, 1, 3, 2, 1, 1, 0, 4, 3, 1, 0, 1, 2, 4, 0, 0, 0, 1, 1, 0,\n",
            "        1, 2, 4, 0, 0, 1, 1, 0], device='cuda:0')\n",
            "tensor([2, 4, 0, 2, 1, 0, 0, 3, 1, 2, 1, 0, 2, 0, 0, 1, 3, 3, 3, 0, 1, 0, 4, 4,\n",
            "        1, 2, 3, 0, 2, 3, 1, 2], device='cuda:0')\n",
            "tensor([1, 4, 2, 4, 3, 2, 0, 0, 2, 4, 2, 4, 0, 3, 2, 1, 0, 4, 0, 3, 1, 4, 2, 1,\n",
            "        1, 2, 1, 4, 1, 3, 1, 2], device='cuda:0')\n",
            "tensor([3, 0, 2, 4, 0, 2, 3, 4, 2, 0, 2, 2, 0, 4, 0, 4, 4, 3, 3, 2, 1, 2, 1, 2,\n",
            "        0, 1, 1, 2, 1, 3, 0, 3], device='cuda:0')\n",
            "tensor([3, 3, 3, 2, 1, 4, 1, 2, 3, 1, 1, 4, 4, 2, 2, 1, 4, 3, 0, 2, 3, 2, 1, 3,\n",
            "        0, 0, 1, 3, 1, 3, 0, 0], device='cuda:0')\n",
            "tensor([4, 4, 2, 0, 1, 1, 2, 1, 2, 2, 0, 0, 0, 4, 4, 3, 3, 4, 2, 1, 1, 1, 3, 3,\n",
            "        1, 3, 1, 2, 2, 3, 2, 4], device='cuda:0')\n",
            "tensor([4, 1, 2, 0, 0, 2, 4, 2, 4, 2, 4, 1, 0, 2, 4, 2, 2, 3, 3, 4, 1, 0, 4, 1,\n",
            "        0, 2, 4, 2, 3, 2, 2, 3], device='cuda:0')\n",
            "tensor([3, 0, 2, 1, 2, 2, 1, 1, 1, 1, 2, 3, 1, 0, 4, 4, 3, 1, 3, 2, 0, 2, 3, 3,\n",
            "        1, 3, 4, 1, 1, 4, 0, 2], device='cuda:0')\n",
            "tensor([2, 4, 3, 0, 2, 2, 4, 3, 2, 0, 4, 2, 0, 3, 2, 0, 2, 1, 4, 1, 1, 3, 0, 1,\n",
            "        1, 2, 2, 2, 0, 1, 0, 4], device='cuda:0')\n",
            "tensor([3, 4, 3, 1, 2, 2, 0, 4, 2, 1, 3, 4, 2, 3, 2, 2, 1, 4, 1, 1, 3, 3, 4, 2,\n",
            "        4, 0, 2, 2, 1, 2, 4, 4], device='cuda:0')\n",
            "tensor([0, 0, 1, 0, 2, 2, 3, 1, 3, 2, 2, 2, 1, 4, 3, 4, 4, 1, 2, 0, 3, 4, 3, 1,\n",
            "        0, 4, 1, 2, 1, 1, 0, 0], device='cuda:0')\n",
            "tensor([3, 4, 3, 0, 4, 0, 0, 2, 3, 4, 4, 4, 4, 4, 3, 1, 1, 3, 3, 2, 1, 1, 0, 1,\n",
            "        3, 3, 1, 3, 1, 2, 1, 2], device='cuda:0')\n",
            "tensor([2, 4, 3, 1, 3, 3, 2, 0, 3, 3, 4, 4, 0, 2, 1, 3, 4, 1, 1, 0, 2, 1, 4, 1,\n",
            "        2, 2, 0, 4, 2, 1, 1, 3], device='cuda:0')\n",
            "tensor([3, 0, 1, 1, 4, 1, 3, 1, 2, 2, 2, 2, 1, 1, 1, 1, 3, 4, 0, 4, 3, 3, 4, 0,\n",
            "        0, 4, 1, 1, 1, 1, 0, 1], device='cuda:0')\n",
            "tensor([0, 2, 1, 3, 0, 1, 1, 2, 3, 4, 0, 1, 1, 2, 2, 3, 3, 3, 1, 0, 0, 2, 0, 3,\n",
            "        2, 3, 3, 2, 0, 0, 1, 3], device='cuda:0')\n",
            "tensor([1, 4, 0, 0, 2, 2, 4, 2, 1, 3, 0, 1, 2, 2, 2, 4, 2, 2, 3, 0, 2, 0, 4, 1,\n",
            "        4, 2, 3, 4, 2, 2, 3, 2], device='cuda:0')\n",
            "tensor([3, 1, 4, 4, 2, 1, 4, 0, 0, 3, 0, 3, 0, 4, 3, 2, 4, 2, 2, 3, 0, 1, 1, 0,\n",
            "        0, 2, 2, 0, 3, 1, 2, 1], device='cuda:0')\n",
            "tensor([0, 3, 4, 3, 2, 0, 0, 3, 4, 4, 2, 3, 0, 1, 2, 3, 0, 2, 3, 4, 2, 0, 2, 1,\n",
            "        3, 2, 0, 2, 0, 0, 3, 3], device='cuda:0')\n",
            "tensor([1, 3, 3, 3, 4, 0, 1, 1, 0, 4, 2, 2, 2, 1, 1, 1, 1, 2, 3, 3, 1, 0, 3, 2,\n",
            "        3, 0, 1, 1, 4, 3, 2, 4], device='cuda:0')\n",
            "tensor([3, 0, 3, 4, 0, 0, 3, 4, 1, 1, 2, 1, 0, 1, 1, 0, 0, 3, 4, 3, 1, 1, 3, 0,\n",
            "        0, 2, 2, 3, 1, 3, 1, 3], device='cuda:0')\n",
            "tensor([0, 3, 4, 2, 0, 4, 4, 0, 4, 0, 0, 0, 1, 4, 0, 2, 2, 1, 4, 4, 2, 0, 1, 1,\n",
            "        2, 3, 2, 1, 4, 2, 4, 0], device='cuda:0')\n",
            "tensor([3, 4, 2, 2, 1, 4, 4, 3, 2, 1, 2, 0, 4, 1, 2, 1, 3, 4, 0, 4, 4, 4, 2, 3,\n",
            "        4, 0, 1, 4, 4, 3, 1, 0], device='cuda:0')\n",
            "tensor([3, 4, 2, 2, 0, 1, 2, 0, 3, 2, 0, 0, 4, 1, 1, 0, 3, 3, 4, 2, 2, 0, 1, 0,\n",
            "        3, 3, 2, 3, 3, 1, 1, 3], device='cuda:0')\n",
            "tensor([2, 1, 0, 2, 4, 1, 2, 4, 1, 2, 4, 0, 2, 1, 4, 1, 3, 1, 1, 1, 1, 2, 0, 1,\n",
            "        1, 3, 1, 3, 4, 3, 1, 1], device='cuda:0')\n",
            "tensor([2, 1, 2, 1, 4, 0, 0, 0, 4, 4, 0, 4, 3, 4, 3, 0, 2, 1, 3, 2, 1, 4, 2, 4,\n",
            "        3, 4, 2, 0, 2, 2, 2, 4], device='cuda:0')\n",
            "tensor([1, 0, 1, 4, 2, 3, 1, 2, 0, 2, 1, 1, 0, 2, 1, 3, 4, 1, 2, 1, 0, 0, 0, 4,\n",
            "        1, 2, 4, 4, 0, 3, 1, 4], device='cuda:0')\n",
            "tensor([3, 2, 1, 1, 2, 2, 1, 3, 0, 1, 4, 0, 0, 1, 1, 0, 1, 0, 0, 0, 2, 1, 1, 0,\n",
            "        3, 3, 2, 1, 4, 2, 3, 4], device='cuda:0')\n",
            "tensor([2, 2, 2, 1, 1, 1, 2, 3, 1, 0, 4, 3, 0, 3, 2, 0, 0, 2, 4, 4, 1, 4, 3, 3,\n",
            "        0, 1, 3, 0, 4, 2, 0, 2], device='cuda:0')\n",
            "tensor([1, 2, 1, 1, 3, 3, 2, 4, 2, 1, 3, 0, 2, 2, 4, 1, 3, 3, 4, 0, 1, 3, 2, 3,\n",
            "        3, 0, 3, 1, 3, 0, 3, 2], device='cuda:0')\n",
            "tensor([1, 2, 0, 0, 4, 1, 0, 0, 1, 4, 0, 0, 3, 1, 3, 2, 3, 0, 2, 1, 1, 2, 3, 3,\n",
            "        0, 4, 1, 4, 0, 0, 4, 4], device='cuda:0')\n",
            "tensor([1, 1, 4, 2, 1, 1, 1, 0, 1, 3, 0, 4, 4, 3, 3, 1, 0, 4, 0, 3, 1, 0, 0, 4,\n",
            "        0, 4, 3, 3, 0, 2, 1, 4], device='cuda:0')\n",
            "tensor([4, 2, 3, 3, 0, 0, 4, 4, 1, 2, 4, 0, 0, 3, 1, 0, 0, 3, 1, 3, 4, 3, 2, 0,\n",
            "        1, 3, 3, 2, 3, 0, 2, 4], device='cuda:0')\n",
            "tensor([1, 1, 2, 0, 3, 4, 3, 1, 3, 3, 3, 3, 3, 4, 1, 0, 2, 3, 0, 3, 1, 4, 1, 3,\n",
            "        3, 3, 0, 1, 0, 4, 1, 1], device='cuda:0')\n",
            "tensor([1, 4, 2, 4, 2, 3, 1, 2, 0, 2, 2, 2, 1, 4, 1, 2, 2, 4, 3, 2, 2, 1, 1, 2,\n",
            "        0, 2, 2, 4, 3, 3, 4, 4], device='cuda:0')\n",
            "tensor([3, 2, 2, 3, 4, 0, 0, 2, 2, 3, 0, 2, 4, 1, 1, 3, 3, 2, 0, 3, 3, 2, 0, 1,\n",
            "        3, 4, 2, 0, 0, 1, 2, 4], device='cuda:0')\n",
            "tensor([3, 0, 0, 4, 4, 0, 0, 1, 1, 0, 0, 4, 2, 1, 3, 0, 0, 0, 4, 2, 3, 0, 1, 3,\n",
            "        2, 4, 4, 2, 3, 0, 4, 2], device='cuda:0')\n",
            "tensor([4, 3, 2, 2, 1, 1, 1, 2, 0, 4, 1, 0, 1, 2, 0, 1, 1, 3, 1, 2, 2, 2, 1, 3,\n",
            "        2, 3, 4, 4, 4, 1, 3, 0], device='cuda:0')\n",
            "tensor([1, 4, 1, 3, 4, 2, 2, 1, 0, 4, 1, 0, 0, 4, 4, 1, 0, 1, 2, 0, 3, 3, 3, 3,\n",
            "        2, 1, 1, 2, 3, 1, 0, 2], device='cuda:0')\n",
            "tensor([0, 1, 0, 3, 1, 3, 0, 0, 0, 4, 2, 4, 4, 4, 2, 4, 2, 3, 0, 0, 1, 0, 3, 4,\n",
            "        1, 2, 3, 1, 1, 4, 1, 0], device='cuda:0')\n",
            "tensor([0, 1, 1, 3, 2, 3, 1, 2, 1, 1, 4, 4, 3, 2, 1, 2, 4, 0, 3, 2, 4, 1, 2, 2,\n",
            "        3, 0, 0, 0, 1, 3, 3, 0], device='cuda:0')\n",
            "tensor([1, 0, 0, 0, 4, 1, 3, 0, 3, 0, 0, 2, 0, 3, 1, 2, 4, 0, 4, 2, 4, 3, 3, 0,\n",
            "        1, 1, 0, 1, 1, 1, 0, 4], device='cuda:0')\n",
            "tensor([3, 4, 3, 0, 1, 1, 2, 1, 2, 4, 3, 0, 0, 1, 3, 3, 1, 1, 4, 1, 4, 0, 0, 1,\n",
            "        2, 2, 0, 1, 2, 4, 2, 1], device='cuda:0')\n",
            "tensor([3, 4, 2, 0, 2, 3, 3, 1, 2, 4, 3, 2, 4, 3, 4, 1, 0, 2, 2, 1, 0, 3, 4, 2,\n",
            "        1, 2, 1, 3, 3, 0, 2, 1], device='cuda:0')\n",
            "tensor([1, 3, 0, 2, 4, 4, 1, 3, 3, 0, 1, 3, 2, 3, 1, 0, 2, 1, 4, 3, 2, 2, 0, 4,\n",
            "        4, 3, 4, 0, 0, 1, 4, 2], device='cuda:0')\n",
            "tensor([4, 1, 4, 3, 0, 0, 2, 0, 1, 3, 4, 0, 0, 3, 3, 2, 0, 4, 1, 4, 2, 2, 2, 4,\n",
            "        3, 4, 3, 1, 4, 1, 2, 3], device='cuda:0')\n",
            "tensor([4, 2, 3, 0, 0, 3, 2, 3, 3, 4, 3, 1, 0, 0, 3, 0, 4, 0, 3, 3, 3, 0, 0, 1,\n",
            "        0, 3, 1, 0, 1, 0, 1, 2], device='cuda:0')\n",
            "tensor([3, 3, 2, 1, 2, 0, 0, 4, 2, 3, 1, 1, 1, 1, 4, 2, 1, 3, 0, 2, 4, 4, 0, 1,\n",
            "        2, 2, 4, 3, 3, 3, 0, 4], device='cuda:0')\n",
            "tensor([0, 1, 1, 0, 1, 3, 0, 4, 2, 1, 1, 0, 3, 2, 0, 0, 0, 4, 4, 2, 2, 2, 0, 4,\n",
            "        3, 0, 0, 3, 0, 3, 2, 4], device='cuda:0')\n",
            "tensor([1, 4, 0, 2, 0, 3, 0, 4, 0, 3, 0, 0, 2, 3, 2, 3, 3, 0, 3, 0, 0, 0, 0, 3,\n",
            "        1, 1, 0, 1, 2, 2, 1, 4], device='cuda:0')\n",
            "tensor([1, 2, 0, 3, 0, 2, 0, 0, 0, 2, 3, 3, 2, 2, 3, 1, 1, 3, 1, 0, 1, 3, 3, 3,\n",
            "        4, 0, 0, 0, 0, 0, 4, 1], device='cuda:0')\n",
            "tensor([2, 4, 3, 4, 0, 2, 2, 1, 3, 1, 2, 2, 0, 0, 0, 3, 0, 0, 4, 3, 2, 3, 4, 3,\n",
            "        0, 1, 0, 4, 1, 1, 4, 1], device='cuda:0')\n",
            "tensor([1, 3, 1, 0, 4, 1, 0, 2, 2, 2, 4, 3, 1, 0, 2, 0, 1, 1, 1, 4, 2, 2, 4, 1,\n",
            "        0, 3, 2, 2, 3, 0, 3, 2], device='cuda:0')\n",
            "tensor([1, 2, 4, 1, 1, 3, 2, 0, 1, 4, 2, 1, 4, 2, 2, 3, 0, 2, 0, 2, 3, 2, 3, 3,\n",
            "        4, 3, 2, 2, 2, 3, 2, 2], device='cuda:0')\n",
            "tensor([3, 0, 4, 0, 1, 4, 3, 2, 3, 4, 2, 4, 4, 3, 0, 3, 4, 0, 1, 0, 2, 1, 4, 2,\n",
            "        0, 1, 2, 0, 4, 4, 2, 2], device='cuda:0')\n",
            "tensor([4, 0, 2, 4, 1, 0, 4, 3, 4, 1, 0, 3, 2, 1, 1, 2, 4, 1, 4, 4, 2, 3, 2, 3,\n",
            "        0, 4, 3, 1, 4, 2, 0, 0], device='cuda:0')\n",
            "tensor([0, 4, 0, 1, 0, 1, 1, 2, 1, 4, 4, 2, 3, 2, 2, 4, 1, 4, 4, 3, 4, 1, 1, 0,\n",
            "        1, 1, 3, 0, 3, 0, 0, 3], device='cuda:0')\n",
            "tensor([0, 2, 2, 3, 3, 0, 4, 1, 1, 4, 0, 2, 4, 3, 1, 2, 2, 0, 4, 2, 4, 3, 2, 1,\n",
            "        0, 0, 4, 2, 0, 3, 3, 1], device='cuda:0')\n",
            "tensor([3, 3, 1, 3, 1, 2, 3, 1, 0, 0, 2, 0, 2, 3, 2, 1, 1, 1, 4, 4, 2, 4, 0, 0,\n",
            "        0, 4, 0, 2, 0, 4, 3, 3], device='cuda:0')\n",
            "tensor([1, 2, 4, 3, 1, 1, 2, 3, 2, 1, 2, 2, 4, 0, 3, 2, 3, 0, 4, 4, 4, 1, 2, 4,\n",
            "        2, 0, 0, 0, 1, 3, 0, 2], device='cuda:0')\n",
            "tensor([2, 3, 3, 2, 0, 3, 3, 4, 1, 0, 2, 4, 2, 1, 0, 0, 2, 1, 0, 2, 0, 0, 3, 4,\n",
            "        0, 1, 0, 0, 0, 4, 0, 1], device='cuda:0')\n",
            "tensor([0, 3, 2, 1, 1, 2, 2, 0, 0, 4, 2, 1, 0, 1, 3, 3, 1, 0, 3, 3, 3, 2, 4, 3,\n",
            "        0, 4, 1, 2, 2, 2, 1, 0], device='cuda:0')\n",
            "tensor([3, 2, 0, 1, 1, 3, 0, 3, 3, 2, 4, 2, 3, 4, 2, 2, 0, 3, 0, 0, 2, 0, 2, 4,\n",
            "        3, 0, 3, 1, 0, 0, 1, 0], device='cuda:0')\n",
            "tensor([2, 3, 2, 0, 3, 4, 2, 0, 4, 4, 2, 4, 3, 2, 0, 3, 0, 4, 1, 0, 0, 4, 0, 4,\n",
            "        4, 2, 3, 3, 2, 0, 4, 4], device='cuda:0')\n",
            "tensor([0, 4, 4, 3, 2, 1, 3, 1, 2, 2, 1, 2, 4, 4, 0, 0, 4, 1, 2, 0, 3, 3, 0, 2,\n",
            "        1, 1, 0, 2, 1, 0, 2, 2], device='cuda:0')\n",
            "tensor([1, 3, 2, 0, 0, 3, 0, 1, 1, 2, 4, 1, 1, 1, 0, 2, 1, 4, 3, 2, 0, 1, 4, 1,\n",
            "        2, 3, 3, 2, 1, 1, 0, 3], device='cuda:0')\n",
            "tensor([2, 2, 4, 4, 0, 4, 3, 2, 3, 1, 0, 2, 0, 4, 4, 0, 2, 3, 1, 2, 0, 0, 0, 0,\n",
            "        2, 2, 4, 0, 0, 0, 2, 1], device='cuda:0')\n",
            "tensor([1, 0, 2, 0, 2, 2, 2, 1, 3, 1, 0, 3, 1, 3, 4, 1, 0, 2, 4, 4, 0, 1, 2, 3,\n",
            "        2, 1, 3, 4, 0, 1, 4, 0], device='cuda:0')\n",
            "tensor([4, 4, 4, 3, 3, 4, 2, 4, 2, 2, 0, 1, 2, 3, 3, 1, 1, 3, 3, 4, 1, 0, 2, 4,\n",
            "        3, 0, 1, 1, 1, 3, 1, 1], device='cuda:0')\n",
            "tensor([3, 3, 4, 0, 3, 1, 4, 0, 4, 0, 2, 0, 0, 4, 4, 3, 1, 2, 4, 1, 3, 3, 1, 0,\n",
            "        4, 1, 3, 2, 0, 0, 4, 2], device='cuda:0')\n",
            "tensor([3, 2, 4, 4, 4, 1, 0, 0, 4, 1, 3, 2, 4, 2, 0, 4, 4, 2, 4, 3, 1, 2, 1, 2,\n",
            "        3, 3, 2, 0, 0, 0, 4, 0], device='cuda:0')\n",
            "tensor([3, 1, 3, 1, 4, 1, 3, 0, 1, 2, 1, 2, 0, 0, 2, 4, 3, 3, 0, 0, 3, 2, 0, 2,\n",
            "        1, 2, 2, 1, 0, 0, 0, 1], device='cuda:0')\n",
            "tensor([1, 2, 3, 0, 2, 4, 4, 0, 0, 0, 4, 3, 3, 2, 4, 1, 3, 2, 2, 0, 0, 3, 4, 1,\n",
            "        2, 4, 0, 1, 0, 4, 1, 0], device='cuda:0')\n",
            "tensor([3, 1, 4, 4, 0, 0, 3, 1, 1, 3, 2, 2, 0, 2, 4, 2, 2, 4, 4, 1, 2, 0, 1, 2,\n",
            "        0, 2, 2, 2, 3, 0, 2, 0], device='cuda:0')\n",
            "tensor([1, 2, 1, 4, 2, 0, 4, 0, 1, 0, 0, 1, 1, 3, 3, 1, 3, 3, 1, 1, 0, 3, 2, 1,\n",
            "        3, 3, 0, 0, 2, 3, 3, 2], device='cuda:0')\n",
            "tensor([2, 2, 3, 0, 2, 0, 0, 2, 3, 3, 1, 3, 1, 1, 4, 4, 2, 0, 2, 1, 4, 3, 1, 0,\n",
            "        2, 3, 2, 4, 1, 2, 0, 0], device='cuda:0')\n",
            "tensor([4, 0, 1, 3, 2, 2, 2, 0, 0, 2, 2, 1, 0, 3, 0, 3, 0, 4, 4, 3, 4, 2, 0, 0,\n",
            "        2, 4, 2, 0, 4, 0, 1, 3], device='cuda:0')\n",
            "tensor([1, 0, 4, 4, 4, 3, 3, 0, 0, 3, 0, 1, 0, 0, 1, 2, 4, 4, 3, 2, 3, 2, 0, 0,\n",
            "        1, 4, 3, 2, 1, 4, 2, 2], device='cuda:0')\n",
            "tensor([2, 4, 3, 2, 4, 3, 3, 2, 2, 1, 3, 0, 2, 0, 0, 3, 3, 0, 3, 3, 4, 3, 1, 0,\n",
            "        2, 1, 4, 4, 1, 4, 2, 2], device='cuda:0')\n",
            "tensor([2, 0, 2, 3, 1, 0, 3, 2, 1, 3, 4, 3, 3, 1, 3, 3, 0, 0, 4, 0, 3, 0, 0, 1,\n",
            "        1, 3, 0, 1, 0, 0, 3, 2], device='cuda:0')\n",
            "tensor([4, 4, 0, 0, 3, 3, 2, 3, 4, 3, 1, 1, 1, 3, 4, 3, 0, 0, 0, 1, 3, 3, 2, 3,\n",
            "        0, 2, 0, 2, 2, 0, 1, 0], device='cuda:0')\n",
            "tensor([0, 2, 2, 1, 2, 1, 3, 1, 0, 2, 4, 0, 4, 1, 4, 3, 2, 2, 0, 1, 2, 1, 4, 1,\n",
            "        2, 0, 1, 0, 1, 3, 0, 4], device='cuda:0')\n",
            "tensor([2, 2, 0, 1, 4, 4, 0, 3, 0, 0, 2, 1, 1, 4, 2, 4, 4, 0, 1, 0, 2, 1, 4, 4,\n",
            "        3, 3, 3, 4, 4, 2, 0, 1], device='cuda:0')\n",
            "tensor([0, 1, 3, 0, 2, 1, 3, 2, 2, 1, 1, 0, 3, 4, 3, 0, 2, 3, 3, 4, 0, 1, 0, 4,\n",
            "        1, 2, 0, 1, 0, 0, 1, 1], device='cuda:0')\n",
            "tensor([3, 1, 4, 1, 3, 3, 2, 4, 3, 0, 1, 2, 2, 0, 4, 1, 1, 2, 2, 2, 2, 0, 0, 2,\n",
            "        4, 0, 4, 4, 3, 0, 2, 4], device='cuda:0')\n",
            "tensor([3, 0, 1, 0, 1, 3, 4, 0, 4, 2, 2, 4, 3, 4, 3, 3, 4, 4, 0, 0, 3, 2, 2, 3,\n",
            "        0, 4, 1, 1, 0, 4, 4, 3], device='cuda:0')\n",
            "tensor([2, 3, 3, 4, 4, 1, 3, 3, 0, 1, 1, 4, 0, 4, 4, 1, 1, 3, 0, 2, 1, 3, 4, 2,\n",
            "        2, 4, 2, 1, 0, 1, 2, 0], device='cuda:0')\n",
            "tensor([1, 4, 0, 0, 4, 3, 2, 4, 0, 1, 3, 1, 2, 2, 4, 1, 1, 3, 1, 0, 3, 2, 1, 3,\n",
            "        0, 0, 1, 2, 3, 1, 3, 0], device='cuda:0')\n",
            "tensor([3, 4, 3, 0, 0, 1, 0, 2, 3, 2, 1, 4, 0, 2, 3, 0, 0, 0, 1, 0, 4, 0, 2, 4,\n",
            "        2, 2, 1, 1, 4, 2, 4, 4], device='cuda:0')\n",
            "tensor([0, 3, 0, 3, 1, 1, 0, 0, 0, 0, 4, 4, 4, 3, 3, 3, 1, 3, 0, 0, 0, 2, 1, 2,\n",
            "        2, 0, 4, 4, 2, 3, 2, 0], device='cuda:0')\n",
            "tensor([2, 2, 2, 0, 2, 1, 2, 3, 2, 2, 3, 0, 4, 1, 2, 2, 1, 0, 1, 1, 0, 2, 2, 1,\n",
            "        2, 3, 4, 2, 4, 2, 3, 1], device='cuda:0')\n",
            "tensor([0, 3, 2, 0, 0, 1, 1, 1, 2, 0, 0, 3, 0, 1, 4, 4, 0, 1, 2, 4, 4, 3, 1, 0,\n",
            "        2, 1, 3, 2, 2, 0, 0, 1], device='cuda:0')\n",
            "tensor([2, 1, 0, 0, 2, 4, 3, 0, 1, 1, 4, 1, 4, 3, 4, 2, 4, 2, 4, 1, 1, 1, 2, 2,\n",
            "        1, 4, 1, 3, 2, 1, 2, 2], device='cuda:0')\n",
            "tensor([4, 3, 2, 1, 4, 2, 4, 3, 3, 2, 1, 1, 0, 2, 4, 2, 0, 0, 1, 1, 0, 2, 1, 0,\n",
            "        4, 4, 2, 0, 4, 0, 4, 1], device='cuda:0')\n",
            "tensor([3, 3, 0, 2, 2, 3, 1, 2, 0, 0, 1, 1, 3, 3, 3, 2, 2, 1, 2, 0, 4, 1, 2, 2,\n",
            "        3, 3, 3, 4, 2, 3, 3, 3], device='cuda:0')\n",
            "tensor([0, 2, 1, 4, 3, 2, 0, 1, 2, 1, 3, 2, 4, 1, 3, 2, 3, 2, 1, 2, 2, 3, 2, 1,\n",
            "        3, 3, 1, 2, 1, 3, 1, 0], device='cuda:0')\n",
            "tensor([3, 0, 0, 0, 0, 4, 1, 1, 0, 2, 2, 2, 4, 1, 1, 0, 0, 0, 4, 1, 1, 1, 4, 4,\n",
            "        2, 1, 3, 3, 4, 4, 4, 2], device='cuda:0')\n",
            "tensor([1, 3, 3, 0, 0, 2, 2, 2, 2, 2, 2, 0, 3, 1, 4, 0, 2, 0, 3, 1, 3, 0, 3, 4,\n",
            "        0, 0, 1, 0, 4, 0, 1, 0], device='cuda:0')\n",
            "tensor([3, 2, 1, 1, 4, 4, 3, 4, 2, 0, 0, 1, 3, 0, 3, 4, 1, 3, 3, 1, 4, 1, 3, 2,\n",
            "        3, 2, 4, 0, 1, 4, 1, 4], device='cuda:0')\n",
            "tensor([2, 2, 3, 0, 2, 0, 0, 3, 1, 2, 2, 0, 1, 4, 4, 4, 2, 1, 0, 3, 2, 2, 1, 0,\n",
            "        0, 3, 0, 1, 3, 2, 3, 0], device='cuda:0')\n",
            "tensor([3, 1, 4, 2, 3, 4, 0, 0, 3, 0, 1, 1, 4, 2, 3, 3, 2, 4, 0, 0, 3, 3, 1, 2,\n",
            "        1, 3, 1, 3, 0, 0, 2, 1], device='cuda:0')\n",
            "tensor([0, 0, 0, 2, 3, 0, 3, 3, 3, 3, 2, 1, 1, 3, 3, 0, 1, 0, 3, 4, 3, 4, 4, 3,\n",
            "        1, 0, 2, 1, 3, 1, 4, 4], device='cuda:0')\n",
            "tensor([0, 3, 2, 2, 0, 3, 3, 2, 2, 0, 3, 2, 1, 3, 2, 4, 4, 2, 3, 3, 3, 2, 0, 0,\n",
            "        2, 3, 4, 4, 3, 3, 3, 3], device='cuda:0')\n",
            "tensor([3, 4, 0, 0, 1, 0, 0, 3, 1, 1, 4, 2, 4, 1, 0, 4, 1, 3, 1, 3, 3, 0, 3, 4,\n",
            "        1, 4, 4, 4, 2, 3, 3, 0], device='cuda:0')\n",
            "tensor([0, 2, 1, 3, 2, 2, 4, 3, 3, 0, 4, 2, 0, 1, 1, 4, 2, 1, 1, 0, 3, 4, 3, 4,\n",
            "        4, 4, 3, 0, 2, 2, 1, 1], device='cuda:0')\n",
            "tensor([0, 4, 2, 1, 0, 3, 1, 1, 0, 0, 1, 0, 3, 0, 3, 3, 2, 3, 0, 1, 2, 4, 2, 3,\n",
            "        1, 0, 1, 4, 1, 1, 3, 3], device='cuda:0')\n",
            "tensor([2, 1, 0, 4, 1, 2, 1, 1, 2, 0, 0, 4, 1, 0, 2, 2, 0, 2, 3, 2, 2, 1, 0, 1,\n",
            "        0, 3, 4, 1, 4, 0, 3, 1], device='cuda:0')\n",
            "tensor([2, 0, 0, 1, 0, 4, 2, 4, 2, 3, 4, 4, 0, 3, 4, 1, 1, 2, 2, 0, 0, 2, 2, 1,\n",
            "        4, 3, 4, 0, 1, 1, 0, 2], device='cuda:0')\n",
            "tensor([2, 3, 1, 1, 3, 4, 3, 1, 1, 4, 0, 3, 0, 0, 3, 2, 3, 0, 4, 0, 1, 4, 1, 0,\n",
            "        3, 2, 0, 4, 1, 3, 4, 2], device='cuda:0')\n",
            "tensor([3, 1, 1, 2, 2, 1, 1, 0, 2, 1, 0, 1, 0, 1, 4, 2, 3, 1, 0, 1, 3, 3, 3, 2,\n",
            "        0, 0, 3, 2, 3, 0, 4, 4], device='cuda:0')\n",
            "tensor([0, 4, 4, 2, 0, 2, 1, 1, 1, 2, 1, 3, 1, 1, 4, 1, 2, 3, 1, 0, 2, 1, 0, 2,\n",
            "        2, 3, 2, 1, 2, 1, 2, 2], device='cuda:0')\n",
            "tensor([1, 1, 1, 2, 0, 4, 3, 0, 2, 0, 2, 0, 3, 0, 0, 0, 1, 2, 3, 2, 1, 2, 2, 2,\n",
            "        3, 2, 2, 0, 0, 3, 0, 1], device='cuda:0')\n",
            "tensor([2, 0, 2, 3, 1, 1, 0, 1, 4, 4, 4, 1, 3, 3, 1, 4, 0, 3, 0, 3, 2, 2, 4, 0,\n",
            "        0, 1, 0, 4, 2, 0, 2, 1], device='cuda:0')\n",
            "tensor([2, 1, 0, 1, 0, 0, 1, 0, 4, 0, 0, 1, 0, 3, 1, 2, 3, 1, 2, 3, 2, 0, 3, 4,\n",
            "        4, 3, 0, 0, 0, 0, 1, 2], device='cuda:0')\n",
            "tensor([2, 2, 2, 0, 1, 3, 2, 4, 2, 3, 2, 2, 1, 1, 0, 4, 3, 2, 1, 0, 1, 2, 0, 1,\n",
            "        4, 0, 2, 2, 2, 1, 2, 1], device='cuda:0')\n",
            "tensor([2, 0, 1, 0, 3, 0, 3, 1, 1, 3, 4, 3, 0, 4, 4, 4, 3, 2, 1, 0, 2, 1, 3, 1,\n",
            "        1, 1, 3, 1, 0, 0, 2, 3], device='cuda:0')\n",
            "tensor([2, 2, 3, 0, 3, 1, 0, 2, 2, 2, 3, 4, 0, 4, 4, 4, 0, 1, 0, 3, 1, 4, 4, 1,\n",
            "        0, 3, 3, 2, 1, 0, 1, 4], device='cuda:0')\n",
            "tensor([3, 2, 4, 0, 3, 3, 1, 4, 4, 4, 1, 2, 1, 3, 1, 2, 4, 1, 0, 2, 3, 0, 2, 0,\n",
            "        2, 2, 1, 0, 4, 2, 2, 4], device='cuda:0')\n",
            "tensor([4, 2, 1, 4, 1, 4, 4, 0, 1, 3, 3, 4, 3, 1, 0, 3, 2, 1, 2, 1, 3, 1, 1, 4,\n",
            "        1, 2, 2, 4, 3, 3, 0, 2], device='cuda:0')\n",
            "tensor([3, 4, 0, 2, 0, 2, 3, 3, 3, 3, 2, 3, 4, 1, 0, 3, 3, 1, 4, 4, 2, 2, 1, 2,\n",
            "        2, 3, 2, 3, 1, 3, 1, 2], device='cuda:0')\n",
            "tensor([2, 4, 2, 2, 0, 0, 4, 0, 1, 3, 0, 2, 1, 1, 4, 3, 1, 4, 3, 3, 1, 3, 0, 1,\n",
            "        1, 1, 3, 2, 0, 2, 0, 0], device='cuda:0')\n",
            "tensor([3, 1, 1, 2, 0, 0, 0, 2, 1, 1, 1, 2, 0, 2, 3, 0, 3, 3, 4, 3, 1, 4, 4, 3,\n",
            "        3, 4, 4, 1, 0, 3, 3, 3], device='cuda:0')\n",
            "tensor([1, 2, 1, 1, 1, 1, 0, 0, 0, 2, 0, 2, 2, 2, 0, 4, 0, 3, 0, 3, 1, 2, 4, 1,\n",
            "        1, 3, 4, 1, 4, 1, 3, 3], device='cuda:0')\n",
            "tensor([4, 1, 3, 4, 0, 2, 2, 2, 3, 0, 0, 1, 0, 1, 2, 4, 3, 3, 3, 4, 1, 4, 1, 0,\n",
            "        0, 4, 4, 4, 4, 0, 0, 1], device='cuda:0')\n",
            "tensor([4, 2, 1, 3, 2, 2, 0, 2, 0, 2, 0, 1, 0, 4, 2, 4, 2, 2, 1, 3, 4, 4, 2, 4,\n",
            "        4, 3, 3, 2, 4, 0, 3, 2], device='cuda:0')\n",
            "tensor([2, 2, 3, 1, 3, 0, 0, 2, 2, 2, 0, 3, 0, 4, 2, 2, 2, 2, 2, 1, 4, 1, 3, 2,\n",
            "        3, 4, 3, 4, 3, 3, 1, 3], device='cuda:0')\n",
            "tensor([0, 1, 1, 4, 4, 1, 1, 0, 1, 4, 3, 0, 4, 2, 2, 1, 0, 2, 0, 2, 2, 3, 4, 4,\n",
            "        4, 3, 3, 3, 2, 1, 2, 0], device='cuda:0')\n",
            "tensor([1, 2, 4, 0, 3, 1, 1, 1, 1, 2, 3, 3, 0, 1, 0, 1, 1, 0, 2, 2, 1, 3, 0, 1,\n",
            "        4, 1, 2, 1, 3, 0, 3, 4], device='cuda:0')\n",
            "tensor([1, 2, 1, 3, 3, 4, 2, 1, 4, 0, 3, 1, 4, 2, 2, 4, 3, 4, 3, 1, 4, 0, 4, 3,\n",
            "        4, 3, 0, 0, 2, 3, 2, 2], device='cuda:0')\n",
            "tensor([0, 1, 1, 1, 0, 4, 1, 2, 1, 0, 2, 3, 2, 2, 0, 1, 0, 1, 2, 2, 0, 1, 2, 3,\n",
            "        3, 0, 0, 2, 2, 0, 4, 4], device='cuda:0')\n",
            "tensor([4, 2, 1, 2, 3, 1, 1, 2, 2, 1, 2, 2, 4, 2, 2, 0, 4, 3, 4, 4, 3, 3, 0, 1,\n",
            "        1, 1, 0, 4, 0, 3, 4, 2], device='cuda:0')\n",
            "tensor([2, 3, 3, 2, 4, 3, 3, 0, 3, 4, 1, 4, 3, 3, 0, 2, 3, 4, 1, 1, 0, 4, 0, 4,\n",
            "        0, 1, 1, 3, 4, 2, 0, 1], device='cuda:0')\n",
            "tensor([0, 4, 4, 1, 0, 4, 2, 0, 1, 1, 0, 3, 2, 2, 0, 0, 1, 2, 0, 1, 3, 4, 2, 3,\n",
            "        4, 1, 4, 3, 2, 3, 1, 2], device='cuda:0')\n",
            "tensor([3, 1, 0, 3, 4, 3, 2, 0, 2, 0, 4, 0, 1, 4, 3, 3, 1, 3, 3, 4, 3, 3, 1, 4,\n",
            "        3, 3, 3, 0, 3, 4, 3, 3], device='cuda:0')\n",
            "tensor([0, 1, 3, 4, 2, 4, 3, 0, 1, 3, 1, 4, 3, 1, 2, 3, 3, 3, 3, 1, 1, 2, 0, 0,\n",
            "        1, 0, 2, 1, 1, 0, 2, 0], device='cuda:0')\n",
            "tensor([0, 3, 0, 3, 3, 0, 0, 3, 3, 0, 3, 2, 1, 0, 1, 3, 1, 4, 1, 4, 3, 0, 3, 0,\n",
            "        2, 4, 4, 2, 2, 2, 0, 4], device='cuda:0')\n",
            "tensor([3, 4, 4, 4, 1, 1, 2, 4, 1, 3, 4, 2, 1, 1, 0, 1, 0, 3, 1, 2, 3, 3, 0, 0,\n",
            "        0, 3, 1, 4, 1, 1, 1, 3], device='cuda:0')\n",
            "tensor([4, 4, 2, 4, 0, 3, 3, 2, 3, 2, 3, 2, 3, 2, 2, 1, 0, 3, 0, 0, 4, 4, 2, 0,\n",
            "        3, 4, 1, 0, 4, 4, 4, 2], device='cuda:0')\n",
            "tensor([1, 1, 4, 0, 4, 2, 1, 1, 1, 1, 1, 3, 3, 1, 3, 2, 4, 0, 2, 1, 0, 3, 4, 0,\n",
            "        2, 3, 1, 0, 2, 1, 0, 1], device='cuda:0')\n",
            "tensor([1, 0, 2, 1, 2, 0, 3, 2, 4, 3, 4, 3, 1, 2, 2, 2, 1, 1, 0, 0, 2, 4, 1, 2,\n",
            "        1, 1, 3, 1, 2, 1, 2, 3], device='cuda:0')\n",
            "tensor([4, 2, 3, 4, 3, 2, 3, 3, 0, 1, 1, 1, 1, 4, 4, 1, 3, 3, 3, 3, 4, 0, 2, 2,\n",
            "        3, 4, 3, 3, 4, 3, 1, 0], device='cuda:0')\n",
            "tensor([0, 2, 4, 0, 0, 0, 2, 4, 3, 2, 1, 3, 0, 4, 1, 4, 1, 2, 4, 3, 0, 0, 4, 1,\n",
            "        3, 0, 3, 0, 0, 1, 3, 4], device='cuda:0')\n",
            "tensor([0, 0, 1, 3, 1, 4, 0, 1, 2, 1, 3, 2, 3, 0, 2, 1, 4, 0, 3, 0, 1, 4, 3, 1,\n",
            "        2, 3, 0, 4, 3, 2, 4, 2], device='cuda:0')\n",
            "tensor([0, 3, 1, 3, 1, 0, 4, 0, 1, 2, 4, 0, 0, 2, 2, 4, 3, 2, 1, 2, 0, 4, 3, 0,\n",
            "        2, 2, 3, 3, 0, 0, 3, 0], device='cuda:0')\n",
            "tensor([1, 2, 4, 1, 0, 2, 4, 3, 0, 2, 0, 3, 2, 1, 4, 2, 4, 2, 4, 4, 0, 1, 0, 4,\n",
            "        0, 0, 0, 1, 4, 1, 0, 1], device='cuda:0')\n",
            "tensor([1, 1, 4, 2, 3, 3, 0, 3, 3, 3, 4, 0, 4, 0, 0, 2, 0, 2, 0, 2, 4, 1, 0, 2,\n",
            "        3, 3, 4, 0, 2, 1, 1, 0], device='cuda:0')\n",
            "tensor([2, 4, 3, 1, 4, 4, 3, 3, 0, 3, 2, 2, 0, 2, 3, 1, 0, 2, 0, 0, 4, 4, 0, 0,\n",
            "        0, 1, 0, 3, 3, 3, 0, 0], device='cuda:0')\n",
            "tensor([3, 0, 1, 4, 2, 4, 3, 1, 2, 2, 3, 1, 3, 3, 0, 4, 4, 4, 1, 0, 0, 3, 4, 4,\n",
            "        2, 0, 2, 4, 4, 1, 1, 2], device='cuda:0')\n",
            "tensor([1, 4, 4, 3, 1, 3, 0, 4, 0, 1, 3, 1, 2, 1, 3, 0, 0, 1, 2, 3, 1, 1, 1, 1,\n",
            "        0, 3, 3, 0, 1, 1, 3, 4], device='cuda:0')\n",
            "tensor([0, 2, 0, 1, 0, 1, 3, 0, 0, 2, 4, 0, 0, 2, 1, 3, 0, 2, 2, 2, 2, 1, 4, 2,\n",
            "        2, 1, 2, 0, 1, 0, 3, 1], device='cuda:0')\n",
            "tensor([2, 0, 1, 2, 3, 1, 3, 2, 2, 2, 1, 3, 1, 2, 2, 2, 3, 1, 3, 0, 4, 0, 4, 0,\n",
            "        0, 2, 1, 3, 0, 4, 1, 1], device='cuda:0')\n",
            "tensor([2, 1, 4, 0, 1, 4, 3, 1, 1, 0, 2, 0, 3, 2, 0, 0, 2, 1, 1, 1, 3, 2, 4, 3,\n",
            "        0, 0, 0, 3, 2, 2, 4, 0], device='cuda:0')\n",
            "tensor([1, 3, 1, 0, 0, 1, 2, 4, 1, 1, 0, 3, 0, 0, 3, 3, 1, 2, 2, 3, 2, 4, 2, 1,\n",
            "        0, 2, 0, 1, 1, 0, 4, 4], device='cuda:0')\n",
            "tensor([2, 0, 3, 0, 2, 2, 0, 3, 0, 0, 0, 0, 1, 2, 3, 4, 1, 4, 1, 2, 3, 0, 0, 0,\n",
            "        2, 1, 1, 1, 4, 1, 2, 4], device='cuda:0')\n",
            "tensor([0, 2, 4, 1, 4, 4, 1, 3, 0, 4, 1, 1, 3, 2, 3, 4, 0, 1, 3, 1, 3, 0, 4, 3,\n",
            "        0, 3, 3, 0, 1, 2, 3, 2], device='cuda:0')\n",
            "tensor([3, 2, 0, 4, 4, 3, 2, 0, 2, 1, 2, 1, 4, 4, 0, 1, 4, 0, 3, 1, 0, 1, 4, 0,\n",
            "        1, 3, 4, 4, 0, 3, 0, 2], device='cuda:0')\n",
            "tensor([2, 3, 2, 3, 1, 0, 2, 0, 0, 1, 3, 3, 4, 0, 2, 2, 2, 1, 2, 2, 0, 1, 2, 1,\n",
            "        4, 1, 4, 3, 2, 0, 3, 3], device='cuda:0')\n",
            "tensor([2, 2, 2, 3, 2, 4, 0, 0, 1, 3, 4, 0, 0, 4, 0, 4, 0, 2, 4, 0, 0, 1, 2, 2,\n",
            "        1, 1, 2, 3, 1, 2, 2, 3], device='cuda:0')\n",
            "tensor([4, 2, 1, 1, 4, 0, 2, 4, 0, 2, 4, 3, 2, 3, 1, 0, 1, 1, 4, 4, 0, 4, 4, 3,\n",
            "        3, 0, 1, 3, 3, 3, 0, 2], device='cuda:0')\n",
            "tensor([1, 2, 2, 4, 3, 2, 0, 2, 3, 2, 1, 4, 0, 2, 2, 0, 2, 3, 1, 1, 0, 2, 0, 0,\n",
            "        3, 2, 3, 4, 2, 1, 2, 2], device='cuda:0')\n",
            "tensor([4, 2, 0, 2, 1, 3, 3, 0, 2, 3, 0, 2, 1, 1, 3, 1, 0, 0, 4, 1, 2, 1, 3, 2,\n",
            "        2, 0, 1, 1, 4, 3, 3, 2], device='cuda:0')\n",
            "tensor([3, 2, 2, 1, 0, 3, 1, 1, 1, 1, 3, 4, 2, 0, 1, 1, 0, 1, 4, 3, 3, 0, 3, 4,\n",
            "        2, 4, 4, 1, 0, 2, 2, 4], device='cuda:0')\n",
            "tensor([3, 3, 0, 0, 4, 2, 1, 1, 1, 0, 1, 0, 2, 0, 3, 1, 3, 0, 3, 3, 3, 0, 1, 4,\n",
            "        2, 0, 4, 3, 3, 0, 3, 4], device='cuda:0')\n",
            "tensor([1, 4, 3, 0, 3, 4, 0, 2, 1, 0, 4, 1, 1, 1, 4, 1, 1, 1, 0, 3, 1, 0, 1, 3,\n",
            "        2, 0, 4, 0, 0, 0, 3, 3], device='cuda:0')\n",
            "tensor([1, 0, 3, 1, 1, 0, 0, 0, 4, 1, 0, 0, 3, 1, 0, 4, 3, 4, 1, 2, 4, 4, 2, 2,\n",
            "        1, 2, 4, 3, 1, 2, 0, 3], device='cuda:0')\n",
            "tensor([0, 0, 3, 2, 4, 4, 1, 1, 4, 4, 0, 3, 3, 1, 4, 3, 0, 0, 0, 1, 1, 4, 4, 1,\n",
            "        1, 2, 0, 0, 0, 4, 1, 1], device='cuda:0')\n",
            "tensor([1, 0, 1, 3, 0, 2, 2, 1, 4, 4, 3, 3, 3, 2, 2, 0, 2, 3, 4, 4, 1, 1, 1, 3,\n",
            "        1, 3, 2, 1, 0, 0, 1, 4], device='cuda:0')\n",
            "tensor([4, 3, 3, 0, 1, 3, 0, 2, 3, 2, 1, 1, 0, 4, 2, 3, 1, 2, 0, 2, 1, 3, 0, 1,\n",
            "        3, 0, 2, 2, 4, 2, 3, 4], device='cuda:0')\n",
            "tensor([3, 3, 1, 3, 1, 0, 2, 4, 0, 2, 1, 1, 2, 0, 2, 1, 2, 3, 3, 4, 3, 4, 2, 0,\n",
            "        2, 0, 0, 1, 2, 0, 4, 0], device='cuda:0')\n",
            "tensor([1, 2, 2, 1, 4, 2, 0, 4, 0, 2, 4, 3, 3, 0, 4, 1, 0, 4, 1, 1, 0, 1, 3, 0,\n",
            "        0, 4, 0, 3, 0, 0, 2, 2], device='cuda:0')\n",
            "tensor([0, 3, 0, 4, 0, 3, 1, 0, 3, 2, 4, 1, 0, 0, 1, 0, 0, 0, 3, 2, 1, 2, 2, 0,\n",
            "        1, 4, 0, 2, 4, 1, 3, 2], device='cuda:0')\n",
            "tensor([0, 2, 1, 3, 2, 3, 4, 0, 2, 2, 3, 2, 3, 1, 2, 1, 0, 3, 3, 1, 4, 1, 0, 4,\n",
            "        1, 3, 2, 3, 2, 3, 4, 3], device='cuda:0')\n",
            "tensor([4, 1, 0, 3, 0, 1, 0, 4, 0, 3, 3, 0, 2, 4, 1, 1, 2, 0, 1, 4, 2, 1, 3, 1,\n",
            "        3, 3, 2, 4, 1, 4, 3, 4], device='cuda:0')\n",
            "tensor([2, 0, 1, 0, 1, 0, 1, 4, 1, 1, 2, 1, 2, 4, 2, 2, 2, 2, 4, 3, 4, 4, 0, 2,\n",
            "        0, 2, 2, 0, 0, 0, 0, 3], device='cuda:0')\n",
            "tensor([4, 0, 4, 3, 3, 2, 1, 2, 4, 4, 4, 4, 2, 0, 0, 2, 2, 0, 1, 3, 2, 2, 4, 2,\n",
            "        2, 3, 2, 3, 3, 0, 3, 2], device='cuda:0')\n",
            "tensor([1, 2, 3, 3, 4, 4, 1, 1, 4, 4, 4, 0, 1, 3, 4, 1, 1, 4, 2, 0, 4, 4, 1, 1,\n",
            "        0, 3, 3, 0, 3, 3, 1, 3], device='cuda:0')\n",
            "tensor([4, 4, 1, 0, 4, 2, 0, 0, 1, 4, 3, 0, 4, 2, 1, 0, 3, 1, 0, 2, 1, 1, 4, 0,\n",
            "        4, 0, 1, 1, 0, 3, 2, 0], device='cuda:0')\n",
            "tensor([1, 4, 1, 3, 3, 1, 1, 0, 1, 2, 4, 1, 0, 2, 3, 3, 2, 2, 4, 1, 1, 1, 4, 4,\n",
            "        4, 2, 2, 0, 2, 1, 4, 3], device='cuda:0')\n",
            "tensor([2, 0, 2, 3, 1, 4, 0, 4, 4, 2, 0, 0, 1, 3, 1, 0, 2, 4, 3, 4, 2, 0, 2, 3,\n",
            "        3, 0, 4, 4, 0, 4, 1, 1], device='cuda:0')\n",
            "tensor([3, 2, 0, 3, 3, 0, 0, 2, 1, 0, 2, 1, 4, 2, 2, 2, 1, 1, 4, 1, 0, 4, 1, 0,\n",
            "        2, 0, 0, 4, 1, 0, 3, 2], device='cuda:0')\n",
            "tensor([1, 3, 4, 4, 1, 4, 0, 1, 3, 1, 4, 3, 2, 2, 3, 4, 3, 4, 2, 4, 0, 0, 0, 1,\n",
            "        0, 2, 3, 1, 1, 1, 0, 2], device='cuda:0')\n",
            "tensor([3, 2, 2, 4, 1, 2, 1, 4, 1, 4, 2, 3, 1, 1, 1, 2, 0, 1, 2, 0, 3, 2, 4, 4,\n",
            "        4, 3, 3, 0, 3, 0, 1, 1], device='cuda:0')\n",
            "tensor([3, 4, 4, 0, 1, 4, 2, 3, 4, 2, 3, 2, 4, 1, 1, 1, 4, 3, 1, 3, 1, 4, 4, 2,\n",
            "        2, 1, 1, 2, 2, 2, 3, 4], device='cuda:0')\n",
            "tensor([2, 4, 1, 3, 0, 3, 0, 1, 4, 0, 3, 4, 4, 3, 3, 1, 1, 3, 3, 4, 3, 1, 3, 0,\n",
            "        0, 1, 3, 2, 2, 0, 0, 0], device='cuda:0')\n",
            "tensor([2, 1, 3, 3, 3, 0, 2, 0, 0, 2, 0, 2, 2, 0, 3, 3, 1, 1, 0, 3, 1, 3, 3, 2,\n",
            "        3, 0, 3, 0, 0, 0, 0, 2], device='cuda:0')\n",
            "tensor([2, 2, 3, 1, 3, 4, 0, 3, 3, 2, 3, 3, 4, 0, 2, 1, 2, 1, 1, 0, 2, 3, 2, 3,\n",
            "        2, 0, 2, 1, 1, 1, 0, 2], device='cuda:0')\n",
            "tensor([2, 1, 0, 3, 2, 0, 1, 3, 2, 3, 3, 0, 2, 0, 0, 4, 2, 2, 2, 4, 3, 0, 4, 1,\n",
            "        4, 4, 1, 2, 0, 0, 4, 2], device='cuda:0')\n",
            "tensor([1, 4, 3, 0, 1, 3, 2, 4, 3, 4, 2, 4, 4, 1, 1, 2, 4, 0, 4, 0, 4, 4, 1, 2,\n",
            "        2, 1, 4, 4, 4, 3, 0, 4], device='cuda:0')\n",
            "tensor([2, 4, 2, 0, 2, 1, 1, 4, 0, 4, 2, 4, 3, 3, 0, 0, 4, 2, 0, 4, 0, 0, 3, 2,\n",
            "        4, 3, 4, 2, 2, 0, 3, 4], device='cuda:0')\n",
            "tensor([3, 2, 3, 2, 3, 3, 4, 3, 1, 0, 0, 1, 2, 0, 0, 2, 2, 2, 0, 4, 2, 1, 4, 3,\n",
            "        3, 2, 3, 2, 1, 3, 1, 0], device='cuda:0')\n",
            "tensor([0, 1, 1, 0, 1, 2, 3, 0, 1, 2, 3, 1, 0, 3, 0, 3, 0, 4, 3, 1, 3, 1, 4, 4,\n",
            "        1, 2, 0, 2, 3, 0, 4, 3], device='cuda:0')\n",
            "tensor([3, 2, 2, 0, 3, 1, 1, 3, 4, 1, 3, 3, 3, 1, 3, 1, 2, 3, 4, 4, 2, 1, 2, 4,\n",
            "        0, 4, 0, 1, 0, 2, 3, 1], device='cuda:0')\n",
            "tensor([4, 3, 1, 3, 4, 3, 0, 3, 2, 3, 2, 1, 3, 4, 0, 4, 3, 4, 4, 0, 4, 3, 0, 3,\n",
            "        1, 4, 2, 4, 0, 0, 0, 3], device='cuda:0')\n",
            "tensor([4, 3, 0, 2, 1, 1, 0, 0, 1, 0, 0, 4, 1, 0, 2, 2, 4, 3, 0, 2, 0, 1, 3, 3,\n",
            "        2, 1, 0, 0, 1, 0, 3, 3], device='cuda:0')\n",
            "tensor([2, 3, 0, 1, 3, 1, 4, 0, 1, 1, 0, 0, 4, 2, 4, 2, 0, 3, 2, 3, 2, 1, 3, 1,\n",
            "        0, 1, 3, 3, 2, 4, 3, 2], device='cuda:0')\n",
            "tensor([1, 3, 0, 0, 4, 0, 2, 3, 3, 2, 0, 3, 3, 2, 2, 3, 2, 4, 2, 3, 3, 3, 0, 2,\n",
            "        2, 4, 2, 2, 3, 0, 2, 1], device='cuda:0')\n",
            "tensor([3, 4, 0, 1, 2, 0, 1, 1, 2, 0, 1, 0, 3, 2, 1, 0, 1, 3, 2, 2, 3, 2, 4, 4,\n",
            "        2, 0, 3, 1, 3, 2, 1, 1], device='cuda:0')\n",
            "tensor([0, 1, 1, 3, 0, 2, 3, 3, 3, 4, 2, 3, 4, 2, 4, 1, 0, 2, 2, 3, 4, 1, 3, 0,\n",
            "        3, 1, 4, 1, 0, 1, 1, 0], device='cuda:0')\n",
            "tensor([1, 0, 2, 2, 3, 1, 4, 2, 1, 2, 2, 4, 4, 3, 1, 2, 2, 0, 1, 4, 2, 4, 0, 0,\n",
            "        2, 4, 2, 4, 1, 1, 1, 4], device='cuda:0')\n",
            "tensor([2, 1, 1, 1, 2, 1, 1, 1, 4, 3, 2, 1, 3, 0, 4, 3, 0, 1, 2, 0, 0, 3, 0, 4,\n",
            "        4, 2, 2, 2, 0, 1, 4, 2], device='cuda:0')\n",
            "tensor([1, 1, 3, 0, 4, 2, 4, 0, 4, 4, 3, 1, 4, 3, 2, 1, 4, 3, 2, 3, 3, 1, 4, 1,\n",
            "        0, 0, 4, 1, 0, 0, 3, 3], device='cuda:0')\n",
            "tensor([2, 1, 4, 0, 4, 1, 2, 3, 4, 2, 1, 1, 1, 1, 4, 2, 2, 1, 1, 2, 1, 0, 4, 2,\n",
            "        2, 3, 0, 2, 3, 0, 0, 0], device='cuda:0')\n",
            "tensor([4, 0, 0, 3, 1, 4, 4, 1, 2, 1, 4, 2, 2, 1, 3, 1, 1, 1, 0, 4, 4, 4, 1, 1,\n",
            "        4, 2, 3, 0, 1, 1, 0, 2], device='cuda:0')\n",
            "tensor([3, 3, 3, 4, 0, 4, 1, 2, 3, 3, 3, 2, 0, 1, 0, 4, 0, 4, 3, 2, 3, 4, 2, 3,\n",
            "        4, 3, 4, 3, 2, 0, 4, 4], device='cuda:0')\n",
            "tensor([4, 4, 1, 2, 0, 0, 0, 3, 4, 4, 1, 1, 1, 0, 0, 2, 1, 0, 1, 4, 0, 1, 1, 0,\n",
            "        3, 3, 2, 2, 2, 4, 2, 0], device='cuda:0')\n"
          ]
        }
      ],
      "source": [
        "model.eval()\n",
        "y_pred_list = []\n",
        "y_test_list = []\n",
        "for inputs, labels in test_loader:\n",
        "    inputs, labels = inputs.to(DEVICE), labels.to(DEVICE)\n",
        "    print(labels)\n",
        "    test_h = model.init_hidden(labels.size(0))\n",
        "\n",
        "    output, val_h = model(inputs, test_h)\n",
        "    y_pred_test = torch.argmax(output, dim=1)\n",
        "    y_pred_list.extend(y_pred_test.squeeze().tolist())\n",
        "    y_test_list.extend(labels.squeeze().tolist())"
      ]
    },
    {
      "cell_type": "code",
      "execution_count": null,
      "metadata": {
        "colab": {
          "base_uri": "https://localhost:8080/"
        },
        "id": "PzgENJu2xWFy",
        "outputId": "f422b413-23a8-4295-cf6a-f87cc1edac7c"
      },
      "outputs": [
        {
          "name": "stdout",
          "output_type": "stream",
          "text": [
            "98.50620067643743\n",
            "Accuracy: 0.9243777056277056\n",
            "Classification Report for LSTM :\n",
            "               precision    recall  f1-score   support\n",
            "\n",
            "    religion       0.97      0.92      0.95      1573\n",
            "         age       0.98      0.96      0.97      1557\n",
            "   ethnicity       0.98      0.98      0.98      1539\n",
            "      gender       0.91      0.89      0.90      1454\n",
            "not bullying       0.77      0.86      0.81      1269\n",
            "\n",
            "    accuracy                           0.92      7392\n",
            "   macro avg       0.92      0.92      0.92      7392\n",
            "weighted avg       0.93      0.92      0.93      7392\n",
            "\n"
          ]
        }
      ],
      "source": [
        "from sklearn.metrics import accuracy_score\n",
        "print(np.mean(train_acc))\n",
        "print('Accuracy:',accuracy_score(y_test_list, y_pred_list))\n",
        "print('Classification Report for LSTM :\\n', classification_report(y_test_list, y_pred_list, target_names=sentiments))"
      ]
    },
    {
      "cell_type": "code",
      "execution_count": null,
      "metadata": {
        "colab": {
          "base_uri": "https://localhost:8080/",
          "height": 757
        },
        "id": "vmE9K77s1qv_",
        "outputId": "d2dca2fd-9585-4277-97bf-572e1c7c6d8b"
      },
      "outputs": [
        {
          "data": {
            "image/png": "[encoded data removed]",
            "text/plain": [
              "<Figure size 750x750 with 1 Axes>"
            ]
          },
          "metadata": {},
          "output_type": "display_data"
        }
      ],
      "source": [
        "conf_matrix(y_test_list,y_pred_list,' LSTM Sentiment Analysis\\nConfusion Matrix', sentiments)"
      ]
    },
    {
      "cell_type": "code",
      "execution_count": null,
      "metadata": {
        "id": "TNs6Ccb_29FE"
      },
      "outputs": [],
      "source": [
        "torch.save(model, './bilstm.pt')"
      ]
    },
    {
      "cell_type": "markdown",
      "metadata": {
        "id": "QQj3ZoYPYQn7"
      },
      "source": [
        "# **CNN**"
      ]
    },
    {
      "cell_type": "code",
      "execution_count": null,
      "metadata": {
        "colab": {
          "base_uri": "https://localhost:8080/"
        },
        "id": "AWB9Oij2YVC3",
        "outputId": "c46091b6-5ad8-48a5-b784-9323f75cd553"
      },
      "outputs": [
        {
          "output_type": "stream",
          "name": "stdout",
          "text": [
            "Colab only includes TensorFlow 2.x; %tensorflow_version has no effect.\n"
          ]
        }
      ],
      "source": [
        "import random\n",
        "import numpy as np\n",
        "import math\n",
        "import re\n",
        "import pandas as pd\n",
        "import matplotlib.pyplot as plt\n",
        "from bs4 import BeautifulSoup\n",
        "import pickle\n",
        "from sklearn.model_selection import train_test_split\n",
        "from google.colab import drive\n",
        "try:\n",
        "    %tensorflow_version 2.x\n",
        "except Exception:\n",
        "    pass\n",
        "import tensorflow as tf\n",
        "from tensorflow.keras import layers\n",
        "import tensorflow_datasets as tfds"
      ]
    },
    {
      "cell_type": "code",
      "execution_count": null,
      "metadata": {
        "id": "bU8IlPmMaSwK"
      },
      "outputs": [],
      "source": [
        "\n",
        "#Setting up a seed for reproducibility\n",
        "seed = random.seed(42)"
      ]
    },
    {
      "cell_type": "code",
      "execution_count": null,
      "metadata": {
        "id": "5I28XvncadKq"
      },
      "outputs": [],
      "source": [
        "class DCNN(tf.keras.Model):\n",
        "    \n",
        "    def __init__(self,\n",
        "                 vocab_size,  #Size of the vocabulary used. Will be given by the tokenizer\n",
        "                 emb_dim=128,  #128 is just an intuitive default value, it's used so ofter for embedding \n",
        "                 nb_filters=50,  #Number of times we want to apply each filter\n",
        "                 FFN_units=512,  #Number of units of the feedforward neural network at the end\n",
        "                 nb_classes=2,  #Binary classification as default\n",
        "                 dropout_rate=0.5,  #To turn off certain units/parameters to avoid overfitting\n",
        "                 training=False,  #True if the network is in evaluation phase. Drop out will be applied only in training\n",
        "                 name=\"dcnn\"):  #A name for the network\n",
        "        super(DCNN, self).__init__(name=name)\n",
        "\n",
        "        self.embedding = layers.Embedding(vocab_size,\n",
        "                                          emb_dim)\n",
        "        self.bigram = layers.Conv1D(filters=nb_filters,\n",
        "                                    kernel_size=2,\n",
        "                                    padding=\"valid\",  #To add the zeros we need to performe the last convolutions\n",
        "                                    activation=\"relu\")\n",
        "        self.trigram = layers.Conv1D(filters=nb_filters,\n",
        "                                    kernel_size=3,\n",
        "                                    padding=\"valid\",  #To add the zeros we need to performe the last convolutions\n",
        "                                    activation=\"relu\")\n",
        "        self.fourgram = layers.Conv1D(filters=nb_filters,\n",
        "                                    kernel_size=4,\n",
        "                                    padding=\"valid\",  #To add the zeros we need to performe the last convolutions\n",
        "                                     activation=\"relu\")\n",
        "        self.pool = layers.GlobalMaxPool1D()  #We'll be using this layer for all pooling steps\n",
        "        self.dense_1 = layers.Dense(units=FFN_units, activation=\"relu\")\n",
        "        self.dropout = layers.Dropout(rate=dropout_rate)  #This is a good place to define dropout since dense_1 with create a lot of params\n",
        "        if nb_classes == 2:  #Easy way to handle multiclasses\n",
        "            self.last_dense = layers.Dense(units=1,\n",
        "                                           activation=\"sigmoid\")\n",
        "        else:\n",
        "            self.last_dense = layers.Dense(units=nb_classes,\n",
        "                                           activation=\"softmax\")\n",
        "    \n",
        "    def call(self, inputs, training):\n",
        "        x = self.embedding(inputs)\n",
        "        x_1 = self.bigram(x)\n",
        "        x_1 = self.pool(x_1)\n",
        "        x_2 = self.trigram(x)\n",
        "        x_2 = self.pool(x_2)\n",
        "        x_3 = self.fourgram(x)\n",
        "        x_3 = self.pool(x_3)\n",
        "\n",
        "        merged = tf.concat([x_1, x_2, x_3], axis=-1)  #(batch_size, 3 * nb_filters) 3 because we have 3 types of filters\n",
        "        merged = self.dense_1(merged)  #Staring the feedforward process\n",
        "        merged = self.dropout(merged, training)  #Applying dropout if training=True\n",
        "        output = self.last_dense(merged)  \n",
        "        \n",
        "        return output"
      ]
    },
    {
      "cell_type": "code",
      "execution_count": null,
      "metadata": {
        "id": "cEIrG89GdVhn"
      },
      "outputs": [],
      "source": [
        "#These are basicaly hyperparameters\n",
        "EMB_DIM = 200\n",
        "NB_FILTERS = 100\n",
        "FFN_UNITS = 256\n",
        "NB_CLASSES = 5\n",
        "\n",
        "DROPOUT_RATE = 0.5\n",
        "\n",
        "BATCH_SIZE = 16\n",
        "NB_EPOCHS = 5"
      ]
    },
    {
      "cell_type": "code",
      "execution_count": null,
      "metadata": {
        "id": "mE1xgVy5dZZV"
      },
      "outputs": [],
      "source": [
        "dcnn = DCNN(vocab_size=VOCAB_SIZE,\n",
        "            emb_dim=EMB_DIM,\n",
        "            nb_filters=NB_FILTERS,\n",
        "            FFN_units=FFN_UNITS,\n",
        "            nb_classes=NB_CLASSES,\n",
        "            dropout_rate=DROPOUT_RATE)\n",
        "     \n"
      ]
    },
    {
      "cell_type": "code",
      "execution_count": null,
      "metadata": {
        "id": "sfAzKfdvdiKH"
      },
      "outputs": [],
      "source": [
        "if NB_CLASSES == 2:\n",
        "    dcnn.compile(loss=\"binary_crossentropy\",  #Standard loss when doing a binary classification\n",
        "                 optimizer=\"adam\",\n",
        "                 metrics=[\"accuracy\"])\n",
        "else:\n",
        "    dcnn.compile(loss=\"sparse_categorical_crossentropy\",  #Standard loss when doing a multiclass classification\n",
        "                 optimizer=\"adam\",\n",
        "                 metrics=[\"sparse_categorical_accuracy\"])"
      ]
    },
    {
      "cell_type": "code",
      "execution_count": null,
      "metadata": {
        "colab": {
          "base_uri": "https://localhost:8080/"
        },
        "id": "20S41m1WdsUm",
        "outputId": "65604290-095e-4524-c8a7-970c2ec62cc9"
      },
      "outputs": [
        {
          "output_type": "stream",
          "name": "stdout",
          "text": [
            "Epoch 1/5\n",
            "1671/1671 [==============================] - 224s 133ms/step - loss: 0.2666 - sparse_categorical_accuracy: 0.9091\n",
            "Epoch 2/5\n",
            "1671/1671 [==============================] - 223s 134ms/step - loss: 0.1095 - sparse_categorical_accuracy: 0.9626\n",
            "Epoch 3/5\n",
            "1671/1671 [==============================] - 222s 133ms/step - loss: 0.0470 - sparse_categorical_accuracy: 0.9849\n",
            "Epoch 4/5\n",
            "1671/1671 [==============================] - 222s 133ms/step - loss: 0.0187 - sparse_categorical_accuracy: 0.9945\n",
            "Epoch 5/5\n",
            "1671/1671 [==============================] - 223s 133ms/step - loss: 0.0201 - sparse_categorical_accuracy: 0.9940\n"
          ]
        }
      ],
      "source": [
        "mod=dcnn.fit(X_train, \n",
        "         y_train,\n",
        "         batch_size=BATCH_SIZE,\n",
        "         epochs=NB_EPOCHS)\n"
      ]
    },
    {
      "cell_type": "code",
      "source": [
        "plt.figure(figsize=(15, 7))\n",
        "plt.plot(range(NB_EPOCHS),mod.history['loss'])\n",
        "plt.plot(range(NB_EPOCHS),mod.history['sparse_categorical_accuracy'])\n",
        "plt.legend(['training_loss', 'training_acc'])\n",
        "plt.title('Loss vs Accuracy')"
      ],
      "metadata": {
        "colab": {
          "base_uri": "https://localhost:8080/",
          "height": 550
        },
        "id": "PHBJuQ-3u2HV",
        "outputId": "581006b0-fa22-4535-a6a2-0aa922569f63"
      },
      "execution_count": null,
      "outputs": [
        {
          "output_type": "execute_result",
          "data": {
            "text/plain": [
              "Text(0.5, 1.0, 'Loss vs Accuracy')"
            ]
          },
          "metadata": {},
          "execution_count": 156
        },
        {
          "output_type": "display_data",
          "data": {
            "text/plain": [
              "<Figure size 1500x700 with 1 Axes>"
            ],
            "image/png": "[encoded data removed]"
          },
          "metadata": {}
        }
      ]
    },
    {
      "cell_type": "code",
      "source": [
        "plt.figure(figsize=(15, 7))\n",
        "plt.plot(range(NB_EPOCHS),mod.history['sparse_categorical_accuracy'])\n",
        "plt.plot(range(NB_EPOCHS),mod.history['valid_sparse_categorical_accuracy'])\n",
        "plt.legend(['training_acc', 'validation_acc'])\n",
        "plt.title('Accuracy')"
      ],
      "metadata": {
        "colab": {
          "base_uri": "https://localhost:8080/",
          "height": 750
        },
        "id": "Xzga64cnS-1l",
        "outputId": "96b35d99-cf87-4832-ba87-5ccdf1558776"
      },
      "execution_count": null,
      "outputs": [
        {
          "output_type": "error",
          "ename": "KeyError",
          "evalue": "ignored",
          "traceback": [
            "\u001b[0;31m---------------------------------------------------------------------------\u001b[0m",
            "\u001b[0;31mKeyError\u001b[0m                                  Traceback (most recent call last)",
            "\u001b[0;32m<ipython-input-154-80c5c2669ef4>\u001b[0m in \u001b[0;36m<cell line: 3>\u001b[0;34m()\u001b[0m\n\u001b[1;32m      1\u001b[0m \u001b[0mplt\u001b[0m\u001b[0;34m.\u001b[0m\u001b[0mfigure\u001b[0m\u001b[0;34m(\u001b[0m\u001b[0mfigsize\u001b[0m\u001b[0;34m=\u001b[0m\u001b[0;34m(\u001b[0m\u001b[0;36m15\u001b[0m\u001b[0;34m,\u001b[0m \u001b[0;36m7\u001b[0m\u001b[0;34m)\u001b[0m\u001b[0;34m)\u001b[0m\u001b[0;34m\u001b[0m\u001b[0;34m\u001b[0m\u001b[0m\n\u001b[1;32m      2\u001b[0m \u001b[0mplt\u001b[0m\u001b[0;34m.\u001b[0m\u001b[0mplot\u001b[0m\u001b[0;34m(\u001b[0m\u001b[0mrange\u001b[0m\u001b[0;34m(\u001b[0m\u001b[0mNB_EPOCHS\u001b[0m\u001b[0;34m)\u001b[0m\u001b[0;34m,\u001b[0m\u001b[0mmod\u001b[0m\u001b[0;34m.\u001b[0m\u001b[0mhistory\u001b[0m\u001b[0;34m[\u001b[0m\u001b[0;34m'sparse_categorical_accuracy'\u001b[0m\u001b[0;34m]\u001b[0m\u001b[0;34m)\u001b[0m\u001b[0;34m\u001b[0m\u001b[0;34m\u001b[0m\u001b[0m\n\u001b[0;32m----> 3\u001b[0;31m \u001b[0mplt\u001b[0m\u001b[0;34m.\u001b[0m\u001b[0mplot\u001b[0m\u001b[0;34m(\u001b[0m\u001b[0mrange\u001b[0m\u001b[0;34m(\u001b[0m\u001b[0mNB_EPOCHS\u001b[0m\u001b[0;34m)\u001b[0m\u001b[0;34m,\u001b[0m\u001b[0mmod\u001b[0m\u001b[0;34m.\u001b[0m\u001b[0mhistory\u001b[0m\u001b[0;34m[\u001b[0m\u001b[0;34m'valid_sparse_categorical_accuracy'\u001b[0m\u001b[0;34m]\u001b[0m\u001b[0;34m)\u001b[0m\u001b[0;34m\u001b[0m\u001b[0;34m\u001b[0m\u001b[0m\n\u001b[0m\u001b[1;32m      4\u001b[0m \u001b[0mplt\u001b[0m\u001b[0;34m.\u001b[0m\u001b[0mlegend\u001b[0m\u001b[0;34m(\u001b[0m\u001b[0;34m[\u001b[0m\u001b[0;34m'training_acc'\u001b[0m\u001b[0;34m,\u001b[0m \u001b[0;34m'validation_acc'\u001b[0m\u001b[0;34m]\u001b[0m\u001b[0;34m)\u001b[0m\u001b[0;34m\u001b[0m\u001b[0;34m\u001b[0m\u001b[0m\n\u001b[1;32m      5\u001b[0m \u001b[0mplt\u001b[0m\u001b[0;34m.\u001b[0m\u001b[0mtitle\u001b[0m\u001b[0;34m(\u001b[0m\u001b[0;34m'Accuracy'\u001b[0m\u001b[0;34m)\u001b[0m\u001b[0;34m\u001b[0m\u001b[0;34m\u001b[0m\u001b[0m\n",
            "\u001b[0;31mKeyError\u001b[0m: 'valid_sparse_categorical_accuracy'"
          ]
        },
        {
          "output_type": "display_data",
          "data": {
            "text/plain": [
              "<Figure size 1500x700 with 1 Axes>"
            ],
            "image/png": "[encoded data removed]"
          },
          "metadata": {}
        }
      ]
    },
    {
      "cell_type": "code",
      "execution_count": null,
      "metadata": {
        "colab": {
          "base_uri": "https://localhost:8080/"
        },
        "id": "VcFhcwfXdw03",
        "outputId": "f6702234-ea03-4ee6-9fa6-309450d9c934"
      },
      "outputs": [
        {
          "output_type": "stream",
          "name": "stdout",
          "text": [
            "1671/1671 [==============================] - 20s 12ms/step - loss: 0.0044 - sparse_categorical_accuracy: 0.9989\n",
            "Training acc: 0.9988772869110107\n",
            "464/464 [==============================] - 5s 11ms/step - loss: 0.3985 - sparse_categorical_accuracy: 0.9240\n",
            "Accuracy:  0.9240199327468872\n"
          ]
        }
      ],
      "source": [
        "loss,results = dcnn.evaluate(X_train, y_train, batch_size=BATCH_SIZE)\n",
        "print('Training acc:',results) \n",
        "loss,results = dcnn.evaluate(X_test, y_test, batch_size=BATCH_SIZE)\n",
        "print(\"Accuracy: \",results) "
      ]
    },
    {
      "cell_type": "code",
      "execution_count": null,
      "metadata": {
        "colab": {
          "base_uri": "https://localhost:8080/",
          "height": 527
        },
        "id": "LBjRHEqbqIow",
        "outputId": "5254e8dc-4d72-4c1c-c9a0-96ce41e06dd9"
      },
      "outputs": [
        {
          "data": {
            "image/png": "[encoded data removed]",
            "text/plain": [
              "<Figure size 1200x500 with 2 Axes>"
            ]
          },
          "metadata": {},
          "output_type": "display_data"
        }
      ],
      "source": [
        "import matplotlib.pyplot as plt\n",
        "plt.style.use('ggplot')\n",
        "\n",
        "def plot_history (history):\n",
        "  acc = history.history['sparse_categorical_accuracy']\n",
        "  val_acc = history.history['val_sparse_categorical_accuracy']\n",
        "  loss = history.history['loss']\n",
        "  val_loss = history.history['val_loss']\n",
        "  x = range(1, len(acc) + 1)\n",
        "\n",
        "  plt.figure (figsize=(12, 5))\n",
        "\n",
        "  plt.subplot (1, 2, 1)\n",
        "\n",
        "  plt.plot (x, acc, 'b', label='Training acc')\n",
        "\n",
        "  plt.plot (x, val_acc, 'r', label='Validation acc')\n",
        "  plt.title('Training and validation accuracy')\n",
        "  plt.legend()\n",
        "\n",
        "  plt.xlabel ('Epochs')\n",
        "\n",
        "  plt.ylabel ('Accuracy')\n",
        "  plt.subplot (1, 2, 2)\n",
        "\n",
        "  plt.plot(x, loss, 'b', label='Training loss')\n",
        "\n",
        "  plt.plot (x, val_loss, 'r', label='Validation loss')\n",
        "  plt.title('Training and validation loss')\n",
        "\n",
        "  plt.legend()\n",
        "\n",
        "  plt.xlabel ('Epochs')\n",
        "\n",
        "  plt.ylabel ('Loss')\n",
        "\n",
        "\n",
        "plot_history(history)\n",
        "\n",
        "\n",
        "\n"
      ]
    },
    {
      "cell_type": "markdown",
      "metadata": {
        "id": "eL9QrFv0bNOv"
      },
      "source": [
        "CNN WITH DIFF OPTIMIZATION FUNCTIONS"
      ]
    },
    {
      "cell_type": "code",
      "execution_count": null,
      "metadata": {
        "id": "uKEkFyUuaicQ"
      },
      "outputs": [],
      "source": [
        "class DCNN(tf.keras.Model):\n",
        "    \n",
        "    def __init__(self,\n",
        "                 vocab_size,  #Size of the vocabulary used. Will be given by the tokenizer\n",
        "                 emb_dim=128,  #128 is just an intuitive default value, it's used so ofter for embedding \n",
        "                 nb_filters=50,  #Number of times we want to apply each filter\n",
        "                 FFN_units=512,  #Number of units of the feedforward neural network at the end\n",
        "                 nb_classes=2,  #Binary classification as default\n",
        "                 dropout_rate=0.1,  #To turn off certain units/parameters to avoid overfitting\n",
        "                 training=False,  #True if the network is in evaluation phase. Drop out will be applied only in training\n",
        "                 name=\"dcnn\"):  #A name for the network\n",
        "        super(DCNN, self).__init__(name=name)\n",
        "\n",
        "        self.embedding = layers.Embedding(vocab_size,\n",
        "                                          emb_dim)\n",
        "        self.bigram = layers.Conv1D(filters=nb_filters,\n",
        "                                    kernel_size=2,\n",
        "                                    padding=\"valid\",  #To add the zeros we need to performe the last convolutions\n",
        "                                    activation=\"relu\")\n",
        "        self.trigram = layers.Conv1D(filters=nb_filters,\n",
        "                                    kernel_size=3,\n",
        "                                    padding=\"valid\",  #To add the zeros we need to performe the last convolutions\n",
        "                                    activation=\"relu\")\n",
        "        self.fourgram = layers.Conv1D(filters=nb_filters,\n",
        "                                    kernel_size=4,\n",
        "                                    padding=\"valid\",  #To add the zeros we need to performe the last convolutions\n",
        "                                     activation=\"relu\")\n",
        "        self.pool = layers.GlobalMaxPool1D()  #We'll be using this layer for all pooling steps\n",
        "        self.dense_1 = layers.Dense(units=FFN_units, activation=\"relu\")\n",
        "        self.dropout = layers.Dropout(rate=dropout_rate)  #This is a good place to define dropout since dense_1 with create a lot of params\n",
        "        if nb_classes == 2:  #Easy way to handle multiclasses\n",
        "            self.last_dense = layers.Dense(units=1,\n",
        "                                           activation=\"sigmoid\")\n",
        "        else:\n",
        "            self.last_dense = layers.Dense(units=nb_classes,\n",
        "                                           activation=\"softmax\")\n",
        "    \n",
        "    def call(self, inputs, training):\n",
        "        x = self.embedding(inputs)\n",
        "        x_1 = self.bigram(x)\n",
        "        x_1 = self.pool(x_1)\n",
        "        x_2 = self.trigram(x)\n",
        "        x_2 = self.pool(x_2)\n",
        "        x_3 = self.fourgram(x)\n",
        "        x_3 = self.pool(x_3)\n",
        "\n",
        "        merged = tf.concat([x_1, x_2, x_3], axis=-1)  #(batch_size, 3 * nb_filters) 3 because we have 3 types of filters\n",
        "        merged = self.dense_1(merged)  #Staring the feedforward process\n",
        "        merged = self.dropout(merged, training)  #Applying dropout if training=True\n",
        "        output = self.last_dense(merged)  \n",
        "        \n",
        "        return output\n",
        "\n",
        "#These are basicaly hyperparameters\n",
        "EMB_DIM = 200\n",
        "NB_FILTERS = 100\n",
        "FFN_UNITS = 256\n",
        "NB_CLASSES = 5\n",
        "\n",
        "DROPOUT_RATE = 0.5\n",
        "\n",
        "BATCH_SIZE = 16\n",
        "NB_EPOCHS = 5\n",
        "dcnn = DCNN(vocab_size=VOCAB_SIZE,\n",
        "            emb_dim=EMB_DIM,\n",
        "            nb_filters=NB_FILTERS,\n",
        "            FFN_units=FFN_UNITS,\n",
        "            nb_classes=NB_CLASSES,\n",
        "            dropout_rate=DROPOUT_RATE)\n",
        "\n",
        "if NB_CLASSES == 2:\n",
        "    dcnn.compile(loss=\"binary_crossentropy\",  #Standard loss when doing a binary classification\n",
        "                 optimizer=\"adam\",\n",
        "                 metrics=[\"accuracy\"])\n",
        "else:\n",
        "    dcnn.compile(loss=\"sparse_categorical_crossentropy\",  #Standard loss when doing a multiclass classification\n",
        "                 optimizer=\"adam\",\n",
        "                 metrics=[\"sparse_categorical_accuracy\"])\n",
        "     "
      ]
    },
    {
      "cell_type": "code",
      "execution_count": null,
      "metadata": {
        "colab": {
          "background_save": true,
          "base_uri": "https://localhost:8080/"
        },
        "id": "jfi-8MoocK1d",
        "outputId": "78aa24f7-105e-44fc-bac4-780eca6a8236"
      },
      "outputs": [
        {
          "name": "stdout",
          "output_type": "stream",
          "text": [
            "Epoch 1/5\n",
            "1671/1671 [==============================] - 39s 20ms/step - loss: 0.2697 - sparse_categorical_accuracy: 0.9070\n",
            "Epoch 2/5\n",
            "1671/1671 [==============================] - 14s 8ms/step - loss: 0.1123 - sparse_categorical_accuracy: 0.9622\n",
            "Epoch 3/5\n",
            "1671/1671 [==============================] - 14s 8ms/step - loss: 0.0470 - sparse_categorical_accuracy: 0.9855\n",
            "Epoch 4/5\n",
            "1671/1671 [==============================] - 13s 8ms/step - loss: 0.0217 - sparse_categorical_accuracy: 0.9928\n",
            "Epoch 5/5\n",
            "1671/1671 [==============================] - 12s 7ms/step - loss: 0.0155 - sparse_categorical_accuracy: 0.9952\n"
          ]
        },
        {
          "data": {
            "text/plain": [
              "<keras.callbacks.History at 0x7efc985fec70>"
            ]
          },
          "execution_count": 114,
          "metadata": {},
          "output_type": "execute_result"
        }
      ],
      "source": [
        "dcnn.fit(X_train, \n",
        "         y_train,\n",
        "         batch_size=BATCH_SIZE,\n",
        "         epochs=NB_EPOCHS)"
      ]
    },
    {
      "cell_type": "code",
      "execution_count": null,
      "metadata": {
        "id": "aj3YcQjrpIBr"
      },
      "outputs": [],
      "source": [
        "results = dcnn.evaluate(X_train, y_train, batch_size=BATCH_SIZE)\n",
        "print('Training acc:',results) "
      ]
    },
    {
      "cell_type": "code",
      "execution_count": null,
      "metadata": {
        "id": "Fxd1xWL4LL3F"
      },
      "outputs": [],
      "source": [
        "results = dcnn.evaluate(X_test, y_test, batch_size=BATCH_SIZE)\n",
        "print(results) "
      ]
    },
    {
      "cell_type": "code",
      "execution_count": null,
      "metadata": {
        "colab": {
          "base_uri": "https://localhost:8080/"
        },
        "id": "T48RhT-LSJAU",
        "outputId": "ace15058-3e06-49ad-de2c-bac3fbce5380"
      },
      "outputs": [
        {
          "name": "stdout",
          "output_type": "stream",
          "text": [
            "Epoch 1/2\n",
            "1671/1671 [==============================] - 39s 22ms/step - loss: 0.2470 - sparse_categorical_accuracy: 0.9144\n",
            "Epoch 2/2\n",
            "1671/1671 [==============================] - 13s 8ms/step - loss: 0.0937 - sparse_categorical_accuracy: 0.9666\n"
          ]
        },
        {
          "data": {
            "text/plain": [
              "<keras.callbacks.History at 0x7fa6707f9580>"
            ]
          },
          "execution_count": 188,
          "metadata": {},
          "output_type": "execute_result"
        }
      ],
      "source": [
        "class DCNN(tf.keras.Model):\n",
        "    \n",
        "    def __init__(self,\n",
        "                 vocab_size,  #Size of the vocabulary used. Will be given by the tokenizer\n",
        "                 emb_dim=128,  #128 is just an intuitive default value, it's used so ofter for embedding \n",
        "                 nb_filters=50,  #Number of times we want to apply each filter\n",
        "                 FFN_units=512,  #Number of units of the feedforward neural network at the end\n",
        "                 nb_classes=2,  #Binary classification as default\n",
        "                 dropout_rate=0.1,  #To turn off certain units/parameters to avoid overfitting\n",
        "                 training=False,  #True if the network is in evaluation phase. Drop out will be applied only in training\n",
        "                 name=\"dcnn\"):  #A name for the network\n",
        "        super(DCNN, self).__init__(name=name)\n",
        "\n",
        "        self.embedding = layers.Embedding(vocab_size,\n",
        "                                          emb_dim)\n",
        "        self.bigram = layers.Conv1D(filters=nb_filters,\n",
        "                                    kernel_size=2,\n",
        "                                    padding=\"valid\",  #To add the zeros we need to performe the last convolutions\n",
        "                                    activation=\"relu\")\n",
        "        self.trigram = layers.Conv1D(filters=nb_filters,\n",
        "                                    kernel_size=3,\n",
        "                                    padding=\"valid\",  #To add the zeros we need to performe the last convolutions\n",
        "                                    activation=\"relu\")\n",
        "        self.fourgram = layers.Conv1D(filters=nb_filters,\n",
        "                                    kernel_size=4,\n",
        "                                    padding=\"valid\",  #To add the zeros we need to performe the last convolutions\n",
        "                                     activation=\"relu\")\n",
        "        self.pool = layers.GlobalMaxPool1D()  #We'll be using this layer for all pooling steps\n",
        "        self.dense_1 = layers.Dense(units=FFN_units, activation=\"relu\")\n",
        "        self.dropout = layers.Dropout(rate=dropout_rate)  #This is a good place to define dropout since dense_1 with create a lot of params\n",
        "        if nb_classes == 2:  #Easy way to handle multiclasses\n",
        "            self.last_dense = layers.Dense(units=1,\n",
        "                                           activation=\"sigmoid\")\n",
        "        else:\n",
        "            self.last_dense = layers.Dense(units=nb_classes,\n",
        "                                           activation=\"softmax\")\n",
        "    \n",
        "    def call(self, inputs, training):\n",
        "        x = self.embedding(inputs)\n",
        "        x_1 = self.bigram(x)\n",
        "        x_1 = self.pool(x_1)\n",
        "        x_2 = self.trigram(x)\n",
        "        x_2 = self.pool(x_2)\n",
        "        x_3 = self.fourgram(x)\n",
        "        x_3 = self.pool(x_3)\n",
        "\n",
        "        merged = tf.concat([x_1, x_2, x_3], axis=-1)  #(batch_size, 3 * nb_filters) 3 because we have 3 types of filters\n",
        "        merged = self.dense_1(merged)  #Staring the feedforward process\n",
        "        merged = self.dropout(merged, training)  #Applying dropout if training=True\n",
        "        output = self.last_dense(merged)  \n",
        "        \n",
        "        return output\n",
        "\n",
        "#These are basicaly hyperparameters\n",
        "EMB_DIM = 200\n",
        "NB_FILTERS = 100\n",
        "FFN_UNITS = 256\n",
        "NB_CLASSES = 5\n",
        "\n",
        "DROPOUT_RATE = 0.1\n",
        "\n",
        "BATCH_SIZE = 16\n",
        "NB_EPOCHS = 2\n",
        "dcnn = DCNN(vocab_size=VOCAB_SIZE,\n",
        "            emb_dim=EMB_DIM,\n",
        "            nb_filters=NB_FILTERS,\n",
        "            FFN_units=FFN_UNITS,\n",
        "            nb_classes=NB_CLASSES,\n",
        "            dropout_rate=DROPOUT_RATE)\n",
        "\n",
        "if NB_CLASSES == 2:\n",
        "    dcnn.compile(loss=\"binary_crossentropy\",  #Standard loss when doing a binary classification\n",
        "                 optimizer=\"adam\",\n",
        "                 metrics=[\"accuracy\"])\n",
        "else:\n",
        "    dcnn.compile(loss=\"sparse_categorical_crossentropy\",  #Standard loss when doing a multiclass classification\n",
        "                 optimizer=\"adam\",\n",
        "                 metrics=[\"sparse_categorical_accuracy\"])\n",
        "\n",
        "dcnn.fit(X_train, \n",
        "         y_train,\n",
        "         batch_size=BATCH_SIZE,\n",
        "         epochs=NB_EPOCHS)\n",
        "     "
      ]
    },
    {
      "cell_type": "code",
      "execution_count": null,
      "metadata": {
        "colab": {
          "base_uri": "https://localhost:8080/"
        },
        "id": "LbWWlJ8Koa7r",
        "outputId": "4728a49b-8acf-49b8-b906-e8c3944d2038"
      },
      "outputs": [
        {
          "name": "stdout",
          "output_type": "stream",
          "text": [
            "1671/1671 [==============================] - 6s 3ms/step - loss: 0.0304 - sparse_categorical_accuracy: 0.9923\n",
            "[0.030401529744267464, 0.992253303527832]\n"
          ]
        }
      ],
      "source": [
        "results = dcnn.evaluate(X_train, y_train, batch_size=BATCH_SIZE)\n",
        "print(results) "
      ]
    },
    {
      "cell_type": "code",
      "execution_count": null,
      "metadata": {
        "colab": {
          "base_uri": "https://localhost:8080/"
        },
        "id": "6iGFp2JNT2xb",
        "outputId": "e722d2b0-0e1b-4541-ffad-67925da213b2"
      },
      "outputs": [
        {
          "name": "stdout",
          "output_type": "stream",
          "text": [
            "464/464 [==============================] - 6s 12ms/step - loss: 0.2137 - sparse_categorical_accuracy: 0.9295\n",
            "[0.21372291445732117, 0.9295433163642883]\n"
          ]
        }
      ],
      "source": [
        "results = dcnn.evaluate(X_test, y_test, batch_size=BATCH_SIZE)\n",
        "print(results) "
      ]
    },
    {
      "cell_type": "markdown",
      "metadata": {
        "id": "EBTXvwPgGVer"
      },
      "source": [
        "dropout=0.5, batch=32, epoch=5,adam"
      ]
    },
    {
      "cell_type": "code",
      "execution_count": null,
      "metadata": {
        "id": "KVKlXrSwcNk2"
      },
      "outputs": [],
      "source": [
        "class DCNN(tf.keras.Model):\n",
        "    \n",
        "    def __init__(self,\n",
        "                 vocab_size,  #Size of the vocabulary used. Will be given by the tokenizer\n",
        "                 emb_dim=128,  #128 is just an intuitive default value, it's used so ofter for embedding \n",
        "                 nb_filters=50,  #Number of times we want to apply each filter\n",
        "                 FFN_units=512,  #Number of units of the feedforward neural network at the end\n",
        "                 nb_classes=2,  #Binary classification as default\n",
        "                 dropout_rate=0.5,  #To turn off certain units/parameters to avoid overfitting\n",
        "                 training=False,  #True if the network is in evaluation phase. Drop out will be applied only in training\n",
        "                 name=\"dcnn\"):  #A name for the network\n",
        "        super(DCNN, self).__init__(name=name)\n",
        "\n",
        "        self.embedding = layers.Embedding(vocab_size,\n",
        "                                          emb_dim)\n",
        "        self.bigram = layers.Conv1D(filters=nb_filters,\n",
        "                                    kernel_size=2,\n",
        "                                    padding=\"valid\",  #To add the zeros we need to performe the last convolutions\n",
        "                                    activation=\"relu\")\n",
        "        self.trigram = layers.Conv1D(filters=nb_filters,\n",
        "                                    kernel_size=3,\n",
        "                                    padding=\"valid\",  #To add the zeros we need to performe the last convolutions\n",
        "                                    activation=\"relu\")\n",
        "        self.fourgram = layers.Conv1D(filters=nb_filters,\n",
        "                                    kernel_size=4,\n",
        "                                    padding=\"valid\",  #To add the zeros we need to performe the last convolutions\n",
        "                                     activation=\"relu\")\n",
        "        self.pool = layers.GlobalMaxPool1D()  #We'll be using this layer for all pooling steps\n",
        "        self.dense_1 = layers.Dense(units=FFN_units, activation=\"relu\")\n",
        "        self.dropout = layers.Dropout(rate=dropout_rate)  #This is a good place to define dropout since dense_1 with create a lot of params\n",
        "        if nb_classes == 2:  #Easy way to handle multiclasses\n",
        "            self.last_dense = layers.Dense(units=1,\n",
        "                                           activation=\"sigmoid\")\n",
        "        else:\n",
        "            self.last_dense = layers.Dense(units=nb_classes,\n",
        "                                           activation=\"softmax\")\n",
        "    \n",
        "    def call(self, inputs, training):\n",
        "        x = self.embedding(inputs)\n",
        "        x_1 = self.bigram(x)\n",
        "        x_1 = self.pool(x_1)\n",
        "        x_2 = self.trigram(x)\n",
        "        x_2 = self.pool(x_2)\n",
        "        x_3 = self.fourgram(x)\n",
        "        x_3 = self.pool(x_3)\n",
        "\n",
        "        merged = tf.concat([x_1, x_2, x_3], axis=-1)  #(batch_size, 3 * nb_filters) 3 because we have 3 types of filters\n",
        "        merged = self.dense_1(merged)  #Staring the feedforward process\n",
        "        merged = self.dropout(merged, training)  #Applying dropout if training=True\n",
        "        output = self.last_dense(merged)  \n",
        "        \n",
        "        return output\n",
        "\n",
        "#These are basicaly hyperparameters\n",
        "EMB_DIM = 200\n",
        "NB_FILTERS = 100\n",
        "FFN_UNITS = 256\n",
        "NB_CLASSES = 5\n",
        "\n",
        "DROPOUT_RATE = 0.5\n",
        "\n",
        "BATCH_SIZE = 32\n",
        "NB_EPOCHS = 5\n",
        "dcnn = DCNN(vocab_size=VOCAB_SIZE,\n",
        "            emb_dim=EMB_DIM,\n",
        "            nb_filters=NB_FILTERS,\n",
        "            FFN_units=FFN_UNITS,\n",
        "            nb_classes=NB_CLASSES,\n",
        "            dropout_rate=DROPOUT_RATE)\n",
        "\n",
        "if NB_CLASSES == 2:\n",
        "    dcnn.compile(loss=\"binary_crossentropy\",  #Standard loss when doing a binary classification\n",
        "                 optimizer=\"adam\",\n",
        "                 metrics=[\"accuracy\"])\n",
        "else:\n",
        "    dcnn.compile(loss=\"sparse_categorical_crossentropy\",  #Standard loss when doing a multiclass classification\n",
        "                 optimizer=\"adam\",\n",
        "                 metrics=[\"sparse_categorical_accuracy\"])\n",
        "     "
      ]
    },
    {
      "cell_type": "code",
      "execution_count": null,
      "metadata": {
        "colab": {
          "base_uri": "https://localhost:8080/"
        },
        "id": "f6fT5uscdZCG",
        "outputId": "47564fcf-f980-4a8d-933f-e58e32b7712d"
      },
      "outputs": [
        {
          "name": "stdout",
          "output_type": "stream",
          "text": [
            "Epoch 1/5\n",
            "836/836 [==============================] - 119s 141ms/step - loss: 0.2894 - sparse_categorical_accuracy: 0.9013\n",
            "Epoch 2/5\n",
            "836/836 [==============================] - 119s 143ms/step - loss: 0.1024 - sparse_categorical_accuracy: 0.9659\n",
            "Epoch 3/5\n",
            "836/836 [==============================] - 120s 143ms/step - loss: 0.0374 - sparse_categorical_accuracy: 0.9877\n",
            "Epoch 4/5\n",
            "836/836 [==============================] - 118s 141ms/step - loss: 0.0145 - sparse_categorical_accuracy: 0.9953\n",
            "Epoch 5/5\n",
            "836/836 [==============================] - 120s 143ms/step - loss: 0.0111 - sparse_categorical_accuracy: 0.9966\n"
          ]
        },
        {
          "data": {
            "text/plain": [
              "<keras.callbacks.History at 0x7f0c4723e730>"
            ]
          },
          "execution_count": 165,
          "metadata": {},
          "output_type": "execute_result"
        }
      ],
      "source": [
        "dcnn.fit(X_train, \n",
        "         y_train,\n",
        "         batch_size=BATCH_SIZE,\n",
        "         epochs=NB_EPOCHS)"
      ]
    },
    {
      "cell_type": "code",
      "execution_count": null,
      "metadata": {
        "colab": {
          "base_uri": "https://localhost:8080/"
        },
        "id": "4CdtTXhCXkAY",
        "outputId": "f37de1fe-3017-450e-a63c-81460980d2be"
      },
      "outputs": [
        {
          "name": "stdout",
          "output_type": "stream",
          "text": [
            "232/232 [==============================] - 5s 22ms/step - loss: 0.3749 - sparse_categorical_accuracy: 0.9256\n",
            "[0.37486255168914795, 0.9256365299224854]\n"
          ]
        }
      ],
      "source": [
        "results = dcnn.evaluate(X_test, y_test, batch_size=BATCH_SIZE)\n",
        "print(results) "
      ]
    },
    {
      "cell_type": "markdown",
      "metadata": {
        "id": "YIaEOnDOiemN"
      },
      "source": [
        "rmsprop optimizer, epoch=5, batch size=32, trigram, dropout=0.3\n"
      ]
    },
    {
      "cell_type": "code",
      "execution_count": null,
      "metadata": {
        "id": "sU3MTnZ7gmqz"
      },
      "outputs": [],
      "source": [
        "class DCNN(tf.keras.Model):\n",
        "    \n",
        "    def __init__(self,\n",
        "                 vocab_size,  #Size of the vocabulary used. Will be given by the tokenizer\n",
        "                 emb_dim=128,  #128 is just an intuitive default value, it's used so ofter for embedding \n",
        "                 nb_filters=50,  #Number of times we want to apply each filter\n",
        "                 FFN_units=512,  #Number of units of the feedforward neural network at the end\n",
        "                 nb_classes=2,  #Binary classification as default\n",
        "                 dropout_rate=0.3,  #To turn off certain units/parameters to avoid overfitting\n",
        "                 training=False,  #True if the network is in evaluation phase. Drop out will be applied only in training\n",
        "                 name=\"dcnn\"):  #A name for the network\n",
        "        super(DCNN, self).__init__(name=name)\n",
        "\n",
        "        self.embedding = layers.Embedding(vocab_size,\n",
        "                                          emb_dim)\n",
        "        \n",
        "        self.trigram = layers.Conv1D(filters=nb_filters,\n",
        "                                    kernel_size=3,\n",
        "                                    padding=\"valid\",  #To add the zeros we need to performe the last convolutions\n",
        "                                    activation=\"relu\")\n",
        "        self.pool = layers.GlobalMaxPool1D()  #We'll be using this layer for all pooling steps\n",
        "        self.dense_1 = layers.Dense(units=FFN_units, activation=\"relu\")\n",
        "        self.dropout = layers.Dropout(rate=dropout_rate)  #This is a good place to define dropout since dense_1 with create a lot of params\n",
        "        if nb_classes == 2:  #Easy way to handle multiclasses\n",
        "            self.last_dense = layers.Dense(units=1,\n",
        "                                           activation=\"sigmoid\")\n",
        "        else:\n",
        "            self.last_dense = layers.Dense(units=nb_classes,\n",
        "                                           activation=\"softmax\")\n",
        "    \n",
        "    def call(self, inputs, training):\n",
        "        x = self.embedding(inputs)\n",
        "        x_2 = self.trigram(x)\n",
        "        x_2 = self.pool(x_2)\n",
        "\n",
        "        merged = tf.concat([x_2], axis=-1)  #(batch_size, 3 * nb_filters) 3 because we have 3 types of filters\n",
        "        merged = self.dense_1(merged)  #Staring the feedforward process\n",
        "        merged = self.dropout(merged, training)  #Applying dropout if training=True\n",
        "        output = self.last_dense(merged)  \n",
        "        \n",
        "        return output\n",
        "\n",
        "#These are basicaly hyperparameters\n",
        "EMB_DIM = 200\n",
        "NB_FILTERS = 100\n",
        "FFN_UNITS = 256\n",
        "NB_CLASSES = 5\n",
        "\n",
        "DROPOUT_RATE = 0.3\n",
        "\n",
        "BATCH_SIZE = 32\n",
        "NB_EPOCHS = 5\n",
        "dcnn = DCNN(vocab_size=VOCAB_SIZE,\n",
        "            emb_dim=EMB_DIM,\n",
        "            nb_filters=NB_FILTERS,\n",
        "            FFN_units=FFN_UNITS,\n",
        "            nb_classes=NB_CLASSES,\n",
        "            dropout_rate=DROPOUT_RATE)\n",
        "\n",
        "if NB_CLASSES == 2:\n",
        "    dcnn.compile(loss=\"binary_crossentropy\",  #Standard loss when doing a binary classification\n",
        "                 optimizer=\"rmsprop\",\n",
        "                 metrics=[\"accuracy\"])\n",
        "else:\n",
        "    dcnn.compile(loss=\"sparse_categorical_crossentropy\",  #Standard loss when doing a multiclass classification\n",
        "                 optimizer=\"rmsprop\",\n",
        "                 metrics=[\"sparse_categorical_accuracy\"])\n",
        "     "
      ]
    },
    {
      "cell_type": "code",
      "execution_count": null,
      "metadata": {
        "colab": {
          "base_uri": "https://localhost:8080/"
        },
        "id": "F9xIyka0inOu",
        "outputId": "0fd8f644-7492-4f4e-b1d2-b07b9672deab"
      },
      "outputs": [
        {
          "name": "stdout",
          "output_type": "stream",
          "text": [
            "Epoch 1/5\n",
            "928/928 [==============================] - 35s 37ms/step - loss: 0.2730 - sparse_categorical_accuracy: 0.9077\n",
            "Epoch 2/5\n",
            "928/928 [==============================] - 33s 36ms/step - loss: 0.1531 - sparse_categorical_accuracy: 0.9460\n",
            "Epoch 3/5\n",
            "928/928 [==============================] - 31s 34ms/step - loss: 0.0968 - sparse_categorical_accuracy: 0.9678\n",
            "Epoch 4/5\n",
            "928/928 [==============================] - 34s 36ms/step - loss: 0.0528 - sparse_categorical_accuracy: 0.9832\n",
            "Epoch 5/5\n",
            "928/928 [==============================] - 31s 33ms/step - loss: 0.0217 - sparse_categorical_accuracy: 0.9938\n"
          ]
        },
        {
          "data": {
            "text/plain": [
              "<keras.callbacks.History at 0x7f0da219b100>"
            ]
          },
          "execution_count": 103,
          "metadata": {},
          "output_type": "execute_result"
        }
      ],
      "source": [
        "dcnn.fit(X_train, \n",
        "         y_train,\n",
        "         batch_size=BATCH_SIZE,\n",
        "         epochs=NB_EPOCHS)"
      ]
    },
    {
      "cell_type": "code",
      "execution_count": null,
      "metadata": {
        "colab": {
          "base_uri": "https://localhost:8080/"
        },
        "id": "SM5Iy1yX2k2l",
        "outputId": "50e7b553-2a91-41fe-9f5d-3a155698a8ee"
      },
      "outputs": [
        {
          "name": "stdout",
          "output_type": "stream",
          "text": [
            "232/232 [==============================] - 2s 7ms/step - loss: 0.3173 - sparse_categorical_accuracy: 0.9295\n",
            "[0.31725603342056274, 0.9295433163642883]\n"
          ]
        }
      ],
      "source": [
        "results = dcnn.evaluate(X_test, y_test, batch_size=BATCH_SIZE)\n",
        "print(results) "
      ]
    },
    {
      "cell_type": "markdown",
      "metadata": {
        "id": "ygC5qckAFxRH"
      },
      "source": [
        "dropout=0.1, batchsize=16, epoch=2, rmsprop, trigram"
      ]
    },
    {
      "cell_type": "code",
      "execution_count": null,
      "metadata": {
        "id": "s6h8rF3Qnhih"
      },
      "outputs": [],
      "source": [
        "class DCNN(tf.keras.Model):\n",
        "    \n",
        "    def __init__(self,\n",
        "                 vocab_size,  #Size of the vocabulary used. Will be given by the tokenizer\n",
        "                 emb_dim=128,  #128 is just an intuitive default value, it's used so ofter for embedding \n",
        "                 nb_filters=50,  #Number of times we want to apply each filter\n",
        "                 FFN_units=512,  #Number of units of the feedforward neural network at the end\n",
        "                 nb_classes=2,  #Binary classification as default\n",
        "                 dropout_rate=0.1,  #To turn off certain units/parameters to avoid overfitting\n",
        "                 training=False,  #True if the network is in evaluation phase. Drop out will be applied only in training\n",
        "                 name=\"dcnn\"):  #A name for the network\n",
        "        super(DCNN, self).__init__(name=name)\n",
        "\n",
        "        self.embedding = layers.Embedding(vocab_size,\n",
        "                                          emb_dim)\n",
        "        \n",
        "        self.trigram = layers.Conv1D(filters=nb_filters,\n",
        "                                    kernel_size=3,\n",
        "                                    padding=\"valid\",  #To add the zeros we need to performe the last convolutions\n",
        "                                    activation=\"relu\")\n",
        "        self.pool = layers.GlobalMaxPool1D()  #We'll be using this layer for all pooling steps\n",
        "        self.dense_1 = layers.Dense(units=FFN_units, activation=\"relu\")\n",
        "        self.dropout = layers.Dropout(rate=dropout_rate)  #This is a good place to define dropout since dense_1 with create a lot of params\n",
        "        if nb_classes == 2:  #Easy way to handle multiclasses\n",
        "            self.last_dense = layers.Dense(units=1,\n",
        "                                           activation=\"sigmoid\")\n",
        "        else:\n",
        "            self.last_dense = layers.Dense(units=nb_classes,\n",
        "                                           activation=\"softmax\")\n",
        "    \n",
        "    def call(self, inputs, training):\n",
        "        x = self.embedding(inputs)\n",
        "        x_2 = self.trigram(x)\n",
        "        x_2 = self.pool(x_2)\n",
        "\n",
        "        merged = tf.concat([x_2], axis=-1)  #(batch_size, 3 * nb_filters) 3 because we have 3 types of filters\n",
        "        merged = self.dense_1(merged)  #Staring the feedforward process\n",
        "        merged = self.dropout(merged, training)  #Applying dropout if training=True\n",
        "        output = self.last_dense(merged)  \n",
        "        \n",
        "        return output\n",
        "\n",
        "#These are basicaly hyperparameters\n",
        "EMB_DIM = 200\n",
        "NB_FILTERS = 100\n",
        "FFN_UNITS = 256\n",
        "NB_CLASSES = 5\n",
        "\n",
        "DROPOUT_RATE = 0.1\n",
        "\n",
        "BATCH_SIZE = 16\n",
        "NB_EPOCHS = 2\n",
        "dcnn = DCNN(vocab_size=VOCAB_SIZE,\n",
        "            emb_dim=EMB_DIM,\n",
        "            nb_filters=NB_FILTERS,\n",
        "            FFN_units=FFN_UNITS,\n",
        "            nb_classes=NB_CLASSES,\n",
        "            dropout_rate=DROPOUT_RATE)\n",
        "\n",
        "if NB_CLASSES == 2:\n",
        "    dcnn.compile(loss=\"binary_crossentropy\",  #Standard loss when doing a binary classification\n",
        "                 optimizer=\"rmsprop\",\n",
        "                 metrics=[\"accuracy\"])\n",
        "else:\n",
        "    dcnn.compile(loss=\"sparse_categorical_crossentropy\",  #Standard loss when doing a multiclass classification\n",
        "                 optimizer=\"rmsprop\",\n",
        "                 metrics=[\"sparse_categorical_accuracy\"])\n",
        "     "
      ]
    },
    {
      "cell_type": "code",
      "execution_count": null,
      "metadata": {
        "colab": {
          "base_uri": "https://localhost:8080/"
        },
        "id": "C5WopIKR_zLj",
        "outputId": "1059f198-348d-4ff9-ec4b-6c992280071b"
      },
      "outputs": [
        {
          "name": "stdout",
          "output_type": "stream",
          "text": [
            "Epoch 1/2\n",
            "1671/1671 [==============================] - 60s 36ms/step - loss: 0.2541 - sparse_categorical_accuracy: 0.9139\n",
            "Epoch 2/2\n",
            "1671/1671 [==============================] - 58s 35ms/step - loss: 0.1645 - sparse_categorical_accuracy: 0.9438\n"
          ]
        },
        {
          "data": {
            "text/plain": [
              "<keras.callbacks.History at 0x7f0c37a57910>"
            ]
          },
          "execution_count": 133,
          "metadata": {},
          "output_type": "execute_result"
        }
      ],
      "source": [
        "dcnn.fit(X_train, \n",
        "         y_train,\n",
        "         batch_size=BATCH_SIZE,\n",
        "         epochs=NB_EPOCHS)"
      ]
    },
    {
      "cell_type": "markdown",
      "metadata": {
        "id": "ZhqcJkGUFrIG"
      },
      "source": [
        "batchsize=32, dropout=0.1, rmsprop"
      ]
    },
    {
      "cell_type": "code",
      "execution_count": null,
      "metadata": {
        "id": "yvJjCxQjABP_"
      },
      "outputs": [],
      "source": [
        "class DCNN(tf.keras.Model):\n",
        "    \n",
        "    def __init__(self,\n",
        "                 vocab_size,  #Size of the vocabulary used. Will be given by the tokenizer\n",
        "                 emb_dim=128,  #128 is just an intuitive default value, it's used so ofter for embedding \n",
        "                 nb_filters=50,  #Number of times we want to apply each filter\n",
        "                 FFN_units=512,  #Number of units of the feedforward neural network at the end\n",
        "                 nb_classes=2,  #Binary classification as default\n",
        "                 dropout_rate=0.1,  #To turn off certain units/parameters to avoid overfitting\n",
        "                 training=False,  #True if the network is in evaluation phase. Drop out will be applied only in training\n",
        "                 name=\"dcnn\"):  #A name for the network\n",
        "        super(DCNN, self).__init__(name=name)\n",
        "\n",
        "        self.embedding = layers.Embedding(vocab_size,\n",
        "                                          emb_dim)\n",
        "        \n",
        "        self.trigram = layers.Conv1D(filters=nb_filters,\n",
        "                                    kernel_size=3,\n",
        "                                    padding=\"valid\",  #To add the zeros we need to performe the last convolutions\n",
        "                                    activation=\"relu\")\n",
        "        self.pool = layers.GlobalMaxPool1D()  #We'll be using this layer for all pooling steps\n",
        "        self.dense_1 = layers.Dense(units=FFN_units, activation=\"relu\")\n",
        "        self.dropout = layers.Dropout(rate=dropout_rate)  #This is a good place to define dropout since dense_1 with create a lot of params\n",
        "        if nb_classes == 2:  #Easy way to handle multiclasses\n",
        "            self.last_dense = layers.Dense(units=1,\n",
        "                                           activation=\"sigmoid\")\n",
        "        else:\n",
        "            self.last_dense = layers.Dense(units=nb_classes,\n",
        "                                           activation=\"softmax\")\n",
        "    \n",
        "    def call(self, inputs, training):\n",
        "        x = self.embedding(inputs)\n",
        "        x_2 = self.trigram(x)\n",
        "        x_2 = self.pool(x_2)\n",
        "\n",
        "        merged = tf.concat([x_2], axis=-1)  #(batch_size, 3 * nb_filters) 3 because we have 3 types of filters\n",
        "        merged = self.dense_1(merged)  #Staring the feedforward process\n",
        "        merged = self.dropout(merged, training)  #Applying dropout if training=True\n",
        "        output = self.last_dense(merged)  \n",
        "        \n",
        "        return output\n",
        "\n",
        "#These are basicaly hyperparameters\n",
        "EMB_DIM = 200\n",
        "NB_FILTERS = 100\n",
        "FFN_UNITS = 256\n",
        "NB_CLASSES = 5\n",
        "\n",
        "DROPOUT_RATE = 0.1\n",
        "\n",
        "BATCH_SIZE = 32\n",
        "NB_EPOCHS = 2\n",
        "dcnn = DCNN(vocab_size=VOCAB_SIZE,\n",
        "            emb_dim=EMB_DIM,\n",
        "            nb_filters=NB_FILTERS,\n",
        "            FFN_units=FFN_UNITS,\n",
        "            nb_classes=NB_CLASSES,\n",
        "            dropout_rate=DROPOUT_RATE)\n",
        "\n",
        "if NB_CLASSES == 2:\n",
        "    dcnn.compile(loss=\"binary_crossentropy\",  #Standard loss when doing a binary classification\n",
        "                 optimizer=\"rmsprop\",\n",
        "                 metrics=[\"accuracy\"])\n",
        "else:\n",
        "    dcnn.compile(loss=\"sparse_categorical_crossentropy\",  #Standard loss when doing a multiclass classification\n",
        "                 optimizer=\"rmsprop\",\n",
        "                 metrics=[\"sparse_categorical_accuracy\"])\n",
        "     "
      ]
    },
    {
      "cell_type": "code",
      "execution_count": null,
      "metadata": {
        "colab": {
          "base_uri": "https://localhost:8080/"
        },
        "id": "fHO0yh0xEd1O",
        "outputId": "733e186c-28e8-4715-a0f2-433ca9ab5613"
      },
      "outputs": [
        {
          "name": "stdout",
          "output_type": "stream",
          "text": [
            "Epoch 1/2\n",
            "836/836 [==============================] - 41s 47ms/step - loss: 0.2651 - sparse_categorical_accuracy: 0.9114\n",
            "Epoch 2/2\n",
            "836/836 [==============================] - 41s 49ms/step - loss: 0.1532 - sparse_categorical_accuracy: 0.9459\n"
          ]
        },
        {
          "data": {
            "text/plain": [
              "<keras.callbacks.History at 0x7f0c37935e20>"
            ]
          },
          "execution_count": 135,
          "metadata": {},
          "output_type": "execute_result"
        }
      ],
      "source": [
        "dcnn.fit(X_train, \n",
        "         y_train,\n",
        "         batch_size=BATCH_SIZE,\n",
        "         epochs=NB_EPOCHS)"
      ]
    },
    {
      "cell_type": "markdown",
      "metadata": {
        "id": "P2YCPCXVGFXX"
      },
      "source": [
        "dropout=0.1, batch=32, epoch=2, rmsprop, merged-bigram,trigram,fourgram"
      ]
    },
    {
      "cell_type": "code",
      "execution_count": null,
      "metadata": {
        "id": "z1CaZJehEgyr"
      },
      "outputs": [],
      "source": [
        "class DCNN(tf.keras.Model):\n",
        "    \n",
        "    def __init__(self,\n",
        "                 vocab_size,  #Size of the vocabulary used. Will be given by the tokenizer\n",
        "                 emb_dim=128,  #128 is just an intuitive default value, it's used so ofter for embedding \n",
        "                 nb_filters=50,  #Number of times we want to apply each filter\n",
        "                 FFN_units=512,  #Number of units of the feedforward neural network at the end\n",
        "                 nb_classes=2,  #Binary classification as default\n",
        "                 dropout_rate=0.1,  #To turn off certain units/parameters to avoid overfitting\n",
        "                 training=False,  #True if the network is in evaluation phase. Drop out will be applied only in training\n",
        "                 name=\"dcnn\"):  #A name for the network\n",
        "        super(DCNN, self).__init__(name=name)\n",
        "\n",
        "        self.embedding = layers.Embedding(vocab_size,\n",
        "                                          emb_dim)\n",
        "        \n",
        "        self.bigram = layers.Conv1D(filters=nb_filters,\n",
        "                                    kernel_size=2,\n",
        "                                    padding=\"valid\",  #To add the zeros we need to performe the last convolutions\n",
        "                                    activation=\"relu\")\n",
        "        self.trigram = layers.Conv1D(filters=nb_filters,\n",
        "                                    kernel_size=3,\n",
        "                                    padding=\"valid\",  #To add the zeros we need to performe the last convolutions\n",
        "                                    activation=\"relu\")\n",
        "        self.fourgram = layers.Conv1D(filters=nb_filters,\n",
        "                                    kernel_size=4,\n",
        "                                    padding=\"valid\",  #To add the zeros we need to performe the last convolutions\n",
        "                                     activation=\"relu\")\n",
        "        self.pool = layers.GlobalMaxPool1D()  #We'll be using this layer for all pooling steps\n",
        "        self.dense_1 = layers.Dense(units=FFN_units, activation=\"relu\")\n",
        "        self.dropout = layers.Dropout(rate=dropout_rate)  #This is a good place to define dropout since dense_1 with create a lot of params\n",
        "        if nb_classes == 2:  #Easy way to handle multiclasses\n",
        "            self.last_dense = layers.Dense(units=1,\n",
        "                                           activation=\"sigmoid\")\n",
        "        else:\n",
        "            self.last_dense = layers.Dense(units=nb_classes,\n",
        "                                           activation=\"softmax\")\n",
        "    \n",
        "    def call(self, inputs, training):\n",
        "        x = self.embedding(inputs)\n",
        "        x_1 = self.bigram(x)\n",
        "        x_1 = self.pool(x_1)\n",
        "        x_2 = self.trigram(x)\n",
        "        x_2 = self.pool(x_2)\n",
        "        x_3 = self.fourgram(x)\n",
        "        x_3 = self.pool(x_3)\n",
        "\n",
        "        merged = tf.concat([x_1, x_2, x_3], axis=-1) \n",
        "\n",
        "        #merged = tf.concat([x_2], axis=-1)  #(batch_size, 3 * nb_filters) 3 because we have 3 types of filters\n",
        "        merged = self.dense_1(merged)  #Staring the feedforward process\n",
        "        merged = self.dropout(merged, training)  #Applying dropout if training=True\n",
        "        output = self.last_dense(merged)  \n",
        "        \n",
        "        return output\n",
        "\n",
        "#These are basicaly hyperparameters\n",
        "EMB_DIM = 200\n",
        "NB_FILTERS = 100\n",
        "FFN_UNITS = 256\n",
        "NB_CLASSES = 5\n",
        "\n",
        "DROPOUT_RATE = 0.1\n",
        "\n",
        "BATCH_SIZE = 32\n",
        "NB_EPOCHS = 5\n",
        "dcnn = DCNN(vocab_size=VOCAB_SIZE,\n",
        "            emb_dim=EMB_DIM,\n",
        "            nb_filters=NB_FILTERS,\n",
        "            FFN_units=FFN_UNITS,\n",
        "            nb_classes=NB_CLASSES,\n",
        "            dropout_rate=DROPOUT_RATE)\n",
        "\n",
        "if NB_CLASSES == 2:\n",
        "    dcnn.compile(loss=\"binary_crossentropy\",  #Standard loss when doing a binary classification\n",
        "                 optimizer=\"rmsprop\",\n",
        "                 metrics=[\"accuracy\"])\n",
        "else:\n",
        "    dcnn.compile(loss=\"sparse_categorical_crossentropy\",  #Standard loss when doing a multiclass classification\n",
        "                 optimizer=\"rmsprop\",\n",
        "                 metrics=[\"sparse_categorical_accuracy\"])\n",
        "     "
      ]
    },
    {
      "cell_type": "code",
      "execution_count": null,
      "metadata": {
        "colab": {
          "base_uri": "https://localhost:8080/"
        },
        "id": "Vzof8uTrGhHp",
        "outputId": "02f34bf0-ee57-4f33-f6da-f0809dac7f01"
      },
      "outputs": [
        {
          "name": "stdout",
          "output_type": "stream",
          "text": [
            "Epoch 1/5\n",
            "928/928 [==============================] - 72s 76ms/step - loss: 0.2552 - sparse_categorical_accuracy: 0.9131\n",
            "Epoch 2/5\n",
            "928/928 [==============================] - 70s 75ms/step - loss: 0.1424 - sparse_categorical_accuracy: 0.9507\n",
            "Epoch 3/5\n",
            "928/928 [==============================] - 71s 76ms/step - loss: 0.0842 - sparse_categorical_accuracy: 0.9720\n",
            "Epoch 4/5\n",
            "928/928 [==============================] - 69s 75ms/step - loss: 0.0366 - sparse_categorical_accuracy: 0.9886\n",
            "Epoch 5/5\n",
            "928/928 [==============================] - 70s 76ms/step - loss: 0.0144 - sparse_categorical_accuracy: 0.9956\n"
          ]
        },
        {
          "data": {
            "text/plain": [
              "<keras.callbacks.History at 0x7f0da1e631c0>"
            ]
          },
          "execution_count": 110,
          "metadata": {},
          "output_type": "execute_result"
        }
      ],
      "source": [
        "dcnn.fit(X_train, \n",
        "         y_train,\n",
        "         batch_size=BATCH_SIZE,\n",
        "         epochs=NB_EPOCHS)"
      ]
    },
    {
      "cell_type": "code",
      "execution_count": null,
      "metadata": {
        "colab": {
          "base_uri": "https://localhost:8080/"
        },
        "id": "DGt7ZLmkLV1t",
        "outputId": "45ac12a8-00bf-4003-8290-3ebccef0696a"
      },
      "outputs": [
        {
          "name": "stdout",
          "output_type": "stream",
          "text": [
            "232/232 [==============================] - 5s 21ms/step - loss: 0.3601 - sparse_categorical_accuracy: 0.9330\n",
            "[0.36011409759521484, 0.9330459237098694]\n"
          ]
        }
      ],
      "source": [
        "results = dcnn.evaluate(X_test, y_test, batch_size=32)\n",
        "print(results) "
      ]
    },
    {
      "cell_type": "markdown",
      "metadata": {
        "id": "pyuktAXyHswL"
      },
      "source": [
        "ADAMAX OPTIMIZER"
      ]
    },
    {
      "cell_type": "code",
      "execution_count": null,
      "metadata": {
        "id": "6iQoO_VwGjTn"
      },
      "outputs": [],
      "source": [
        "class DCNN(tf.keras.Model):\n",
        "    \n",
        "    def __init__(self,\n",
        "                 vocab_size,  #Size of the vocabulary used. Will be given by the tokenizer\n",
        "                 emb_dim=128,  #128 is just an intuitive default value, it's used so ofter for embedding \n",
        "                 nb_filters=50,  #Number of times we want to apply each filter\n",
        "                 FFN_units=512,  #Number of units of the feedforward neural network at the end\n",
        "                 nb_classes=2,  #Binary classification as default\n",
        "                 dropout_rate=0.1,  #To turn off certain units/parameters to avoid overfitting\n",
        "                 training=False,  #True if the network is in evaluation phase. Drop out will be applied only in training\n",
        "                 name=\"dcnn\"):  #A name for the network\n",
        "        super(DCNN, self).__init__(name=name)\n",
        "\n",
        "        self.embedding = layers.Embedding(vocab_size,\n",
        "                                          emb_dim)\n",
        "        \n",
        "        self.bigram = layers.Conv1D(filters=nb_filters,\n",
        "                                    kernel_size=2,\n",
        "                                    padding=\"valid\",  #To add the zeros we need to performe the last convolutions\n",
        "                                    activation=\"relu\")\n",
        "        self.trigram = layers.Conv1D(filters=nb_filters,\n",
        "                                    kernel_size=3,\n",
        "                                    padding=\"valid\",  #To add the zeros we need to performe the last convolutions\n",
        "                                    activation=\"relu\")\n",
        "        self.fourgram = layers.Conv1D(filters=nb_filters,\n",
        "                                    kernel_size=4,\n",
        "                                    padding=\"valid\",  #To add the zeros we need to performe the last convolutions\n",
        "                                     activation=\"relu\")\n",
        "        self.pool = layers.GlobalMaxPool1D()  #We'll be using this layer for all pooling steps\n",
        "        self.dense_1 = layers.Dense(units=FFN_units, activation=\"relu\")\n",
        "        self.dropout = layers.Dropout(rate=dropout_rate)  #This is a good place to define dropout since dense_1 with create a lot of params\n",
        "        if nb_classes == 2:  #Easy way to handle multiclasses\n",
        "            self.last_dense = layers.Dense(units=1,\n",
        "                                           activation=\"sigmoid\")\n",
        "        else:\n",
        "            self.last_dense = layers.Dense(units=nb_classes,\n",
        "                                           activation=\"softmax\")\n",
        "    \n",
        "    def call(self, inputs, training):\n",
        "        x = self.embedding(inputs)\n",
        "        x_1 = self.bigram(x)\n",
        "        x_1 = self.pool(x_1)\n",
        "        x_2 = self.trigram(x)\n",
        "        x_2 = self.pool(x_2)\n",
        "        x_3 = self.fourgram(x)\n",
        "        x_3 = self.pool(x_3)\n",
        "\n",
        "        merged = tf.concat([x_1, x_2, x_3], axis=-1) \n",
        "\n",
        "        #merged = tf.concat([x_2], axis=-1)  #(batch_size, 3 * nb_filters) 3 because we have 3 types of filters\n",
        "        merged = self.dense_1(merged)  #Staring the feedforward process\n",
        "        merged = self.dropout(merged, training)  #Applying dropout if training=True\n",
        "        output = self.last_dense(merged)  \n",
        "        \n",
        "        return output\n",
        "\n",
        "#These are basicaly hyperparameters\n",
        "EMB_DIM = 200\n",
        "NB_FILTERS = 100\n",
        "FFN_UNITS = 256\n",
        "NB_CLASSES = 5\n",
        "\n",
        "DROPOUT_RATE = 0.1\n",
        "\n",
        "BATCH_SIZE = 16\n",
        "NB_EPOCHS = 2\n",
        "dcnn = DCNN(vocab_size=VOCAB_SIZE,\n",
        "            emb_dim=EMB_DIM,\n",
        "            nb_filters=NB_FILTERS,\n",
        "            FFN_units=FFN_UNITS,\n",
        "            nb_classes=NB_CLASSES,\n",
        "            dropout_rate=DROPOUT_RATE)\n",
        "\n",
        "if NB_CLASSES == 2:\n",
        "    dcnn.compile(loss=\"binary_crossentropy\",  #Standard loss when doing a binary classification\n",
        "                 optimizer=\"adamax\",\n",
        "                 metrics=[\"accuracy\"])\n",
        "else:\n",
        "    dcnn.compile(loss=\"sparse_categorical_crossentropy\",  #Standard loss when doing a multiclass classification\n",
        "                 optimizer=\"adamax\",\n",
        "                 metrics=[\"sparse_categorical_accuracy\"])\n",
        "     "
      ]
    },
    {
      "cell_type": "code",
      "execution_count": null,
      "metadata": {
        "colab": {
          "base_uri": "https://localhost:8080/"
        },
        "id": "t_rUwrPAHZcD",
        "outputId": "c2026afb-45ba-4e25-bcc4-ef0de530f119"
      },
      "outputs": [
        {
          "name": "stdout",
          "output_type": "stream",
          "text": [
            "Epoch 1/2\n",
            "1671/1671 [==============================] - 76s 45ms/step - loss: 0.3150 - sparse_categorical_accuracy: 0.8954\n",
            "Epoch 2/2\n",
            "1671/1671 [==============================] - 73s 44ms/step - loss: 0.1671 - sparse_categorical_accuracy: 0.9408\n"
          ]
        },
        {
          "data": {
            "text/plain": [
              "<keras.callbacks.History at 0x7f0c4b8fe730>"
            ]
          },
          "execution_count": 156,
          "metadata": {},
          "output_type": "execute_result"
        }
      ],
      "source": [
        "dcnn.fit(X_train, \n",
        "         y_train,\n",
        "         batch_size=BATCH_SIZE,\n",
        "         epochs=NB_EPOCHS)"
      ]
    },
    {
      "cell_type": "code",
      "execution_count": null,
      "metadata": {
        "colab": {
          "base_uri": "https://localhost:8080/"
        },
        "id": "ntVMJOBkLXVI",
        "outputId": "1dc060ac-ef6e-4828-8906-73051313f71c"
      },
      "outputs": [
        {
          "name": "stdout",
          "output_type": "stream",
          "text": [
            "464/464 [==============================] - 6s 12ms/step - loss: 0.1969 - sparse_categorical_accuracy: 0.9281\n",
            "[0.1968829482793808, 0.9280614256858826]\n"
          ]
        }
      ],
      "source": [
        "results = dcnn.evaluate(X_test, y_test, batch_size=BATCH_SIZE)\n",
        "print(results) "
      ]
    },
    {
      "cell_type": "markdown",
      "metadata": {
        "id": "1PgTMfo5KQZb"
      },
      "source": [
        "NADAM OPTIMIZER"
      ]
    },
    {
      "cell_type": "code",
      "execution_count": null,
      "metadata": {
        "id": "QqYnILACIreL"
      },
      "outputs": [],
      "source": [
        "class DCNN(tf.keras.Model):\n",
        "    \n",
        "    def __init__(self,\n",
        "                 vocab_size,  #Size of the vocabulary used. Will be given by the tokenizer\n",
        "                 emb_dim=128,  #128 is just an intuitive default value, it's used so ofter for embedding \n",
        "                 nb_filters=50,  #Number of times we want to apply each filter\n",
        "                 FFN_units=512,  #Number of units of the feedforward neural network at the end\n",
        "                 nb_classes=2,  #Binary classification as default\n",
        "                 dropout_rate=0.1,  #To turn off certain units/parameters to avoid overfitting\n",
        "                 training=False,  #True if the network is in evaluation phase. Drop out will be applied only in training\n",
        "                 name=\"dcnn\"):  #A name for the network\n",
        "        super(DCNN, self).__init__(name=name)\n",
        "\n",
        "        self.embedding = layers.Embedding(vocab_size,\n",
        "                                          emb_dim)\n",
        "        \n",
        "        self.bigram = layers.Conv1D(filters=nb_filters,\n",
        "                                    kernel_size=2,\n",
        "                                    padding=\"valid\",  #To add the zeros we need to performe the last convolutions\n",
        "                                    activation=\"relu\")\n",
        "        self.trigram = layers.Conv1D(filters=nb_filters,\n",
        "                                    kernel_size=3,\n",
        "                                    padding=\"valid\",  #To add the zeros we need to performe the last convolutions\n",
        "                                    activation=\"relu\")\n",
        "        self.fourgram = layers.Conv1D(filters=nb_filters,\n",
        "                                    kernel_size=4,\n",
        "                                    padding=\"valid\",  #To add the zeros we need to performe the last convolutions\n",
        "                                     activation=\"relu\")\n",
        "        self.pool = layers.GlobalMaxPool1D()  #We'll be using this layer for all pooling steps\n",
        "        self.dense_1 = layers.Dense(units=FFN_units, activation=\"relu\")\n",
        "        self.dropout = layers.Dropout(rate=dropout_rate)  #This is a good place to define dropout since dense_1 with create a lot of params\n",
        "        if nb_classes == 2:  #Easy way to handle multiclasses\n",
        "            self.last_dense = layers.Dense(units=1,\n",
        "                                           activation=\"sigmoid\")\n",
        "        else:\n",
        "            self.last_dense = layers.Dense(units=nb_classes,\n",
        "                                           activation=\"softmax\")\n",
        "    \n",
        "    def call(self, inputs, training):\n",
        "        x = self.embedding(inputs)\n",
        "        x_1 = self.bigram(x)\n",
        "        x_1 = self.pool(x_1)\n",
        "        x_2 = self.trigram(x)\n",
        "        x_2 = self.pool(x_2)\n",
        "        x_3 = self.fourgram(x)\n",
        "        x_3 = self.pool(x_3)\n",
        "\n",
        "        merged = tf.concat([x_1, x_2, x_3], axis=-1) \n",
        "\n",
        "        #merged = tf.concat([x_2], axis=-1)  #(batch_size, 3 * nb_filters) 3 because we have 3 types of filters\n",
        "        merged = self.dense_1(merged)  #Staring the feedforward process\n",
        "        merged = self.dropout(merged, training)  #Applying dropout if training=True\n",
        "        output = self.last_dense(merged)  \n",
        "        \n",
        "        return output\n",
        "\n",
        "#These are basicaly hyperparameters\n",
        "EMB_DIM = 200\n",
        "NB_FILTERS = 100\n",
        "FFN_UNITS = 256\n",
        "NB_CLASSES = 5\n",
        "\n",
        "DROPOUT_RATE = 0.1\n",
        "\n",
        "BATCH_SIZE = 16\n",
        "NB_EPOCHS = 2\n",
        "dcnn = DCNN(vocab_size=VOCAB_SIZE,\n",
        "            emb_dim=EMB_DIM,\n",
        "            nb_filters=NB_FILTERS,\n",
        "            FFN_units=FFN_UNITS,\n",
        "            nb_classes=NB_CLASSES,\n",
        "            dropout_rate=DROPOUT_RATE)\n",
        "\n",
        "if NB_CLASSES == 2:\n",
        "    dcnn.compile(loss=\"binary_crossentropy\",  #Standard loss when doing a binary classification\n",
        "                 optimizer=\"nadam\",\n",
        "                 metrics=[\"accuracy\"])\n",
        "else:\n",
        "    dcnn.compile(loss=\"sparse_categorical_crossentropy\",  #Standard loss when doing a multiclass classification\n",
        "                 optimizer=\"nadam\",\n",
        "                 metrics=[\"sparse_categorical_accuracy\"])\n",
        "     "
      ]
    },
    {
      "cell_type": "code",
      "execution_count": null,
      "metadata": {
        "colab": {
          "base_uri": "https://localhost:8080/"
        },
        "id": "FBb3LL2SI6SW",
        "outputId": "e96a691c-fe5d-490a-de7c-bf8fb272505d"
      },
      "outputs": [
        {
          "name": "stdout",
          "output_type": "stream",
          "text": [
            "Epoch 1/2\n",
            "1671/1671 [==============================] - 144s 85ms/step - loss: 0.2436 - sparse_categorical_accuracy: 0.9160\n",
            "Epoch 2/2\n",
            "1671/1671 [==============================] - 143s 85ms/step - loss: 0.0966 - sparse_categorical_accuracy: 0.9661\n"
          ]
        },
        {
          "data": {
            "text/plain": [
              "<keras.callbacks.History at 0x7f0c4b739dc0>"
            ]
          },
          "execution_count": 159,
          "metadata": {},
          "output_type": "execute_result"
        }
      ],
      "source": [
        "dcnn.fit(X_train, \n",
        "         y_train,\n",
        "         batch_size=BATCH_SIZE,\n",
        "         epochs=NB_EPOCHS)"
      ]
    },
    {
      "cell_type": "code",
      "execution_count": null,
      "metadata": {
        "colab": {
          "base_uri": "https://localhost:8080/"
        },
        "id": "hMjZ427DI8ic",
        "outputId": "6cd1c122-8c1c-412f-8d88-8df2f8e28c1e"
      },
      "outputs": [
        {
          "name": "stdout",
          "output_type": "stream",
          "text": [
            "464/464 [==============================] - 6s 13ms/step - loss: 0.2197 - sparse_categorical_accuracy: 0.9286\n",
            "[0.21965962648391724, 0.9286003112792969]\n"
          ]
        }
      ],
      "source": [
        "results = dcnn.evaluate(X_test, y_test, batch_size=BATCH_SIZE)\n",
        "print(results) "
      ]
    },
    {
      "cell_type": "markdown",
      "metadata": {
        "id": "YHUMVKjUbTX9"
      },
      "source": [
        "AMSGRAD"
      ]
    },
    {
      "cell_type": "code",
      "execution_count": null,
      "metadata": {
        "colab": {
          "base_uri": "https://localhost:8080/"
        },
        "id": "wWQW3HXabM-4",
        "outputId": "0f5f4f78-8b8e-44b6-e5d0-683c8b9c93fd"
      },
      "outputs": [
        {
          "name": "stdout",
          "output_type": "stream",
          "text": [
            "Epoch 1/2\n",
            "1671/1671 [==============================] - 131s 78ms/step - loss: 0.2724 - sparse_categorical_accuracy: 0.9051\n",
            "Epoch 2/2\n",
            "1671/1671 [==============================] - 130s 78ms/step - loss: 0.1109 - sparse_categorical_accuracy: 0.9632\n"
          ]
        },
        {
          "data": {
            "text/plain": [
              "<keras.callbacks.History at 0x7f0c46d6de20>"
            ]
          },
          "execution_count": 173,
          "metadata": {},
          "output_type": "execute_result"
        }
      ],
      "source": [
        "class DCNN(tf.keras.Model):\n",
        "    \n",
        "    def __init__(self,\n",
        "                 vocab_size,  #Size of the vocabulary used. Will be given by the tokenizer\n",
        "                 emb_dim=128,  #128 is just an intuitive default value, it's used so ofter for embedding \n",
        "                 nb_filters=50,  #Number of times we want to apply each filter\n",
        "                 FFN_units=512,  #Number of units of the feedforward neural network at the end\n",
        "                 nb_classes=2,  #Binary classification as default\n",
        "                 dropout_rate=0.5,  #To turn off certain units/parameters to avoid overfitting\n",
        "                 training=False,  #True if the network is in evaluation phase. Drop out will be applied only in training\n",
        "                 name=\"dcnn\"):  #A name for the network\n",
        "        super(DCNN, self).__init__(name=name)\n",
        "\n",
        "        self.embedding = layers.Embedding(vocab_size,\n",
        "                                          emb_dim)\n",
        "        \n",
        "        self.trigram = layers.Conv1D(filters=nb_filters,\n",
        "                                    kernel_size=3,\n",
        "                                    padding=\"valid\",  #To add the zeros we need to performe the last convolutions\n",
        "                                    activation=\"relu\")\n",
        "        self.pool = layers.GlobalMaxPool1D()  #We'll be using this layer for all pooling steps\n",
        "        self.dense_1 = layers.Dense(units=FFN_units, activation=\"relu\")\n",
        "        self.dropout = layers.Dropout(rate=dropout_rate)  #This is a good place to define dropout since dense_1 with create a lot of params\n",
        "        if nb_classes == 2:  #Easy way to handle multiclasses\n",
        "            self.last_dense = layers.Dense(units=1,\n",
        "                                           activation=\"sigmoid\")\n",
        "        else:\n",
        "            self.last_dense = layers.Dense(units=nb_classes,\n",
        "                                           activation=\"softmax\")\n",
        "    \n",
        "    def call(self, inputs, training):\n",
        "        x = self.embedding(inputs)\n",
        "        \n",
        "        x_2 = self.trigram(x)\n",
        "        x_2 = self.pool(x_2)\n",
        "        \n",
        "\n",
        "        merged = tf.concat([ x_2], axis=-1) \n",
        "\n",
        "        #merged = tf.concat([x_2], axis=-1)  #(batch_size, 3 * nb_filters) 3 because we have 3 types of filters\n",
        "        merged = self.dense_1(merged)  #Staring the feedforward process\n",
        "        merged = self.dropout(merged, training)  #Applying dropout if training=True\n",
        "        output = self.last_dense(merged)  \n",
        "        \n",
        "        return output\n",
        "\n",
        "#These are basicaly hyperparameters\n",
        "EMB_DIM = 200\n",
        "NB_FILTERS = 100\n",
        "FFN_UNITS = 256\n",
        "NB_CLASSES = 5\n",
        "\n",
        "DROPOUT_RATE = 0.5\n",
        "\n",
        "BATCH_SIZE = 16\n",
        "NB_EPOCHS = 2\n",
        "dcnn = DCNN(vocab_size=VOCAB_SIZE,\n",
        "            emb_dim=EMB_DIM,\n",
        "            nb_filters=NB_FILTERS,\n",
        "            FFN_units=FFN_UNITS,\n",
        "            nb_classes=NB_CLASSES,\n",
        "            dropout_rate=DROPOUT_RATE)\n",
        "\n",
        "if NB_CLASSES == 2:\n",
        "    dcnn.compile(loss=\"binary_crossentropy\",  #Standard loss when doing a binary classification\n",
        "                 optimizer=\"adam\",\n",
        "                 metrics=[\"accuracy\"])\n",
        "else:\n",
        "    dcnn.compile(loss=\"sparse_categorical_crossentropy\",  #Standard loss when doing a multiclass classification\n",
        "                 optimizer=\"adam\",\n",
        "                 metrics=[\"sparse_categorical_accuracy\"])\n",
        "    \n",
        "dcnn.fit(X_train, \n",
        "         y_train,\n",
        "         batch_size=BATCH_SIZE,\n",
        "         epochs=NB_EPOCHS)"
      ]
    },
    {
      "cell_type": "code",
      "execution_count": null,
      "metadata": {
        "colab": {
          "base_uri": "https://localhost:8080/"
        },
        "id": "R9TW1P--bSG7",
        "outputId": "38ad79b6-86ef-452d-ffa1-4716d5d85e68"
      },
      "outputs": [
        {
          "name": "stdout",
          "output_type": "stream",
          "text": [
            "464/464 [==============================] - 3s 6ms/step - loss: 0.2063 - sparse_categorical_accuracy: 0.9273\n",
            "[0.20634682476520538, 0.9272531270980835]\n"
          ]
        }
      ],
      "source": [
        "results = dcnn.evaluate(X_test, y_test, batch_size=BATCH_SIZE)\n",
        "print(results) "
      ]
    }
  ],
  "metadata": {
    "accelerator": "GPU",
    "colab": {
      "collapsed_sections": [
        "A2mww5GA4OHz"
      ],
      "provenance": [],
      "include_colab_link": true
    },
    "gpuClass": "standard",
    "kernelspec": {
      "display_name": "Python 3",
      "language": "python",
      "name": "python3"
    },
    "language_info": {
      "codemirror_mode": {
        "name": "ipython",
        "version": 3
      },
      "file_extension": ".py",
      "mimetype": "text/x-python",
      "name": "python",
      "nbconvert_exporter": "python",
      "pygments_lexer": "ipython3",
      "version": "3.7.12"
    }
  },
  "nbformat": 4,
  "nbformat_minor": 0
}